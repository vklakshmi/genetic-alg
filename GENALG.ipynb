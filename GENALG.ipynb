{
 "cells": [
  {
   "cell_type": "code",
   "execution_count": 1,
   "metadata": {},
   "outputs": [],
   "source": [
    "import pandas as pd"
   ]
  },
  {
   "cell_type": "code",
   "execution_count": 2,
   "metadata": {},
   "outputs": [],
   "source": [
    "data = pd.read_csv('C:\\\\Users\\\\user\\\\Desktop\\\\Python\\\\Lakshmi\\\\severeinjury1.csv',encoding='cp1252')\n",
    "                   "
   ]
  },
  {
   "cell_type": "code",
   "execution_count": 3,
   "metadata": {},
   "outputs": [],
   "source": [
    "import nltk"
   ]
  },
  {
   "cell_type": "code",
   "execution_count": 4,
   "metadata": {},
   "outputs": [],
   "source": [
    "from nltk.util import ngrams"
   ]
  },
  {
   "cell_type": "code",
   "execution_count": 5,
   "metadata": {},
   "outputs": [],
   "source": [
    "from nltk.tokenize import WhitespaceTokenizer\n",
    "from nltk.stem.snowball import SnowballStemmer\n",
    "stemming = SnowballStemmer(\"english\")\n",
    "data[\"narrative\"]= data[\"title.new\"]+data[\"summary.new\"]"
   ]
  },
  {
   "cell_type": "code",
   "execution_count": 6,
   "metadata": {},
   "outputs": [],
   "source": [
    "def identify_tokens(row):\n",
    "    summary_title = row[\"narrative\"]\n",
    "    tokens = nltk.word_tokenize(summary_title)\n",
    "    token_words = ngrams(tokens,3)\n",
    "    tok = [\" \".join(t) for t in token_words]\n",
    "    return tok"
   ]
  },
  {
   "cell_type": "code",
   "execution_count": 7,
   "metadata": {},
   "outputs": [
    {
     "name": "stdout",
     "output_type": "stream",
     "text": [
      "0      [two workers are, workers are struck, are stru...\n",
      "1      [foreman is fatally, is fatally crushed, fatal...\n",
      "2      [employee suffers abdominal, suffers abdominal...\n",
      "3      [employee 's body, 's body is, body is caught,...\n",
      "4      [employee is punctured, is punctured in, punct...\n",
      "                             ...                        \n",
      "995    [two employees are, employees are killed, are ...\n",
      "996    [employee suffered face, suffered face injury,...\n",
      "997    [machine operator is, operator is injured, is ...\n",
      "998    [two employees are, employees are killed, are ...\n",
      "999    [employee fall from, fall from roof, from roof...\n",
      "Name: words, Length: 1000, dtype: object\n"
     ]
    }
   ],
   "source": [
    "data['words']= data.apply(identify_tokens,axis=1)\n",
    "print(data['words'])"
   ]
  },
  {
   "cell_type": "code",
   "execution_count": 8,
   "metadata": {},
   "outputs": [],
   "source": [
    "def stem_list(row):\n",
    "    my_list = row['words']\n",
    "    stemmed_list = [stemming.stem(word) for word in my_list]\n",
    "    return(stemmed_list)"
   ]
  },
  {
   "cell_type": "code",
   "execution_count": 9,
   "metadata": {},
   "outputs": [
    {
     "data": {
      "text/plain": [
       "0      [two workers ar, workers are struck, are struc...\n",
       "1      [foreman is fat, is fatally crush, fatally cru...\n",
       "2      [employee suffers abdomin, suffers abdominal f...\n",
       "3      [employee 's bodi, s body i, body is caught, i...\n",
       "4      [employee is punctur, is punctured in, punctur...\n",
       "                             ...                        \n",
       "995    [two employees ar, employees are kil, are kill...\n",
       "996    [employee suffered fac, suffered face injuri, ...\n",
       "997    [machine operator i, operator is injur, is inj...\n",
       "998    [two employees ar, employees are kil, are kill...\n",
       "999    [employee fall from, fall from roof, from roof...\n",
       "Name: stemmed_words, Length: 1000, dtype: object"
      ]
     },
     "execution_count": 9,
     "metadata": {},
     "output_type": "execute_result"
    }
   ],
   "source": [
    "data['stemmed_words'] = data.apply(stem_list, axis=1)\n",
    "data['stemmed_words']"
   ]
  },
  {
   "cell_type": "code",
   "execution_count": 10,
   "metadata": {},
   "outputs": [],
   "source": [
    "from nltk.corpus import stopwords\n",
    "stops = set(stopwords.words(\"english\"))                  \n"
   ]
  },
  {
   "cell_type": "code",
   "execution_count": 11,
   "metadata": {},
   "outputs": [],
   "source": [
    "def remove_stops(row):\n",
    "    my_list = row['stemmed_words']\n",
    "    meaningful_words = [w for w in my_list if not w in stops]\n",
    "    return (meaningful_words)"
   ]
  },
  {
   "cell_type": "code",
   "execution_count": 12,
   "metadata": {},
   "outputs": [
    {
     "data": {
      "text/plain": [
       "0      [two workers ar, workers are struck, are struc...\n",
       "1      [foreman is fat, is fatally crush, fatally cru...\n",
       "2      [employee suffers abdomin, suffers abdominal f...\n",
       "3      [employee 's bodi, s body i, body is caught, i...\n",
       "4      [employee is punctur, is punctured in, punctur...\n",
       "                             ...                        \n",
       "995    [two employees ar, employees are kil, are kill...\n",
       "996    [employee suffered fac, suffered face injuri, ...\n",
       "997    [machine operator i, operator is injur, is inj...\n",
       "998    [two employees ar, employees are kil, are kill...\n",
       "999    [employee fall from, fall from roof, from roof...\n",
       "Name: stem_meaningful, Length: 1000, dtype: object"
      ]
     },
     "execution_count": 12,
     "metadata": {},
     "output_type": "execute_result"
    }
   ],
   "source": [
    "data['stem_meaningful'] = data.apply(remove_stops, axis=1)\n",
    "data['stem_meaningful']"
   ]
  },
  {
   "cell_type": "code",
   "execution_count": 13,
   "metadata": {},
   "outputs": [
    {
     "data": {
      "text/plain": [
       "0      two workers ar  workers are struck  are struck...\n",
       "1      foreman is fat  is fatally crush  fatally crus...\n",
       "2      employee suffers abdomin  suffers abdominal fr...\n",
       "3      employee 's bodi  s body i  body is caught  is...\n",
       "4      employee is punctur  is punctured in  puncture...\n",
       "                             ...                        \n",
       "995    two employees ar  employees are kil  are kille...\n",
       "996    employee suffered fac  suffered face injuri  f...\n",
       "997    machine operator i  operator is injur  is inju...\n",
       "998    two employees ar  employees are kil  are kille...\n",
       "999    employee fall from  fall from roof  from roof ...\n",
       "Name: stem_meaningful, Length: 1000, dtype: object"
      ]
     },
     "execution_count": 13,
     "metadata": {},
     "output_type": "execute_result"
    }
   ],
   "source": [
    "from sklearn.feature_extraction.text import TfidfVectorizer\n",
    "import math\n",
    "data['stem_meaningful'] = [\"  \".join(review) for review in data['stem_meaningful'].values]\n",
    "data['stem_meaningful']"
   ]
  },
  {
   "cell_type": "code",
   "execution_count": 14,
   "metadata": {},
   "outputs": [],
   "source": [
    "import numpy as np\n",
    "from sklearn.feature_extraction.text import TfidfVectorizer\n",
    "v=TfidfVectorizer()\n",
    "x=v.fit_transform(data['stem_meaningful'])\n",
    "first_vector_v = x[0]"
   ]
  },
  {
   "cell_type": "code",
   "execution_count": 15,
   "metadata": {},
   "outputs": [
    {
     "data": {
      "text/html": [
       "<div>\n",
       "<style scoped>\n",
       "    .dataframe tbody tr th:only-of-type {\n",
       "        vertical-align: middle;\n",
       "    }\n",
       "\n",
       "    .dataframe tbody tr th {\n",
       "        vertical-align: top;\n",
       "    }\n",
       "\n",
       "    .dataframe thead th {\n",
       "        text-align: right;\n",
       "    }\n",
       "</style>\n",
       "<table border=\"1\" class=\"dataframe\">\n",
       "  <thead>\n",
       "    <tr style=\"text-align: right;\">\n",
       "      <th></th>\n",
       "      <th>tfidf</th>\n",
       "    </tr>\n",
       "  </thead>\n",
       "  <tbody>\n",
       "    <tr>\n",
       "      <th>lane</th>\n",
       "      <td>0.263434</td>\n",
       "    </tr>\n",
       "    <tr>\n",
       "      <th>vehicle</th>\n",
       "      <td>0.230604</td>\n",
       "    </tr>\n",
       "    <tr>\n",
       "      <th>highway</th>\n",
       "      <td>0.224491</td>\n",
       "    </tr>\n",
       "    <tr>\n",
       "      <th>turn</th>\n",
       "      <td>0.215269</td>\n",
       "    </tr>\n",
       "    <tr>\n",
       "      <th>templar</th>\n",
       "      <td>0.187255</td>\n",
       "    </tr>\n",
       "    <tr>\n",
       "      <th>...</th>\n",
       "      <td>...</td>\n",
       "    </tr>\n",
       "    <tr>\n",
       "      <th>expand</th>\n",
       "      <td>0.000000</td>\n",
       "    </tr>\n",
       "    <tr>\n",
       "      <th>exiting</th>\n",
       "      <td>0.000000</td>\n",
       "    </tr>\n",
       "    <tr>\n",
       "      <th>exited</th>\n",
       "      <td>0.000000</td>\n",
       "    </tr>\n",
       "    <tr>\n",
       "      <th>exit</th>\n",
       "      <td>0.000000</td>\n",
       "    </tr>\n",
       "    <tr>\n",
       "      <th>zones</th>\n",
       "      <td>0.000000</td>\n",
       "    </tr>\n",
       "  </tbody>\n",
       "</table>\n",
       "<p>8907 rows × 1 columns</p>\n",
       "</div>"
      ],
      "text/plain": [
       "            tfidf\n",
       "lane     0.263434\n",
       "vehicle  0.230604\n",
       "highway  0.224491\n",
       "turn     0.215269\n",
       "templar  0.187255\n",
       "...           ...\n",
       "expand   0.000000\n",
       "exiting  0.000000\n",
       "exited   0.000000\n",
       "exit     0.000000\n",
       "zones    0.000000\n",
       "\n",
       "[8907 rows x 1 columns]"
      ]
     },
     "execution_count": 15,
     "metadata": {},
     "output_type": "execute_result"
    }
   ],
   "source": [
    "df = pd.DataFrame(first_vector_v.T.todense(),index = v.get_feature_names(),columns = [\"tfidf\"])\n",
    "df.sort_values(by=[\"tfidf\"],ascending=False)"
   ]
  },
  {
   "cell_type": "code",
   "execution_count": 16,
   "metadata": {},
   "outputs": [],
   "source": [
    "from sklearn.preprocessing import LabelEncoder\n",
    "from collections import defaultdict\n",
    "from nltk.corpus import wordnet as wn\n",
    "from sklearn.feature_extraction.text import TfidfVectorizer\n",
    "from sklearn import model_selection, naive_bayes,svm\n",
    "from sklearn.metrics import accuracy_score"
   ]
  },
  {
   "cell_type": "code",
   "execution_count": 17,
   "metadata": {},
   "outputs": [],
   "source": [
    "import numpy as np\n",
    "Train_X, Test_X, Train_Y, Test_Y = model_selection.train_test_split(data['summary.new'],data['Tagged2'],test_size=0.2)"
   ]
  },
  {
   "cell_type": "code",
   "execution_count": 18,
   "metadata": {},
   "outputs": [],
   "source": [
    "Encoder = LabelEncoder()\n",
    "Train_Y = Encoder.fit_transform(Train_Y)\n",
    "Test_Y = Encoder.fit_transform(Test_Y)\n",
    "Train_X_Tfidf = v.transform(Train_X)\n",
    "Test_X_Tfidf = v.transform(Test_X)\n"
   ]
  },
  {
   "cell_type": "code",
   "execution_count": 19,
   "metadata": {},
   "outputs": [
    {
     "name": "stdout",
     "output_type": "stream",
     "text": [
      "{'two': 8286, 'workers': 8843, 'ar': 764, 'are': 777, 'struck': 7604, 'bi': 1093, 'by': 1357, 'motor': 5099, 'vehicl': 8552, 'vehicle': 8553, 'and': 670, 'on': 5370, 'one': 5376, 'is': 4265, 'kil': 4402, 'killed': 4404, 'august': 894, '27': 178, '2013': 143, 'employe': 2785, 'employees': 2789, 'of': 5348, 'templar': 7908, 'inc': 4029, 'construct': 1927, 'construction': 1930, 'compani': 1806, 'company': 1808, 'speci': 7315, 'specializing': 7320, 'in': 4018, 'fib': 3178, 'fiber': 3179, 'opt': 5409, 'optic': 5410, 'instal': 4162, 'installation': 4165, 'servic': 6925, 'services': 6928, 'wer': 8737, 'were': 8738, 'work': 8838, 'working': 8844, 'along': 607, 'highway': 3817, 'th': 7943, 'the': 7950, 'spe': 7313, 'speed': 7334, 'limit': 4646, 'wa': 8648, 'was': 8680, 'post': 5882, 'posted': 5883, 'at': 854, '55': 284, 'mil': 4972, 'miles': 4977, 'per': 5655, 'hour': 3896, 'employee': 2787, 'mark': 4848, 'marking': 4850, 'loc': 4684, 'location': 4692, 'an': 656, 'underground': 8343, 'lin': 4649, 'line': 4652, 'that': 7947, 'ran': 6191, 'below': 1066, 'turn': 8269, 'lan': 4487, 'lane': 4502, 'next': 5213, 'to': 8071, 'perform': 5660, 'performing': 5662, 'duti': 2669, 'duties': 2670, 'flagg': 3248, 'flagger': 3249, 'priv': 5993, 'privately': 5995, 'own': 5502, 'owned': 5503, 'travel': 8187, 'travelling': 8190, 'through': 8013, 'veered': 8547, 'right': 6594, 'ent': 2853, 'entered': 2857, 'both': 1198, 'emerg': 2776, 'emergency': 2778, 'med': 4905, 'medical': 4909, 'cal': 1376, 'called': 1387, 'declar': 2247, 'declared': 2248, 'dead': 2227, 'scen': 6801, 'scene': 6802, 'refus': 6351, 'refused': 6352, 'treat': 8197, 'treatment': 8200, 'for': 3332, 'bruis': 1277, 'bruises': 1280, 'he': 3754, 'receiv': 6260, 'received': 6262, 'when': 8756, 'foreman': 3341, 'fat': 3119, 'fatally': 3122, 'crush': 2127, 'crushed': 2128, 'forklift': 3347, 'tip': 8057, 'tips': 8060, 'ov': 5465, 'over': 5467, 'approxim': 753, 'approximately': 755, '30': 192, 'may': 4876, '13': 51, 'regular': 6362, 'regularly': 6363, 'employ': 2784, 'employed': 2786, 'integr': 4192, 'integrity': 4198, 'rebar': 6251, 'plac': 5768, 'placers': 5772, 'oper': 5395, 'operating': 5398, 'rough': 6679, 'terrain': 7935, 'contract': 1961, 'contracted': 1962, 'job': 4321, 'sit': 7119, 'site': 7120, 'murrieta': 5136, 'ca': 1362, 'us': 8495, 'using': 8503, 'mov': 5110, 'move': 5111, 'bundl': 1316, 'bundles': 1319, 'steel': 7499, 'posit': 5870, 'positioning': 5874, 'pick': 5714, 'up': 8469, 'anoth': 692, 'another': 693, 'load': 4677, 'tipped': 8058, 'back': 940, 'exit': 2978, 'exited': 2979, 'cab': 1363, 'as': 811, 'machin': 4765, 'machine': 4766, 'fel': 3154, 'fell': 3155, 'top': 8091, 'pin': 5740, 'pinning': 5746, 'him': 3825, 'und': 8336, 'under': 8337, 'low': 4733, 'lower': 4734, 'sect': 6869, 'section': 6870, 'boom': 1181, 'crushing': 2131, 'hi': 3809, 'his': 3833, 'abdomen': 390, 'employer': 2790, 'notifi': 5278, 'notified': 5280, 'osha': 5433, 'thi': 7977, 'this': 7990, 'fatality': 3121, '35': 218, 'subsequ': 7641, 'subsequent': 7642, 'investig': 4243, 'investigation': 4246, 'determin': 2363, 'determined': 2365, 'had': 3670, 'been': 1049, 'month': 5075, 'months': 5076, 'suffers': 7667, 'abdomin': 391, 'abdominal': 392, 'fractur': 3371, 'fracture': 3372, 'fal': 3089, 'fall': 3090, 'from': 3411, 'ladd': 4472, 'ladder': 4473, 'april': 759, 'installing': 4169, 'vinyl': 8614, 'sid': 7071, 'sidings': 7082, 'singl': 7115, 'single': 7116, 'stori': 7549, 'story': 7556, 'resid': 6477, 'residence': 6478, 'stand': 7459, 'standing': 7463, 'fram': 3378, 'frame': 3379, 'set': 6931, 'plank': 5778, 'scaffold': 6790, 'moved': 5113, 'caus': 1486, 'causing': 1491, 'los': 4724, 'lose': 4725, 'bal': 970, 'balance': 971, '12': 40, 'ft': 3420, 'ground': 3628, 'transport': 8172, 'transported': 8174, 'area': 778, 'hospit': 3885, 'hospital': 3886, 'wher': 8759, 'where': 8760, 'tr': 8129, 'treated': 8198, 'remain': 6397, 'remained': 6400, 'hospitalized': 3890, 'bodi': 1161, 'body': 1163, 'caught': 1483, 'asphalt': 822, 'di': 2382, 'dies': 2402, 'novemb': 5281, 'november': 5282, '2012': 142, 'pulver': 6099, 'pulverizing': 6100, 'cloth': 1703, 'clothing': 1705, 'zipp': 8902, 'zipper': 8903, 'pul': 6089, 'pulling': 6095, 'into': 4232, 'squeez': 7419, 'squeeze': 7420, 'point': 5828, 'act': 466, 'action': 468, 'amput': 648, 'amputated': 649, 'pronounc': 6040, 'pronounced': 6041, 'punctur': 6106, 'punctured': 6108, 'with': 8821, 'nail': 5149, '11': 33, '57': 290, 'septemb': 6909, 'september': 6910, '28': 182, 'cowork': 2062, 'coworker': 2063, 'their': 7955, 'replac': 6447, 'replace': 6448, 'felt': 3159, 'concret': 1866, 'concrete': 1867, 'til': 8039, 'tile': 8040, 'residenti': 6481, 'residential': 6482, 'onc': 5372, 'once': 5373, 'replaced': 6449, 'would': 8857, 'put': 6128, 'place': 5769, 'remov': 6414, 'removed': 6418, 'debri': 2235, 'debris': 2236, 'roof': 6652, 'dump': 2658, 'dumping': 2660, 'leftov': 4580, 'leftover': 4581, 'dumpst': 2661, 'dumpster': 2662, 'bostitch': 1196, 'gun': 3653, 'model': 5038, 'numb': 5293, 'number': 5294, 'f21pl': 3049, 'seri': 6915, 'serial': 6916, '12194029b': 44, 'insert': 4149, 'nails': 5153, 'roofing': 6656, 'tiles': 8042, 'aft': 534, 'after': 535, 'whil': 8771, 'while': 8772, 'walk': 8659, 'walking': 8661, 'pitch': 5764, 'carri': 1441, 'carrying': 1450, 'slip': 7184, 'slipped': 7185, 'tri': 8211, 'tried': 8217, 'catch': 1474, 'but': 1349, 'went': 8736, 'off': 5349, 'send': 6901, 'sending': 6902, 'cent': 1519, 'center': 1520, 'underw': 8347, 'underwent': 8351, 'surg': 7742, 'surgical': 7747, 'procedur': 6003, 'procedures': 6006, 'postop': 5884, 'postoperative': 5885, 'car': 1417, 'care': 1425, 'carpenter': 1433, 'injur': 4121, 'injured': 4122, 'ceil': 1508, 'ceiling': 1509, 'joist': 4338, 'decemb': 2241, 'december': 2242, 'carpent': 1432, 'valley': 8526, 'trin': 8223, 'trinity': 8224, 'co': 1718, 'engag': 2829, 'engaged': 2831, 'interior': 4213, 'carpentri': 1435, 'carpentry': 1436, 'commerci': 1788, 'commercial': 1789, 'build': 1297, 'building': 1300, 'height': 3782, 'feet': 3153, 'admit': 516, 'admitted': 517, 'bruising': 1281, 'abras': 402, 'abrasions': 404, 'neck': 5182, 'pipeline': 5758, 'worker': 8842, 'falling': 3092, 'cement': 1517, '22': 154, 'southland': 7293, 'tutor': 8278, 'perini': 5666, 'corpor': 2017, 'corporation': 2019, 'pipelin': 5757, 'project': 6030, 'piec': 5723, 'piece': 5724, 'grout': 3638, 'long': 4710, 'out': 5443, 'tunnel': 8263, 'fac': 3056, 'face': 3059, 'abov': 398, 'above': 399, 'invert': 4242, 'pinned': 5745, 'leg': 4582, 'against': 541, 'roadhead': 6617, 'roadheader': 6618, 'sustain': 7763, 'sustained': 7764, 'contusions': 1983, 'did': 2396, 'not': 5268, 'requir': 6466, 'require': 6467, 'hospitalization': 3888, 'incid': 4034, 'incident': 4035, 'report': 6453, 'reported': 6454, 'which': 8769, 'subsequently': 7643, 'led': 4573, 'crushes': 2130, 'suff': 7663, 'poss': 5877, 'possible': 5880, 'juli': 4354, 'july': 4355, 'aquat': 762, 'aquatic': 763, 'environ': 2875, 'environments': 2878, 'mainten': 4784, 'maintenance': 4785, 'backhoe': 947, 'lik': 4639, 'like': 4640, 'equip': 2886, 'equipment': 2887, 'aquamog': 761, 'used': 8500, 'maintain': 4781, 'trap': 8178, 'trapped': 8181, 'between': 1091, 'moving': 5117, 'sw': 7772, 'swing': 7789, 'saddle': 6734, 'previ': 5977, 'previously': 5979, 'installed': 4167, 'vessel': 8586, 'falls': 3093, 'break': 1236, 'breaks': 1241, 'arm': 783, 'jun': 4362, 'june': 4367, '19': 97, 'do': 2535, 'doing': 2550, 'new': 5206, 'hom': 3862, 'home': 3863, 'pap': 5551, 'paper': 5552, 'walked': 8660, 'backward': 955, 'backwards': 956, 'land': 4491, 'landed': 4492, 'dist': 2505, 'distance': 2507, '14': 59, 'left': 4579, 'scrap': 6823, 'scrape': 6824, 'side': 7072, 'driver': 2619, 'hurt': 3926, 'truck': 8238, 'unload': 8407, 'unloading': 8409, 'sand': 6763, 'overturn': 5498, 'overturns': 5500, '18': 88, 'driv': 2616, 'tractor': 8138, 'trail': 8149, 'trailer': 8150, 'deliv': 2285, 'delivering': 2289, 'reach': 6222, 'backed': 941, 'rig': 6589, 'deposit': 2322, 'deposited': 2323, 'pil': 5730, 'pile': 5733, 'dirt': 2441, 'rear': 6244, 'wheel': 8752, 'wheels': 8755, 'rais': 6176, 'raised': 6178, 'meter': 4939, 'meters': 4940, 'level': 4600, 'rest': 6509, 'then': 7960, 'bed': 1046, 'overturned': 5499, 'contus': 1981, 'room': 6659, 'provid': 6069, 'provided': 6071, 'releas': 6384, 'released': 6386, 'setter': 6934, 'sustains': 7766, 'injuri': 4124, 'injuries': 4126, '45': 251, 'sett': 6933, 'jeffrey': 4308, 'razook': 6218, 'firm': 3226, 'ceram': 1528, 'ceramic': 1529, 'six': 7126, 'tim': 8046, 'time': 8050, 'daili': 2183, 'daily': 2184, 'within': 8822, 'proxim': 6076, 'proximity': 6078, 'onsit': 5382, 'onsite': 5383, '16': 75, 'foot': 3325, 'met': 4933, 'extens': 3018, 'extension': 3020, 'ladders': 4475, 'caulk': 1484, 'caulking': 1485, 'edg': 2709, 'edges': 2711, 'five': 3238, 'balconi': 972, 'balconies': 973, 'reached': 6223, 'lost': 4729, 'cottag': 2029, 'cottage': 2030, 'thre': 8004, 'three': 8009, 'hours': 3898, 'divis': 2530, 'division': 2531, 'accid': 421, 'accident': 422, 'santa': 6771, 'barbara': 992, 'fir': 3220, 'fire': 3221, 'depart': 2315, 'department': 2317, 'sam': 6755, 'same': 6757, 'day': 2215, 'it': 4275, 'initi': 4112, 'initiated': 4115, 'inspect': 4155, 'inspection': 4158, 'interview': 4229, 'interviews': 4231, 'conduct': 1882, 'conducted': 1883, 'supervisor': 7714, 'crane': 2076, 'operator': 5403, 'incur': 4057, 'incurs': 4059, 'kne': 4417, 'knee': 4418, 'injury': 4129, 'cran': 2075, '10': 19, 'januari': 4298, 'january': 4299, 'gener': 3502, 'general': 3503, 'rigg': 6590, 'rigger': 6592, 'labor': 4453, 'laborer': 4457, 'mobil': 5033, 'mobile': 5034, 'part': 5575, 'bridg': 1252, 'bridge': 1253, 'repair': 6439, 'being': 1058, 'operated': 5397, 'clos': 1693, 'closed': 1695, 'fast': 3113, 'bridges': 1255, 'westbound': 8743, 'without': 8823, 'outrigg': 5458, 'outriggers': 5460, 'extend': 3014, 'extended': 3016, 'only': 5380, 'jack': 4283, 'jacks': 4290, 'down': 2573, 'becaus': 1040, 'because': 1041, 'closur': 1700, 'closure': 1701, 'allow': 599, 'suffici': 7668, 'sufficient': 7669, 'spac': 7298, 'space': 7299, '17': 83, 'remove': 6417, 'temporari': 7909, 'temporary': 7912, 'platform': 5796, 'located': 4690, 'insid': 4153, 'inside': 4154, 'needl': 5186, 'needle': 5187, 'beam': 1031, 'beams': 1032, 'loaded': 4678, 'onto': 5385, 'flatb': 3269, 'flatbed': 3270, 'park': 5568, 'parked': 5569, 'behind': 1057, 'each': 2682, 'weigh': 8722, 'weighed': 8723, '796': 334, 'pound': 5894, 'pounds': 5895, 'measur': 4895, 'measured': 4897, '21': 149, 'length': 4592, 'lift': 4624, 'lifted': 4625, 'four': 3366, 'removing': 6419, 'fifth': 3187, 'start': 7471, 'started': 7472, 'swinging': 7790, 'control': 1976, 'eastbound': 2698, 'bruise': 1278, 'abrasion': 403, 'maryland': 4856, 'collaps': 1744, 'collapsed': 1746, '50': 271, 'span': 7303, 'creek': 2096, '60': 294, 'collapse': 1745, 'hydraul': 3931, 'hydraulic': 3932, '58': 291, 'angl': 675, 'angle': 676, '65': 306, 'chart': 1571, 'requires': 6471, 'be': 1029, 'maximum': 4875, 'therefor': 7969, 'therefore': 7970, 'outsid': 5461, 'outside': 5462, 'saf': 6736, 'safe': 6737, 'paramet': 5560, 'parameters': 5561, 'required': 6468, 'manufactur': 4832, 'manufacturer': 4835, 'charts': 1572, 'coworkers': 2064, 'expos': 3006, 'exposed': 3008, 'hazard': 3748, 'hazards': 3750, 'suspens': 7761, 'suspension': 7762, 'octob': 5345, 'october': 5346, '2009': 139, 'abrasive': 405, 'blast': 1120, 'clean': 1660, 'cleaning': 1663, 'mcke': 4881, 'mckees': 4882, 'rock': 6625, 'rocks': 6627, 'pa': 5510, 'they': 7976, 'scaffolds': 6792, 'contain': 1943, 'containment': 1948, 'enclos': 2806, 'enclosed': 2807, 'pi': 5713, 'pier': 5726, '00': 0, 'wir': 8814, 'wire': 8815, 'rop': 6663, 'rope': 6664, 'fail': 3078, 'failed': 3079, 'fascia': 3111, 'upriv': 8483, 'upriver': 8484, 'who': 8778, 'close': 1694, '124': 46, 'analyz': 661, 'analyzed': 662, 'materi': 4868, 'materials': 4870, 'failur': 3082, 'failure': 3083, 'salt': 6754, 'lak': 4480, 'lake': 4481, 'techn': 7882, 'technical': 7883, 'analysi': 659, 'analysis': 660, 'rev': 6554, 'revealed': 6555, 'extrem': 3035, 'extreme': 3036, 'abl': 394, 'ablative': 395, 'damag': 2188, 'damage': 2189, 'wires': 8817, 'signific': 7096, 'significant': 7097, 'enough': 2845, 'cause': 1488, 'man': 4801, 'march': 4839, '2001': 131, 'blasting': 1123, 'separ': 6904, 'separate': 6906, 'lifts': 4627, 'hydro': 3933, 'pillar': 5738, 'wat': 8693, 'water': 8697, 'tank': 7848, 'sudden': 7661, 'suddenly': 7662, 'heard': 3768, 'sound': 7282, 'yel': 8889, 'yelled': 8891, 'got': 3565, 'no': 5226, 'respons': 6504, 'response': 6505, 'shon': 7025, 'shone': 7026, 'light': 4632, 'saw': 6780, 'floor': 3286, '25': 168, 'weld': 8729, 'anchor': 664, 'pad': 5515, 'ey': 3041, 'eye': 3042, 'scaffolding': 6791, 'connect': 1904, 'connected': 1905, 'gav': 3494, 'gave': 3495, 'jerk': 4309, 'jerking': 4311, 'appar': 720, 'apparently': 723, 'ti': 8023, 'tied': 8030, 'safeti': 6739, 'safety': 6740, '2000': 129, 'operations': 5401, 'tow': 8112, 'tower': 8117, 'don': 2556, 'donned': 2558, 'protect': 6058, 'protection': 6061, 'edge': 2710, 'or': 5412, 'stumbl': 7616, 'stumbled': 7618, '150': 66, 'thigh': 7980, 'lacer': 4461, 'lacerated': 4462, '1990': 111, 'attempt': 873, 'attempting': 875, 'clear': 1666, 'first': 3228, 'disconnect': 2457, 'disconnected': 2458, 'air': 560, 'suppli': 7720, 'supply': 7723, 'took': 8086, 'nozzl': 5286, 'nozzle': 5287, 'end': 2815, 'held': 3785, 'them': 7956, 'togeth': 8076, 'together': 8077, 'legs': 4587, 'backflush': 944, 'grip': 3616, 'pressur': 5959, 'pressurized': 5964, 'days': 2216, 'laceration': 4465, 'asphyxiated': 825, 'rail': 6168, 'compressor': 1844, 'sandblast': 6764, 'sandblasting': 6766, '620': 300, 'cubic': 2136, 'compart': 1811, 'compartment': 1812, 'oil': 5361, 'hos': 3882, 'hose': 3883, 'cam': 1388, 'came': 1389, 'loos': 4718, 'loose': 4719, 'davey': 2210, '35808': 222, 'wear': 8709, 'wearing': 8710, 'airlin': 567, 'airline': 568, 'respir': 6495, 'respirator': 6496, 'hood': 3868, 'railcar': 6169, 'check': 1574, 'found': 3363, 'unconsci': 8329, 'unconscious': 8330, 'dentur': 2311, 'dentures': 2312, 'lodg': 4701, 'lodged': 4702, 'throat': 8012, 'died': 2398, 'lat': 4516, 'later': 4520, 'du': 2648, 'due': 2655, 'cerebr': 1530, 'cerebral': 1531, 'anoxia': 694, 'brain': 1224, 'death': 2234, 'secondari': 6865, 'secondary': 6866, 'asphyxi': 823, 'asphyxiation': 826, 'telecommun': 7894, 'telecommunications': 7896, 'hoist': 3847, 'hoisted': 3848, '500': 272, 'antenna': 700, 'parts': 5592, 'damaged': 2190, 'lightn': 4636, 'lightning': 4637, 'nylon': 5307, 'frict': 3406, 'friction': 3407, 'winch': 8796, 'attach': 866, 'attached': 867, 'pelican': 5635, 'clip': 1687, 'seat': 6858, 'strap': 7569, 'ring': 6598, 'smal': 7212, 'small': 7213, 'clevi': 1676, 'clevis': 1677, 'tre': 8195, 'tree': 8201, 'saddl': 6733, 'belt': 1067, 'run': 6704, 'hand': 3689, 'loop': 4717, 'short': 7038, 'lanyard': 4504, 'replacement': 6450, 'remaining': 6401, 'clips': 1689, 'waist': 8651, 'rings': 6599, 'her': 3808, 'ful': 3424, 'full': 3427, 'har': 3716, 'harness': 3728, 'rout': 6684, 'routed': 6686, 'mckissik': 4883, 'block': 1138, 'pulley': 6093, 'pieces': 5725, 'climb': 1681, 'climbing': 1684, '475': 259, 'heel': 3781, 'near': 5172, 'bas': 1010, 'base': 1011, 'fre': 3391, 'free': 3392, 'wrap': 8861, 'wrapped': 8862, 'around': 788, 'cathead': 1480, 'capstan': 1415, 'bolt': 1169, 'bolted': 1170, 'jacked': 4284, 'pickup': 5720, 'idl': 3959, 'idling': 3962, 'manual': 4830, 'manually': 4831, 'pulled': 6091, 'hoisting': 3849, '385': 228, 'engin': 2833, 'engine': 2834, 'stal': 7455, 'stalled': 7456, 'restart': 6510, 'drum': 2641, 'guy': 3659, 'about': 397, '210': 150, 'manag': 4802, 'managed': 4803, 'rid': 6581, 'ride': 6582, 'suffer': 7664, 'suffered': 7665, 'fractured': 3373, 'jaw': 4301, 'som': 7265, 'some': 7266, 'rib': 6575, 'ribs': 6576, 'oth': 5435, 'other': 5436, 'intern': 4218, 'internal': 4219, 'sever': 6946, 'severe': 6948, 'burn': 1326, 'burns': 1331, 'hands': 3702, 'trying': 8247, 'stop': 7540, 'disk': 2473, '15': 65, '20': 127, 'wj': 8829, 'lent': 4595, 'contracting': 1963, 'contractor': 1964, 'projects': 6033, 'involv': 4249, 'involving': 4252, 'nonresidenti': 5244, 'nonresidential': 5245, 'buildings': 1301, 'demolish': 2296, 'demolishing': 2298, 'retail': 6533, 'worked': 8841, 'week': 8718, 'weeks': 8720, 'lavina': 4532, '30g': 198, 'pro': 5996, 'propane': 6045, 'pow': 5899, 'powered': 5904, 'inch': 4032, '76': 327, 'planetari': 5776, 'planetary': 5777, 'grind': 3613, 'grinding': 3615, 'polish': 5844, 'polishing': 5845, 'burnish': 1329, 'burnishing': 1330, 'toward': 8114, 'warn': 8676, 'smok': 7224, 'smoke': 7225, 'com': 1770, 'coming': 1782, 'its': 4280, 'flew': 3277, 'simi': 7105, '52': 278, '23': 161, 'lacerates': 4463, 'grinder': 3614, '2011': 141, 'rasmussen': 6206, 'engineering': 2837, 'constructed': 1928, 'highways': 3818, 'transportation': 8173, 'infrastructur': 4098, 'infrastructure': 4099, 'year': 8887, 'years': 8888, 'adjac': 503, 'adjacent': 504, 'show': 7054, 'showing': 7059, 'how': 3903, 'chamf': 1552, 'chamfer': 1553, 'bottom': 1203, 'wal': 8658, 'wall': 8664, 'done': 2557, 'port': 5863, 'portable': 5864, 'dewalt': 2380, 'd28494': 2177, '203': 145, 'millimet': 4983, 'millimeter': 4984, 'guard': 3642, 'guarded': 3643, 'reason': 6246, 'wrist': 8868, 'severely': 6950, 'dur': 2663, 'during': 2666, 'demonstr': 2301, 'demonstration': 2304, 'northridg': 5260, 'northridge': 5261, 'ther': 7961, 'there': 7964, 'ment': 4925, 'mention': 4927, 'viol': 8615, 'violation': 8617, 'ani': 684, 'any': 708, 'titl': 8067, 'title': 8068, 'standard': 7460, 'connection': 1907, 'result': 6525, 'issu': 4271, 'issue': 4272, 'serious': 6918, 'rel': 6378, 'related': 6380, 'cit': 1635, 'citation': 1636, 'citations': 1637, 'issued': 4273, 'cut': 2152, 'cuts': 2155, 'februari': 3143, 'february': 3144, 'stihl': 7520, 'metal': 4934, 'tub': 8248, 'tubing': 8251, 'cutting': 2160, 'brok': 1268, 'broke': 1269, 'mani': 4815, 'many': 4838, 'caused': 1489, 'multipl': 5132, 'multiple': 5133, 'thumb': 8019, '8th': 357, '2010': 140, 'lassen': 4514, 'counti': 2042, 'county': 2043, 'road': 6616, 'pedest': 5629, 'pedestal': 5630, 'tool': 8087, 'mor': 5082, 'more': 5083, 'than': 7946, 'finger': 3209, 'fli': 3280, 'flying': 3310, 'object': 5309, '29': 186, '2005': 135, 'shap': 6970, 'shaping': 6974, 'thick': 7978, 'bucket': 1290, 'bosch': 1194, '1347a': 56, 'r1880022170': 6152, 'screw': 6835, 'handl': 3695, 'handle': 3696, 'miss': 5014, 'missing': 5016, 'several': 6947, 'sait': 6746, '22021': 157, 'type': 8289, 'select': 6894, 'selected': 6895, 'compar': 1809, 'comparable': 1810, 'rated': 6210, 'rpm': 6690, 'rate': 6209, 'experienc': 2991, 'experienced': 2993, 'bind': 1103, 'binding': 1105, 'problem': 6000, 'problems': 6001, 'explain': 2996, 'explained': 2997, 'need': 5184, 'needed': 5185, 'avoid': 921, 'disturb': 2512, 'disturbing': 2515, 'compon': 1837, 'components': 1839, 'began': 1053, 'degre': 2276, 'degree': 2279, 'snag': 7231, 'snagged': 7232, 'apart': 716, 'disloc': 2474, 'dislocated': 2475, 'spindl': 7349, 'spindle': 7350, 'eject': 2725, 'ejected': 2726, 'shield': 7000, 'ansi': 695, 'label': 4450, 'labeled': 4451, 'glass': 3532, 'glasses': 3533, 'impact': 3996, 'upon': 8476, 'faci': 3061, 'facial': 3063, 'lacerations': 4466, 'broken': 1270, 'nos': 5266, 'nose': 5267, 'use': 8499, 'befor': 1051, 'before': 1052, 'rec': 6257, 'receive': 6261, 'train': 8153, 'training': 8157, 'railing': 6170, '40': 234, '2004': 134, 'garag': 3469, 'garage': 3470, 'makita': 4793, '9524nb': 374, 'diamet': 2391, 'diameter': 2392, 'disc': 2449, 'lacerating': 4464, 'furth': 3448, 'further': 3449, 'familiar': 3098, 'structur': 7605, 'structural': 7606, 'handheld': 3691, 'power': 5903, 'unistrut': 8389, 'kick': 4396, 'kicked': 4398, 'spin': 7347, 'spinning': 7352, 'across': 463, 'undergo': 8339, 'extensive': 3021, 'surgeri': 7744, 'surgery': 7746, 'fing': 3208, 'unintend': 8382, 'unintended': 8383, 'activ': 469, 'activation': 473, 'plumb': 5809, 'plumbing': 5812, 'aerospac': 529, 'aerospace': 530, 'manufacturing': 4837, 'pl': 5767, 'plant': 5783, 'plumber': 5810, 'assist': 842, 'assistant': 844, 'assembl': 828, 'assembling': 832, 'pip': 5752, 'pipe': 5753, 'ball': 976, 'valv': 8527, 'valve': 8528, 'thread': 8005, 'threading': 8008, 'ridg': 6583, 'ridge': 6584, '1822': 92, 'switch': 7791, 'ped': 5625, 'pedal': 5626, 'ga': 3453, 'gas': 3478, 'you': 8897, 'step': 7508, 'starts': 7477, 'rot': 6673, 'rotating': 6676, 'stops': 7543, 'fix': 3239, 'fixed': 3241, 'position': 5871, 'stationari': 7488, 'stationary': 7489, 'unintent': 8384, 'unintentionally': 8386, 'activated': 471, 'via': 8591, 'rotate': 6674, 'rotated': 6675, 'fingers': 3210, 'immedi': 3990, 'immediately': 3992, 'eith': 2723, 'either': 2724, 'away': 928, 'turned': 8271, 'typ': 8288, 'howev': 3904, 'however': 3905, 'alreadi': 611, 'already': 612, 'index': 4064, 'bend': 1073, 'bending': 1074, 'ev': 2925, 'event': 2935, 'gripped': 3617, 'california': 1383, 'traff': 8147, 'traffic': 8148, 'con': 1849, 'cones': 1893, 'launch': 4529, 'launched': 4530, '51': 274, 'prepar': 5939, 'preparing': 5946, 'machineri': 4767, 'machinery': 4768, 'suppos': 7729, 'supposed': 7730, 'becam': 1038, 'became': 1039, 'stuck': 7612, 'acceler': 413, 'accelerator': 414, 'could': 2035, 'jump': 4357, 'thrown': 8017, 'written': 8872, 'undergoing': 8340, 'phys': 5709, 'physical': 5710, 'therapi': 7962, 'therapy': 7963, 'exposur': 3011, 'exposure': 3012, 'allerg': 595, 'allergic': 596, 'react': 6226, 'reaction': 6228, '2008': 138, 'elev': 2753, 'elevator': 2758, 'mechan': 4900, 'mechanic': 4901, 'help': 3793, 'helper': 3795, 'compress': 1841, 'compressed': 1842, 'pressure': 5960, 'test': 7936, 'pvc': 6134, 'pit': 5763, 'shaft': 6963, 'liner': 4656, 'tested': 7937, 'ensur': 2850, 'ensure': 2851, 'tight': 8035, 'ruptur': 6714, 'ruptured': 6716, 'hoistway': 3851, 'door': 2561, 'doors': 2562, 'open': 5389, 'spray': 7398, 'sprayed': 7399, 'dust': 2667, 'develop': 2370, 'developed': 2371, 'rash': 6205, 'chest': 1585, 'stomach': 7530, 'autopsi': 906, 'autopsy': 907, 'pulmonari': 6096, 'pulmonary': 6097, 'embol': 2773, 'embolism': 2774, 'mann': 4822, 'manner': 4823, 'natur': 5166, 'natural': 5167, 'burned': 1327, 'wet': 8747, 'pump': 6101, 'pumping': 6103, 'burst': 1336, 'reduc': 6314, 'reducer': 6316, 'elbow': 2730, 'discharg': 2450, 'discharge': 2451, 'blow': 1143, 'blowing': 1145, 'chem': 1580, 'chemical': 1581, 'discharged': 2452, 'accidentally': 424, 'discharges': 2453, '2007': 137, 'framer': 3381, 'starting': 7474, 'sheet': 6990, 'sheeting': 6992, 'hitachi': 3837, 'nr': 5288, '83a': 341, 'nailer': 5151, 'seriously': 6919, 'injuring': 4127, 'presbyterian': 5948, 'nr83a': 5289, 'push': 6123, 'lev': 4599, 'lever': 4603, '877': 349, '391z': 230, 'allowed': 601, 'accidental': 423, 'cited': 1638, 't8ccr': 7809, '3328': 211, 'stream': 7576, 'hot': 3894, 'insul': 4181, 'insulation': 4184, 'pipes': 5760, 'boil': 1166, 'boiler': 1167, 'front': 3414, 'cap': 1409, 'return': 6551, 'blew': 1134, 'fit': 3230, 'fitting': 3235, '185': 94, 'splash': 7357, 'splashed': 7358, 'tar': 7858, 'winkl': 8809, 'winkle': 8810, 'thousand': 8001, 'palm': 5534, 'palms': 5536, 'forearm': 3337, 'cleasbi': 1671, 'cleasby': 1672, 'kettl': 4390, 'kettle': 4391, 'third': 7987, 'leak': 4552, 'leaked': 4553, 'gasolin': 3481, 'gasoline': 3482, 'ignit': 3964, 'ignites': 3967, 'independ': 4061, 'independent': 4062, 'enlarg': 2843, 'enlarge': 2844, 'doorway': 2563, 'opening': 5391, 'poway': 5900, 'hold': 3853, 'holding': 3856, 'overhead': 5481, 'head': 3755, 'ignited': 3966, 'spark': 7309, 'sparks': 7311, 'cr': 2066, 'created': 2094, 'operation': 5399, 'second': 6864, 'perc': 5656, 'percent': 5657, 'uc': 8292, 'san': 6762, 'diego': 2399, 'forearms': 3338, 'vapor': 8537, 'vapors': 8538, 'ignite': 3965, '2002': 132, 'restor': 6515, 'restoration': 6516, 'effort': 2718, 'efforts': 2719, 'bathroom': 1019, 'sitting': 7122, 'toilet': 8080, 'cov': 2055, 'cover': 2056, 'appli': 729, 'applying': 734, 'sunrez': 7695, 'resin': 6486, 'aceton': 440, 'acetone': 441, 'surfac': 7737, 'surface': 7738, 'ultraviolet': 8301, 'halogen': 3680, 'volatil': 8633, 'volatile': 8634, 'facil': 3064, 'facility': 3068, 'returned': 6552, 'follow': 3318, 'following': 3320, 'leadman': 4550, 'waterproof': 8698, 'waterproofing': 8699, 'apartment': 717, 'hollywood': 3861, 'electr': 2733, 'electric': 2734, 'chip': 1596, 'chipping': 1598, 'portion': 5868, 'walls': 8666, 'cleaned': 1661, 'flash': 3264, 'explos': 3003, 'explosion': 3004, 'crew': 2098, 'hous': 3899, 'house': 3900, 'linoleum': 4659, 'hav': 3743, 'have': 3744, 'heat': 3771, 'so': 7240, 'brought': 1275, 'heater': 3773, 'fan': 3100, 'warm': 8675, 'occur': 5337, 'occurred': 5340, 'fallen': 3091, 'trelli': 8203, 'trellis': 8204, 'fractures': 3374, 'razmik': 6217, 'tarkhanian': 7859, 'dba': 2218, 'iron': 4255, 'secur': 6872, 'securing': 6876, 'wide': 8786, 'alon': 605, 'alone': 606, 'bracket': 1222, 'brackets': 1223, 'acetylen': 442, 'acetylene': 443, 'torch': 8097, 'oxy': 5505, 'column': 1768, 'support': 7725, 'supporting': 7727, 'notic': 5274, 'noticed': 5276, 'tube': 8249, 'connecting': 1906, 'northwest': 5263, 'straight': 7561, 'responsible': 6508, 'prop': 6043, 'proper': 6049, 'decid': 2243, 'decided': 2244, 'welded': 8730, 'unaccept': 8305, 'unacceptable': 8306, 'repaired': 6440, 'weight': 8726, 'too': 8085, 'great': 3602, 'welds': 8733, '000': 1, 'corn': 2007, 'corner': 2009, 'design': 2341, 'structure': 7608, 'modifi': 5041, 'modified': 5043, 'unqualifi': 8424, 'unqualified': 8425, '24': 165, 'wel': 8728, 'well': 8734, 'dril': 2606, 'driller': 2609, 'zim': 8901, 'industri': 4076, 'industries': 4078, 'bakersfield': 969, 'oxygen': 5506, 'cas': 1455, 'casing': 1460, 'marked': 4849, 'raise': 6177, 'slag': 7162, 'excess': 2965, 'igniting': 3968, 'unknown': 8400, 'subst': 7646, 'substance': 7647, 'flam': 3255, 'flames': 3257, 'ris': 6604, 'rise': 6605, 'lean': 4556, 'leaning': 4558, 'hit': 3836, 'arms': 786, 'anterior': 703, 'torso': 8105, 'bilater': 1099, 'bilateral': 1100, 'upp': 8477, 'upper': 8478, 'extremities': 3038, 'properly': 6050, 'monitor': 5063, 'prior': 5991, 'appropri': 746, 'appropriate': 747, 'person': 5677, 'personal': 5678, 'protective': 6062, 'sleev': 7173, 'sleeve': 7174, 'shirt': 7018, 'cotton': 2032, 'frc': 3390, 'leather': 4567, 'leathers': 4568, 'welding': 8732, 'glov': 3538, 'gloves': 3542, 'owner': 5504, 'demolit': 2299, 'demolition': 2300, 'main': 4777, 'northern': 5259, 'truss': 8244, 'southern': 7292, 'bent': 1077, 'should': 7047, 'immediate': 3991, 'bobcat': 1160, 'skid': 7137, 'loader': 4679, 'continu': 1953, 'continued': 1955, 'running': 6710, 'vibr': 8592, 'vibrate': 8593, 'larg': 4507, 'large': 4508, 'crash': 2081, 'arriv': 794, 'arrived': 797, 'mortar': 5092, 'explod': 2998, 'explodes': 3001, 'welder': 8731, 'exploded': 3000, 'whihc': 8770, 'board': 1153, 'sign': 7087, 'erect': 2891, 'erecting': 2893, 'billboard': 1101, 'ralph': 6183, 'surl': 7749, 'surles': 7750, 'doubl': 2569, 'double': 2570, 'signs': 7098, 'upright': 8481, 'tall': 7840, 'deep': 2259, 'catwalk': 1482, 'toppl': 8092, 'toppled': 8094, 'wit': 8820, 'witness': 8826, 'summon': 7686, 'summoned': 7687, 'respond': 6500, 'responders': 6502, 'extr': 3030, 'extricate': 3039, 'airlift': 565, 'airlifted': 566, 'fort': 3358, 'worth': 8856, 'unspecifi': 8441, 'unspecified': 8442, 'windi': 8800, 'windy': 8806, 'weath': 8711, 'weather': 8712, 'condit': 1874, 'conditions': 1879, 'contribut': 1971, 'contributed': 1972, 'aeri': 526, 'aerial': 527, 'eagl': 2683, 'eagle': 2684, '44': 249, 'towable': 8113, '17901': 87, 'approximate': 754, '32': 202, 'stor': 7544, 'store': 7547, 'cylind': 2170, 'cylinder': 2171, 'witnesses': 8828, 'ind': 4060, 'indicated': 4067, 'basket': 1015, 'restrain': 6519, 'restrained': 6520, 'renown': 6431, 'vertebra': 8580, 'fingertip': 3211, 'toad': 8073, 'warning': 8678, 'barri': 1001, 'barriers': 1007, 'direct': 2434, 'directional': 2438, 'arrow': 799, 'freeway': 3393, 'panel': 5543, 'middl': 4961, 'middle': 4962, 'avuls': 922, 'avulsed': 923, 'electrocuted': 2741, 'paint': 5525, 'painting': 5529, 'outdoor': 5448, '2006': 136, 'situ': 7123, 'situated': 7124, 'directly': 2439, '200': 128, 'volt': 8635, 'electrocut': 2740, 'rush': 6719, 'rushed': 6720, 'responded': 6501, 'basic': 1014, 'noth': 5272, 'nothing': 5273, 'associ': 847, 'associated': 848, 'lines': 4657, 'trad': 8142, 'trade': 8143, 'knowledg': 4432, 'knowledgeable': 4434, 'requirements': 6470, 'schedul': 6803, 'scheduled': 6805, 'special': 7316, 'provis': 6074, 'provisions': 6075, 'acknowledg': 449, 'acknowledged': 451, 'positioned': 5873, 'opposit': 5407, 'opposite': 5408, 'dismantl': 2483, 'dismantle': 2484, 'aluminum': 622, 'wav': 8702, 'wave': 8703, 'harnesses': 3729, 'lanyards': 4505, 'cable': 1369, 'bundled': 1318, 'lowered': 4735, 'bundle': 1317, 'pav': 5611, 'paved': 5613, 'parking': 5571, 'lot': 4730, 'limb': 4644, 'frog': 3409, 'frogs': 3410, 'eucalyptus': 2924, 'also': 613, 'chain': 1545, 'branch': 1230, 'branches': 1231, 'initially': 4114, 'eight': 2720, 'sections': 6871, 'halfway': 3677, 'lowest': 4737, 'crotch': 2118, 'mad': 4772, 'made': 4773, 'instead': 4173, 'towards': 8115, 'able': 396, 'way': 8704, 'strik': 7586, 'striking': 7589, 'forehead': 3339, 'blunt': 1151, 'forc': 3333, 'force': 3334, 'trauma': 8184, 'paramed': 5557, 'paramedics': 5559, 'iat': 3948, 'assisting': 846, '135': 57, 'consist': 1920, 'consisted': 1921, 'demo': 2293, 'group': 3636, 'southwestern': 7296, 'most': 5093, 'earli': 2687, 'earlier': 2688, 'issues': 4274, 'northwestern': 5264, 'get': 3520, 'breaking': 1240, '625': 302, 'chok': 1607, 'choker': 1610, 'extract': 3032, 'pre': 5912, 'al': 577, 'all': 589, 'shackl': 6956, 'shackles': 6958, 'lo': 4676, 'south': 7288, 'elevated': 2754, 'fin': 3202, 'final': 3203, 'north': 5256, 'booming': 1183, 'west': 8741, 'everi': 2939, 'every': 2940, 'boomed': 1182, 'accord': 433, 'according': 435, '80': 335, 'swung': 7798, 'pushing': 6127, 'controls': 1980, 'nurs': 5298, 'nurses': 5300, 'attent': 879, 'attention': 880, 'personnel': 5680, 'collapsing': 1748, 'trusses': 8245, 'nor': 5251, 'son': 7275, 'exterior': 3023, 'scissor': 6814, 'knock': 4426, 'knocked': 4427, 'stil': 7521, 'still': 7522, 'baskets': 1018, 'painter': 5527, 'injures': 4123, '09': 17, 'painters': 5528, 'plast': 5788, 'plastic': 5792, 'sidewalk': 7076, 'sidewalks': 7077, 'thes': 7974, 'these': 7975, 'surfaces': 7740, 'splatt': 7360, 'splatter': 7361, 'eav': 2704, 'eaves': 2706, 'styl': 7621, 'style': 7622, 'self': 6898, 'propel': 6046, 'propelled': 6047, 'elevation': 2756, 'reloc': 6391, 'relocate': 6392, 'drov': 2633, 'drove': 2634, 'storm': 7552, 'drain': 2589, 'gr': 3567, 'grate': 3593, 'obstruct': 5318, 'obstructed': 5319, 'tir': 8061, 'tire': 8062, 'jumped': 4358, 'electrician': 2737, 'electrical': 2735, 'wiring': 8818, 'subcontractor': 7630, 'stag': 7438, 'stage': 7439, 'skyjack': 7154, 'sj111': 7133, '3219': 205, '103319': 26, 'intend': 4199, 'intended': 4200, 'conduit': 1889, 'pushed': 6126, 'forward': 3361, 'pull': 6090, 'look': 4714, 'looking': 4716, 'guardrail': 3644, 'controller': 1978, 'dr': 2579, 'drive': 2617, 'ros': 6667, 'rose': 6669, 'realiz': 6238, 'realized': 6240, 'toggl': 8078, 'toggle': 8079, 'mod': 5036, 'mode': 5037, 'eventu': 2937, 'eventually': 2938, 'br': 1216, 'bring': 1265, 'mateo': 4867, 'respect': 6492, 'respectively': 6494, 'particip': 5580, 'participating': 5581, 'superintend': 7706, 'superintendent': 7707, 'field': 3185, 'manager': 4805, 'leas': 4563, 'leased': 4564, 'sunst': 7698, 'sunstate': 7699, 'sinc': 7113, 'since': 7114, 'possess': 5878, 'possession': 5879, 'relay': 6383, 'correct': 2021, 'st': 7423, 'steering': 7503, 'box': 1213, 'inability': 4019, 'go': 3548, 'cod': 1730, 'code': 1731, 'regul': 6361, 'regulations': 6366, 't8': 7808, 'ccr': 1502, 'instruct': 4175, 'iii': 3971, 'accordance': 434, 'instructions': 4178, '3203': 203, 'il': 3974, 'illness': 3978, 'prevent': 5973, 'prevention': 5976, 'program': 6024, '3638': 224, 'clin': 1685, 'clinic': 1686, 'fork': 3346, 'forks': 3348, 'terex': 7929, 'ss': 7422, '636': 304, 'turbo': 8266, 'squar': 7413, 'square': 7414, 'shoot': 7028, 'shooter': 7029, 'telehandl': 7897, 'telehandler': 7898, 'rol': 6638, 'rolled': 6641, 'hil': 3819, 'hill': 3820, 'kicks': 4399, 'fulltim': 3429, 'fulltime': 3430, 'noncontract': 5235, 'framing': 3384, 'plywood': 5819, 'radi': 6158, 'radial': 6159, 'such': 7658, 'skilsaw': 7147, 'blad': 1114, 'blade': 1117, 'bound': 1210, 'necessit': 5180, 'necessitated': 5181, 'manlift': 4821, 'seven': 6943, 'taken': 7834, 'local': 4687, 'stay': 7493, 'sent': 6903, 'rehabilit': 6368, 'rehabilitation': 6369, 'rafael': 6162, 'climbed': 1682, 'awn': 930, 'awning': 931, 'stepped': 7511, 'perfor': 5658, 'perforated': 5659, 'grad': 3572, 'grade': 3573, 'earth': 2691, 'gravel': 3596, 'drywall': 2645, 'installer': 4168, 'drywal': 2644, 'warehous': 8673, 'warehouse': 8674, 'tap': 7852, 'taper': 7854, 'spot': 7386, 'spotting': 7390, 'screws': 6840, 'li': 4608, 'lying': 4762, 'pron': 6036, 'prone': 6037, 'bleed': 1130, 'bleeding': 1132, 'fullerton': 3428, 'univers': 8394, 'university': 8396, 'irvin': 4263, 'irvine': 4264, 'uci': 8293, 'observ': 5313, 'observation': 5315, 'addit': 490, 'addition': 491, 'attempts': 876, 'interviewed': 4230, 'establish': 2915, 'lunch': 4757, 'assign': 837, 'assigned': 838, 'minut': 4999, 'minutes': 5001, 'stow': 7559, 'stowed': 7560, 'finish': 3213, 'finisher': 3215, 'memb': 4914, 'member': 4915, 'finishers': 3216, 'region': 6357, 'regional': 6358, 'union': 8387, '1136': 37, 'certifi': 1537, 'certified': 1540, 'user': 8501, 'specialized': 7318, 'specif': 7323, 'specific': 7325, 'shock': 7020, 'masonri': 4858, 'masonry': 4859, 'medic': 4908, 'llc': 4673, 'chimney': 1594, 'contact': 1939, '7200': 323, 'additional': 492, 'inform': 4094, 'information': 4095, 'fractu': 3369, 'fractues': 3370, '11ft': 39, 'flown': 3295, 'stanford': 7467, 'twenty': 8282, 'ankl': 685, 'ankle': 686, 'electricians': 2738, 'geni': 3510, 'genie': 3511, '23n': 163, 'z40n11': 8900, '1428': 62, 'elevating': 2755, 'install': 4164, 'un': 8303, 'unable': 8304, 'determine': 2364, 'circumst': 1633, 'circumstances': 1634, 'surround': 7751, 'surrounding': 7753, 'painted': 5526, 'condominium': 1880, 'complex': 1832, 'designed': 2343, 'resident': 6480, 'jlg': 4318, '600': 295, '600s': 297, '0954270300042766': 18, 'attempted': 874, 'begin': 1054, 'window': 8801, 'trim': 8221, 'mast': 4863, 'station': 7487, 'includ': 4043, 'including': 4046, 'helicopt': 3789, 'helicopter': 3790, 'mak': 4788, 'make': 4789, '450aj': 253, 'series': 6917, 'ii': 3970, 'assignment': 840, 'appear': 724, 'appeared': 725, 'slump': 7207, 'slumped': 7208, 'rails': 6173, 'proceed': 6007, 'proceeded': 6008, 'investigate': 4244, 'commun': 1792, 'communicate': 1793, 'manu': 4829, 'dislodg': 2479, 'dislodge': 2480, 'stat': 7479, 'stated': 7481, 'pol': 5834, 'poles': 5838, 'form': 3349, 'formed': 3352, 'steer': 7501, 'joystick': 4345, 'dislodged': 2481, 'cpr': 2065, 'administ': 511, 'administered': 512, 'differ': 2404, 'different': 2406, 'levers': 4606, 'movement': 5114, 'activate': 470, 'street': 7577, 'hear': 3767, 'hearing': 3769, 'unit': 8391, 'attend': 877, 'attended': 878, 'rescu': 6473, 'rescue': 6474, 'nearbi': 5173, 'nearby': 5174, 'mechanical': 4902, 'compression': 1843, 'error': 2902, 'patch': 5602, 'hol': 3852, 'holes': 3858, 'northeast': 5258, 'outer': 5450, 'maneuv': 4810, 'maneuvered': 4812, 'discov': 2462, 'discovered': 2463, 'extricated': 3040, 'until': 8459, 'le': 4543, 'lee': 4578, 'memori': 4921, 'memorial': 4922, 'my': 5145, 'myers': 5146, 'fl': 3246, 'articul': 808, 'articulating': 810, 'brac': 1217, 'braces': 1220, 'newli': 5209, 'newly': 5210, 'gird': 3525, 'girder': 3526, 'facad': 3057, 'facade': 3058, 'mezzanin': 4955, 'mezzanine': 4956, 'far': 3102, 'heads': 3763, 'necks': 5183, 'shoulders': 7049, 'bernandino': 1082, '660sj': 309, '03': 9, '00060394': 2, 'ledg': 4574, 'ledger': 4576, 'angles': 678, 'earthen': 2692, 'underneath': 8344, 'inadvert': 4023, 'inadvertently': 4025, 'himself': 3826, 'flang': 3261, 'flange': 3262, 'ironwork': 4256, 'ironworker': 4257, 'surged': 7743, 'shook': 7027, 'men': 4923, 'loma': 4708, 'linda': 4651, 'samew': 6758, 'facing': 3069, 'direction': 2437, 'traveling': 8189, 'purlin': 6117, '400': 235, '400s': 237, '30079117': 194, 'bracing': 1221, 'seem': 6884, 'seemed': 6885, 'blu': 1149, 'blue': 1150, 'cardio': 1423, 'resuscit': 6531, 'resuscitation': 6532, 'unsuccess': 8449, 'unsuccessful': 8450, 'brace': 1218, 'identifi': 3955, 'identified': 3956, 'stick': 7516, 'controlled': 1977, 'upward': 8489, 'slowli': 7200, 'slowly': 7201, 'examin': 2949, 'examination': 2950, 'harden': 3719, 'hardened': 3720, 'compact': 1802, 'compacted': 1803, 'granular': 3585, 'material': 4869, 'built': 1303, 'centering': 1522, 'spr': 7395, 'spring': 7405, 'prev': 5972, 'prevented': 5974, 'abs': 406, 'absence': 407, 'greas': 3600, 'grease': 3601, 'lubric': 4746, 'lubricant': 4747, 'funct': 3434, 'functioned': 3437, 'centered': 1521, 'pocket': 5826, 'manufacturers': 4836, 'sm2129e': 7211, '14017': 61, 'half': 3676, 'knob': 4425, 'release': 6385, 'det': 2352, 'detent': 2362, 'statements': 7483, 'devic': 2374, 'device': 2375, 'operational': 5400, 'kills': 4406, 'dairi': 2185, 'dairy': 2186, 'farm': 3103, '41': 240, 'old': 5367, 'mal': 4794, 'male': 4795, 'unlicens': 8403, 'unlicensed': 8404, 'delmar': 2291, 'van': 8530, 'dam': 2187, 'high': 3812, 'desert': 2340, 'constructing': 1929, '90': 358, 'hay': 3747, 'barn': 997, 'worksit': 8850, 'worksite': 8851, 'lancast': 4488, 'lancaster': 4489, 'ingersol': 4101, 'rand': 6194, 'vr': 8643, '1056': 30, '167290': 81, '113ch6': 38, '218500a': 152, 'vert': 8579, 'vertical': 8583, 'uprights': 8482, '375': 226, 'whit': 8775, 'white': 8776, 'fence': 3167, 'yellow': 8893, 'retriev': 6545, 'retrieving': 6548, 'transf': 8162, 'transferred': 8164, 'angel': 673, 'angeles': 674, 'coron': 2011, 'coroner': 2015, 'traumat': 8185, 'traumatic': 8186, 'causal': 1487, 'factor': 3071, 'apparatus': 721, 'effect': 2712, 'effectively': 2714, 'secured': 6874, 'supported': 7726, 'factors': 3073, 'include': 4044, 'limited': 4647, 'environment': 2876, 'environmental': 2877, 'wind': 8799, 'vandam': 8531, 'conducts': 1888, 'farming': 3105, 'activities': 475, 'baling': 975, 'involved': 4250, 'agricultur': 555, 'agricultural': 556, 'purpos': 6119, 'purposes': 6122, 'placing': 5773, 'caps': 1414, 'ridgelin': 6585, 'ridgeline': 6586, 'skylight': 7155, 'tular': 8255, 'tulare': 8256, 'sheriff': 6998, 'community': 1797, 'fresno': 3403, 'district': 2511, 'offic': 5351, 'office': 5352, 'investigated': 4245, 'included': 4045, 'refer': 6329, 'reference': 6330, 'insufficient': 4180, 'lack': 4468, 'ugstad': 8295, 'ramp': 6188, 'ramps': 6189, 'squeaki': 7417, 'squeaky': 7418, 'universal': 8395, 'joint': 4334, 'fergus': 3171, 'polic': 5840, 'police': 5841, 'lifting': 4626, 'jak': 4293, 'jake': 4294, 'marshal': 4852, 'marshall': 4853, 'service': 6926, 'going': 3551, 'placed': 5770, 'condition': 1875, 'conditioner': 1877, 'units': 8393, 'tie': 8028, 'hung': 3919, 'gutt': 3656, 'gutter': 3657, 'leaned': 4557, 'maneuver': 4811, 'aat': 382, 'suffolk': 7673, 'roel': 6634, 'provide': 6070, 'deck': 2245, 'decking': 2246, 'hvac': 3928, 'duct': 2650, 'nin': 5219, 'nine': 5220, 'spread': 7401, 'spreader': 7402, 'bar': 991, 'stud': 7613, 'track': 8133, 'stem': 7505, 'id': 3953, 'ideal': 3954, 'access': 415, 'cardboard': 1421, 'containing': 1947, 'filt': 3197, 'filters': 3199, 'hatch': 3735, 'cli': 1678, 'client': 1679, 'origin': 5425, 'originated': 5428, 'wooden': 8834, 'landing': 4496, 'stair': 7445, 'stairs': 7448, 'descend': 2332, 'descending': 2334, '26': 174, 'bay': 1026, 'system': 7804, 'systems': 7805, 'multiemploy': 5128, 'multiemployer': 5129, 'fitness': 3231, 'lay': 4535, 'laying': 4538, 'hug': 3910, 'huge': 3911, 'wait': 8653, 'waiting': 8655, 'sideway': 7079, 'sideways': 7080, 'stepping': 7512, 'eden': 2708, 'castro': 1465, 'collar': 1749, 'bon': 1174, 'bone': 1177, 'spine': 7351, 'amputates': 650, 'johnson': 4332, 'conducting': 1884, 'marin': 4845, 'marine': 4847, 'laboratori': 4454, 'laboratory': 4456, 'handler': 3698, 'basement': 1013, 'exhaust': 2971, 'resulted': 6526, 'heating': 3775, 'conditioning': 1878, 'distribut': 2508, 'distribution': 2510, 'perman': 5669, 'permanent': 5670, 'startup': 7478, 'mount': 5104, 'mounted': 5106, 'condens': 1872, 'condenser': 1873, '89': 353, 'inches': 4033, 'east': 2697, 'covered': 2057, 'acryl': 464, 'acrylic': 465, 'plexigla': 5799, 'plexiglas': 5800, 'talk': 7838, 'talking': 7839, 'cel': 1511, 'cell': 1512, 'phon': 5702, 'phone': 5703, 'stood': 7539, 'stumble': 7617, 'trip': 8225, '39': 229, 'appropriately': 748, 'protected': 6060, 'repairing': 6441, 'tran': 8160, 'trane': 8161, 'compressors': 1845, 'capable': 1410, 'deenerg': 2256, 'deenergized': 2258, 'panelboard': 5544, 'dismantled': 2485, 'coil': 1737, 'tape': 7853, 'contacted': 1940, 'energ': 2820, 'energized': 2823, '277': 180, 'conductor': 1886, 'contacting': 1941, 'coils': 1738, 'handling': 3700, 'detail': 2356, 'details': 2357, 'original': 5426, 'narr': 5157, 'narrative': 5159, 'kangaroot': 4374, 'kangarooter': 4375, 'aug': 891, 'auger': 892, 'ram': 6184, 'controlling': 1979, 'unexpect': 8360, 'unexpectedly': 8363, 'femur': 3164, 'airborn': 561, 'airborne': 562, 'fungus': 3440, 'hobb': 3843, 'hobbs': 3844, 'mexico': 4954, 'coccidioid': 1727, 'coccidioides': 1728, 'im': 3981, 'imitis': 3989, 'produc': 6011, 'produces': 6013, 'spor': 7382, 'spores': 7383, 'can': 1394, 'inh': 4105, 'inhaled': 4110, 'diagnos': 2383, 'diagnosed': 2385, 'fev': 3174, 'fever': 3175, 'manhol': 4813, 'manhole': 4814, '36': 223, 'opened': 5390, 'flamm': 3259, 'flammable': 3260, 'explode': 2999, 'inhabit': 4106, 'inhabited': 4107, 'multi': 5127, 'previous': 5978, 'occas': 5324, 'occasions': 5328, 'expose': 3007, 'members': 4916, 'subject': 7637, 'results': 6528, 'testing': 7939, 'lab': 4449, 'showed': 7055, 'mold': 5050, 'pres': 5947, 'present': 5949, 'encapsul': 2802, 'encapsulate': 2803, 'spraying': 7400, 'kilz': 4413, 'aerosol': 528, 'vis': 8621, 'visible': 8624, 'partit': 5587, 'partition': 5588, 'homeown': 3864, 'homeowner': 3865, 'kitchen': 4415, 'exhausted': 2972, 'ounce': 5441, 'sized': 7131, 'cans': 1402, 'plug': 5805, 'plugged': 5806, 'outlet': 5454, 'omniair': 5368, 'omniaire': 5369, '1000v': 22, 'hepa': 3807, 'filtr': 3200, 'filtration': 3201, 'ignition': 3969, 'sourc': 7285, 'source': 7286, 'introduc': 4240, 'introduced': 4241, 'concentr': 1852, 'concentrated': 1853, 'bodies': 1162, 'faces': 3060, 'inpati': 4143, 'inpatient': 4144, 'filtering': 3198, 'particul': 5584, 'particulates': 5586, 'providing': 6073, 'neg': 5189, 'negative': 5190, 'asbesto': 812, 'asbestos': 813, 'abat': 387, 'abatement': 389, 'list': 4662, 'listed': 4663, 'meet': 4912, 'meeting': 4913, 'ul': 8296, 'underwrit': 8352, 'underwriters': 8353, 'laboratories': 4455, 'ul507': 8297, 'fans': 3101, 'listing': 4664, 'hazardous': 3749, 'atmospher': 859, 'atmospheres': 861, 'vari': 8539, 'variable': 8541, 'emerson': 2779, 'iipp': 3972, 'lacked': 4469, 'el': 2729, 'elements': 2752, 'trained': 8155, 'health': 3764, 'improp': 4013, 'improper': 4014, 'atmosphere': 860, 'accordingly': 436, 'drown': 2635, 'drowns': 2638, 'dock': 2536, 'docks': 2537, 'fend': 3169, 'fender': 3170, 'panels': 5546, 'pneumat': 5821, 'pneumatic': 5822, 'tools': 8089, 'fifteen': 3186, 'drowned': 2636, 'possibly': 5881, 'protrud': 6065, 'protruding': 6066, 'asphyxia': 824, 'inhaling': 4111, 'nitrogen': 5225, 'supplied': 7721, 'injuried': 4125, 'publ': 6087, 'public': 6088, 'montebello': 5074, 'overnight': 5488, 'accumul': 437, 'accumulation': 439, 'methan': 4945, 'methane': 4946, 'prob': 5997, 'probably': 5998, 'soil': 7249, 'soils': 7250, 'abandon': 385, 'abandoned': 386, 'wells': 8735, 'preentri': 5924, 'preentry': 5925, 'purg': 6113, 'purging': 6115, 'monitoring': 5065, 'confin': 1898, 'confined': 1899, 'arc': 766, 'sparked': 7310, 'gases': 3479, 'h2': 3664, 'h2s': 3665, 'heart': 3770, 'attack': 871, 'hir': 3831, 'hired': 3832, 'rocki': 6626, 'rocky': 6630, 'excav': 2954, 'excavation': 2958, 'intersect': 4225, 'intersection': 4226, 'clifford': 1680, 'alvin': 624, 'texa': 7941, 'texas': 7942, 'atmospheric': 862, 'continuous': 1958, 'usu': 8506, 'usually': 8508, 'does': 2547, 'programs': 6025, 'csho': 2134, 'collect': 1753, 'collected': 1754, 'sampl': 6759, 'samples': 6761, 'hole': 3857, 'lel': 4589, 'examiner': 2953, 'rul': 6699, 'ruled': 6701, 'atherosclerot': 857, 'atherosclerotic': 858, 'hypertens': 3943, 'hypertensive': 3945, 'cardiovascular': 1424, 'diseas': 2467, 'disease': 2468, 'harri': 3730, 'harris': 3731, 'suffoc': 7670, 'suffocates': 7672, 'wid': 8785, 'traveled': 8188, 'breath': 1242, 'boss': 1195, 'planting': 5786, 'planted': 5784, 'gain': 3456, 'caut': 1494, 'caution': 1495, 'intak': 4190, 'intake': 4191, 'generator': 3508, 'hip': 3829, '4s': 268, '75': 326, 'elli': 2762, 'ellis': 2763, 'fiv': 3237, 'replacing': 6451, 'cop': 1997, 'coping': 1999, 'ston': 7531, 'stones': 7536, 'parapet': 5562, 'tarred': 7863, 'making': 4792, 'someth': 7270, 'something': 7271, 'stories': 7550, 'dtori': 2646, 'dtory': 2647, 'tal': 7837, 'ducts': 2653, 'ductwork': 2654, 'crawl': 2087, 'complet': 1826, 'complete': 1827, 'dark': 2203, 'darkness': 2204, 'plenum': 5798, '48': 261, 'hatchway': 3737, '1993': 113, 'drop': 2629, 'dropped': 2630, 'ventil': 8562, 'ventilation': 8564, 'retrieve': 6546, 'descended': 2333, 'levels': 4602, '97': 376, '133': 53, 'rectangular': 6305, 'although': 620, 'ord': 5418, 'orders': 5422, 'mean': 4891, 'means': 4892, 'unsaf': 8432, 'unsafe': 8433, 'tak': 7832, 'take': 7833, 'stack': 7430, 'stacked': 7431, 'buckets': 1291, 'stopping': 7542, 'occasion': 5325, 'occasional': 5326, 'projection': 6032, 'sustaining': 7765, 'journeyman': 4343, '1991': 112, 'sixth': 7127, '34': 214, 'reaching': 6225, 'progress': 6026, 'entri': 2869, 'entry': 2870, 'draft': 2580, '38': 227, 'escap': 2905, 'escape': 2906, 'mixture': 5028, 'eyes': 3044, 'comes': 1779, '1989': 110, '70': 316, '1700': 85, 'polyvinyl': 5853, 'chlorid': 1601, 'chloride': 1602, 'entr': 2867, 'entrance': 2868, 'coupl': 2044, 'coupling': 2049, 'mixtur': 5027, 'paving': 5616, 'airstrip': 574, 'airplan': 570, 'airplane': 571, 'decapit': 2237, 'decapitated': 2238, 'pave': 5612, 'seal': 6848, 'private': 5994, 'crop': 2109, 'dusting': 2668, 'bigg': 1097, 'biggs': 1098, 'blower': 1144, 'neared': 5175, 'completion': 1831, 'runway': 6713, '300': 193, 'plan': 5774, 'plane': 5775, 'loading': 4680, 'hangar': 3706, 'hangars': 3707, 'pilot': 5739, 'schw': 6812, 'schweizer': 6813, 'aircraft': 563, '164': 80, 'approach': 743, 'approached': 744, 'taxi': 7872, 'taxied': 7873, 'propeller': 6048, 'sacramento': 6731, 'butt': 1350, 'butte': 1351, 'tail': 7825, 'dragg': 2583, 'dragger': 2585, 'visibility': 8623, 'taxiing': 7874, 'preliminari': 5931, 'preliminary': 5932, 'reports': 6457, 'spott': 7387, 'spotters': 7389, 'vest': 8587, 'impair': 3999, 'impaired': 4000, 'crashes': 2083, '260': 175, 'kv': 4444, 'transmiss': 8170, 'transmission': 8171, 'rotor': 6678, 'shrapnel': 7061, 'rigging': 6593, 'gained': 3457, 'killing': 4405, 'collapses': 1747, '05': 11, 'csa': 2133, 'constructor': 1931, 'constructors': 1932, 'remodel': 6409, 'remodeling': 6411, 'commut': 1798, 'commuter': 1800, 'termin': 7931, 'terminal': 7932, 'american': 636, 'airlines': 569, 'eagles': 2685, 'nest': 5198, 'international': 4220, 'airport': 572, 'passeng': 5596, 'passengers': 5598, 'activity': 476, 'serv': 6922, 'served': 6924, 'purpose': 6120, 'sided': 7073, 'crow': 2121, 'pri': 5980, 'pry': 6079, 'dispos': 2499, 'disposal': 2500, 'pried': 5981, 'suspend': 7759, 'suspended': 7760, 'lath': 4523, 'stucco': 7611, 'knocking': 4428, 'littl': 4667, 'little': 4668, 'toe': 8074, 'shoulder': 7048, 'rotator': 6677, 'tear': 7878, 'requiring': 6472, 'sutur': 7769, 'sutures': 7771, 'industrial': 4077, 'lighting': 4635, 'buri': 1324, 'buried': 1325, 'thru': 8018, 'backho': 946, 'flatiron': 3271, 'corp': 2016, 'heavi': 3778, 'heavy': 3780, 'taxiway': 7875, 'jumbo': 4356, 'jet': 4313, 'jets': 4314, 'finished': 3214, 'nineteen': 5221, 'preparation': 5940, 'demolished': 2297, 'dig': 2413, 'alert': 582, 'indicate': 4066, 'vault': 8543, 'vaults': 8544, 'twenti': 8281, 'yard': 8884, 'yards': 8885, 'fifti': 3188, 'fifty': 3189, 'red': 6308, 'entering': 2858, 'performed': 5661, 'pothol': 5892, 'potholing': 5893, 'contamin': 1950, 'contamination': 1951, 'assum': 850, 'assumed': 851, 'cables': 1370, 'digging': 2416, 'dug': 2656, 'conductors': 1887, 'kilovolt': 4411, 'kilovolts': 4412, 'twelv': 8279, 'twelve': 8280, 'stayed': 7494, 'crews': 2099, 'backing': 949, 'dan': 2196, 'ho': 3841, 'hoe': 3845, 'excavating': 2957, 'verifi': 8573, 'verifying': 8575, 'elevations': 2757, 'widen': 8787, 'widening': 8788, 'exist': 2975, 'existing': 2977, 'roadway': 6620, 'pins': 5747, 'foremen': 3342, 'foundation': 3364, 'expans': 2984, 'expansion': 2985, 'norwalk': 5265, 'pettybon': 5691, 'pettybone': 5692, 'sup': 7700, 'super': 7701, '4797': 260, '204d': 146, 'piles': 5735, 'setting': 6935, 'notice': 5275, 'hawk': 3746, 'security': 6877, 'alarm': 578, 'search': 6855, 'searching': 6856, 'find': 3205, 'junct': 4363, 'junction': 4364, 'looked': 4715, 'schemat': 6806, 'schematics': 6807, 'junctur': 4365, 'juncture': 4366, 'locat': 4688, 'unmark': 8412, 'unmarked': 8413, 'color': 1764, 'dimens': 2423, 'dimensions': 2425, 'floors': 3288, '480': 262, 'volts': 8638, 'loosen': 4721, 'loosened': 4722, 'corners': 2010, 'screwdriv': 6836, 'screwdriver': 6837, 'tilt': 8043, 'tilted': 8044, 'touch': 8109, 'touched': 8110, 'flashed': 3265, 'threw': 8011, 'learn': 4560, 'learned': 4561, 'spl': 7356, 'spliced': 7365, 'instructed': 4176, 'voltag': 8636, 'voltage': 8637, 'amp': 642, 'amps': 645, 'identifying': 3958, 'contracts': 1966, 'chicken': 1590, 'coop': 1995, 'revers': 6557, 'reverse': 6558, 'gear': 3500, 'skids': 7140, 'specifi': 7324, 'specify': 7329, 'henri': 3803, 'henry': 3804, 'grab': 3568, 'graber': 3571, 'bryant': 1286, 'zon': 8904, 'zone': 8905, 'view': 8606, 'backup': 954, 'specializes': 7319, 'shop': 7031, 'loads': 4681, 'driving': 2623, 'checking': 1576, 'sur': 7733, 'sure': 7736, 'bump': 1313, 'bumper': 1315, 'tot': 8106, 'total': 8107, 'runat': 6705, 'wheeler': 8754, 'semi': 6900, 'suffering': 7666, 'fatal': 3120, 'aud': 888, 'audible': 889, 'flaggers': 3250, 'lead': 4546, 'leading': 4549, 'enter': 2856, 'jobsit': 4323, 'jobsite': 4324, 'equipped': 2888, 'rak': 6180, 'raker': 6182, 'repav': 6443, 'repaving': 6444, 'scraped': 6825, 'rubb': 6692, 'rubber': 6694, 'mix': 5023, 'hma': 3840, 'rake': 6181, 'drag': 2581, 'dragged': 2584, 'backov': 950, 'backover': 951, 'shovel': 7051, 'smooth': 7228, 'prepared': 5945, 'holland': 3860, 'order': 5419, 'path': 5604, 'se': 6846, 'see': 6880, 'landscape': 4500, 'motorist': 5100, 'landscap': 4499, 'properti': 6051, 'property': 6053, 'weed': 8717, 'eat': 2702, 'eater': 2703, 'hillsid': 3821, 'hillside': 3822, 'hwi': 3929, 'hwy': 3930, '460': 255, 'mouthcard': 5109, 'ky': 4445, 'embank': 2769, 'embankment': 2770, 'sharp': 6975, 'curv': 2148, 'curve': 2149, 'alleg': 590, 'alleged': 591, 'influ': 4092, 'influence': 4093, 'directing': 2436, 'avail': 911, 'available': 912, 'setup': 6941, 'northbound': 5257, 'divert': 2525, 'diverted': 2526, 'southbound': 7289, 'sh': 6955, 'she': 6980, 'directed': 2435, 'last': 4515, 'swerv': 7785, 'swerved': 7786, 'collis': 1761, 'collision': 1762, 'fled': 3273, 'stopped': 7541, 'positive': 5875, 'alcohol': 580, 'arrest': 791, 'arrested': 792, 'stung': 7620, 'bees': 1050, 'advanc': 521, 'advanced': 523, 'concord': 1863, 'sunday': 7692, 'contra': 1960, 'costa': 2027, 'intox': 4233, 'intoxication': 4235, 'separating': 6908, 'pan': 5539, 'panes': 5547, 'sierra': 7085, 'mirror': 5004, 'sites': 7121, 'denatur': 2305, 'denatured': 2306, 'lamin': 4484, 'laminated': 4485, 'particular': 5585, 'stages': 7440, 'pour': 5896, 'pouring': 5898, 'ounc': 5440, 'ounces': 5442, 'formally': 3350, 'verb': 8570, 'verbal': 8571, 'acquir': 458, 'acquired': 459, 'flame': 3256, 'difficult': 2407, 'if': 3963, 'thought': 8000, 'huntington': 3920, 'usc': 8497, 'skin': 7148, 'graft': 3580, 'thorax': 7995, 'submit': 7640, 'docu': 2540, 'documents': 2546, 'indicating': 4068, 'chemicals': 1582, 'forth': 3359, 'moreov': 5084, 'moreover': 5085, 'based': 1012, 'document': 2541, 'documentation': 2544, 'conclus': 1860, 'conclusion': 1861, 'safely': 6738, 'prim': 5982, 'primer': 5988, 'att': 865, 'attic': 884, 'communications': 1796, 'age': 542, 'reinforc': 6371, 'reinforcing': 6374, 'bars': 1008, 'sides': 7074, 'monopol': 5068, 'monopole': 5069, 'cellular': 1514, '108': 32, 'lifelin': 4621, 'lifeline': 4622, 'slid': 7176, 'sliding': 7179, 'reposit': 6458, 'reposition': 6459, 'hook': 3869, 'even': 2933, 'though': 7999, 'yet': 8894, 'observed': 5317, 'known': 4435, 'peg': 5632, 'pegs': 5634, 'ethanol': 2923, 'blood': 1142, 'vitr': 8631, 'vitreous': 8632, 'cannabinoid': 1398, 'cannabinoids': 1399, 'nordiazepam': 5252, 'drank': 2594, 'night': 5217, 'midnight': 4963, 'deni': 2307, 'denied': 2308, 'consum': 1936, 'consumed': 1937, 'drug': 2639, 'drugs': 2640, 'bee': 1048, 'sting': 7523, 'hang': 3705, 'hanging': 3710, 'sheetrock': 6993, 'highly': 3816, 'epipen': 2882, 'em': 2766, 'ems': 2798, 'begun': 1056, 'epoxi': 2884, 'epoxy': 2885, 'glu': 3543, 'glue': 3544, 'glove': 3539, 'lloyd': 4674, 'staf': 7435, 'staffing': 7437, 'ag': 539, 'agency': 543, 'ea': 2681, 'aes': 531, 'redondo': 6313, 'beach': 1030, 'rub': 6691, 'rubbed': 6693, 'management': 4804, 'gardena': 3474, 'peri': 5663, 'orbit': 5415, 'orbital': 5416, 'cellul': 1513, 'cellulitis': 1515, 'conjuct': 1902, 'conjuctivitis': 1903, 'stings': 7524, 'presid': 5953, 'president': 5954, 'oilfield': 5362, 'bulldoz': 1310, 'bulldozer': 1312, 'brush': 1283, 'ranch': 6192, 'mile': 4975, 'swarm': 7776, 'vicin': 8602, 'vicinity': 8603, '2003': 133, 'collector': 1756, 'smold': 7226, 'smoldering': 7227, 'halon': 3681, 'extinguish': 3026, 'extinguisher': 3028, 'extinguishing': 3029, 'dispers': 2493, 'dispersed': 2494, 'crit': 2106, 'critically': 2108, 'frames': 3382, 'product': 6015, 'production': 6016, 'helping': 3796, 'ammonia': 638, 'nh3': 5214, 'anhydr': 682, 'anhydrous': 683, 'drill': 2607, 'amputation': 652, 'rous': 6682, 'rouse': 6683, 'personally': 5679, '130': 52, 'vsr': 8645, 'artex': 807, 'mixing': 5026, 'paddl': 5517, 'paddle': 5518, 'reattach': 6248, 'turning': 8272, 'depress': 2324, 'depressed': 2325, 'trigg': 8218, 'trigger': 8219, 'chuck': 1620, 'entangl': 2854, 'entangled': 2855, 'chief': 1591, 'officer': 5353, '2014': 144, 'established': 2916, 'coverings': 2059, 'unguard': 8370, 'unguarded': 8371, 'pacif': 5511, 'pacific': 5512, 'peninsula': 5646, '4000': 236, 'benchtop': 1072, 'table': 7812, 'wood': 8833, 'modif': 5040, 'modifications': 5042, 'rip': 6600, 'measuring': 4899, 'mountain': 5105, 'completely': 1829, 'sev': 6942, 'severed': 6949, 'past': 5601, 'knuckl': 4438, 'knuckle': 4439, 'surgically': 7748, 'reattached': 6249, 'visit': 8626, 'timely': 8051, 'task': 7864, 'tasks': 7866, 'subcontractors': 7631, 'achiev': 446, 'achieve': 447, 'desir': 2344, 'desired': 2345, 'rising': 6608, 'splitt': 7370, 'splitter': 7371, 'anti': 704, 'kickback': 4397, 'combin': 1772, 'combined': 1774, 'attachments': 870, 'featherboard': 3138, 'featherboards': 3139, 'jig': 4316, 'jigs': 4317, 'guid': 3649, 'guiding': 3652, 'nearest': 5176, 'farth': 3107, 'farther': 3108, 'almost': 603, 'come': 1778, 'shot': 7043, 'parti': 5577, 'partially': 5579, 'reflex': 6342, 'reflexive': 6343, 'comment': 1787, 'featur': 3140, 'features': 3142, 'separable': 6905, 'uncut': 8335, 'pass': 5594, 'passed': 5595, 'similar': 7106, 'dado': 2181, 'conclud': 1858, 'concluded': 1859, 'allowable': 600, 'devices': 2376, 'sticks': 7518, 'blocks': 1141, 'jumps': 4361, 'ampu': 646, 'ampuates': 647, 'carpenters': 1434, '33': 207, 'torr': 8102, 'torre': 8104, 'reich': 6370, 'skillsaw': 7146, 'shim': 7006, 'shims': 7009, 'squeezed': 7421, 'pinki': 5743, 'pinky': 5744, 'maxicret': 4873, 'maxicrete': 4874, 'putzmeist': 6132, 'putzmeister': 6133, 'tk': 8069, 'garden': 3473, 'facilit': 3065, 'facilitate': 3066, 'slot': 7196, 'slurri': 7209, 'slurry': 7210, 'fe': 3133, 'feed': 3147, 'gloved': 3540, 'circular': 1632, 'mag': 4774, '77': 329, '002504': 4, 'boards': 1154, 'create': 2093, 'notch': 5269, 'lumb': 4754, 'lumber': 4756, 'unsupport': 8452, 'unsupported': 8453, 'rapid': 6201, 'rapidly': 6202, 'resulting': 6527, 'partial': 5578, 'amus': 654, 'amusement': 655, 'theme': 7957, 'anchors': 669, 'gust': 3654, 'canal': 1395, 'forming': 3354, 'pilast': 5731, 'pilaster': 5732, 'coated': 1724, 'dowel': 2572, 'anchored': 667, 'ended': 2818, 'sledgehamm': 7168, 'sledgehammer': 7169, 'footing': 3329, 'restraint': 6521, 'secure': 6873, 'slide': 7177, 'inspecting': 4157, 'sheeted': 6991, 'famili': 3097, 'family': 3099, 'studs': 7615, 'itself': 4281, 'anchorag': 665, 'anchorage': 666, 'unti': 8456, 'untie': 8457, 'urg': 8491, 'urgent': 8492, 'mayo': 4879, 'newhal': 5207, 'newhall': 5208, 'flat': 3268, 'bones': 1178, 'undetermin': 8354, 'undetermined': 8355, 'covering': 2058, 'atrium': 864, 'poli': 5839, 'poly': 5846, 'renov': 6427, 'renovations': 6430, 'va': 8520, 'active': 474, 'guardrails': 3645, 'surrounded': 7752, 'summ': 7683, 'summer': 7684, 'additionally': 493, 'dbi': 2219, 'sala': 6748, 'lock': 4695, 'locked': 4696, 'prejob': 5930, 'droop': 2627, 'drooping': 2628, '2in': 189, 'discuss': 2465, 'what': 8751, 'scissors': 6816, 'told': 8081, 'approv': 749, 'approved': 751, 'assembled': 829, 'informed': 4097, 'accomplish': 431, 'accomplished': 432, 'permiss': 5673, 'permission': 5674, 'chang': 1556, 'change': 1557, 'procedure': 6005, 'awar': 925, 'aware': 926, 'others': 5437, 'commenc': 1785, 'commenced': 1786, 'miller': 4982, 'e650': 2680, 'rebel': 6252, 'protecta': 6059, 'retract': 6540, 'retractable': 6541, 'tiesat': 8034, 'shimmick': 7007, 'vicent': 8600, 'vicente': 8601, 'sprinkl': 7406, 'sprinkler': 7407, 'contained': 1944, 'recently': 6266, 'poured': 5897, 'increas': 4053, 'increase': 4054, 'depth': 2326, 'solidifi': 7258, 'solidified': 7259, 'kept': 4388, 'crack': 2067, 'cracking': 2069, 'cur': 2142, 'curing': 2144, 'process': 6009, 'areas': 779, 'certain': 1535, 'ha': 3666, 'has': 3733, 'strong': 7603, 'withstand': 8824, 'withstanding': 8825, 'least': 4565, 'prohibit': 6028, 'prohibited': 6029, 'tying': 8287, 'sho': 7019, 'shoes': 7024, 'cart': 1451, 'carter': 1452, 'shoe': 7023, 'lakesid': 4482, 'lakeside': 4483, 'provides': 6072, 'throughout': 8014, 'united': 8392, 'states': 7484, 'adam': 486, 'adams': 487, 'survey': 7755, 'hooks': 3871, 'points': 5830, 'storag': 7545, 'storage': 7546, 'closet': 1698, 'histor': 3834, 'historic': 3835, 'plaster': 5789, 'except': 2963, 'exception': 2964, 'retain': 6534, 'retaining': 6535, 'prying': 6080, 'ceilings': 1510, 'roofer': 6654, 'yr': 8899, 'atop': 863, 'pitched': 5765, 'unfortun': 8364, 'unfortunately': 8365, 'condominiums': 1881, 'gutters': 3658, 'narrow': 5160, 'windows': 8802, 'trimmed': 8222, 'unst': 8445, 'unstable': 8446, 'momentarili': 5055, 'momentarily': 5056, 'review': 6561, 'routin': 6687, 'routine': 6688, 'polici': 5842, 'policy': 5843, 'recal': 6258, 'recall': 6259, 'practic': 5909, 'practices': 5911, 'indic': 4065, 'inspected': 4156, 'duty': 2671, 'observable': 5314, 'fromtelecommun': 3412, 'fromtelecommunication': 3413, 'upgrad': 8470, 'upgrade': 8471, 'pfa': 5693, 'pfas': 5694, 'generated': 3505, 'snap': 7233, '85': 344, 'ic': 3950, 'ice': 3951, 'breaker': 1238, 'survives': 7758, 'sixtyat': 7128, 'grain': 3581, 'ratchet': 6208, 'silo': 7102, 'adjust': 505, 'adjusting': 508, 'mot': 5094, 'motion': 5098, 'stone': 7532, 'aid': 558, 'skul': 7151, 'skull': 7152, 'cerv': 1541, 'cervical': 1542, 'diaphragm': 2393, 'spleen': 7362, 'pancrea': 5540, 'pancreas': 5541, 'organ': 5423, 'pelv': 5636, 'pelvic': 5638, 'driveway': 2622, 'relocating': 6393, 'pole': 5837, 'hacksaw': 3669, 'grabbed': 3569, '964': 375, 'shocked': 7021, 'wound': 8858, 'wounds': 8859, 'ambul': 632, 'ambulance': 633, 'croz': 2123, 'crozer': 2124, 'supervis': 7711, 'supervising': 7712, 'witnessed': 8827, 'pp': 5906, 'ppe': 5907, 'heldreth': 3786, 'forty': 3360, 'allowing': 602, 'lather': 4524, 'lathers': 4525, 'mesh': 4931, 'ft130': 3421, '04': 10, 'fine': 3207, 'assistance': 843, 'alt': 614, 'altered': 617, 'mental': 4926, 'status': 7492, 'intracerebr': 4236, 'intracerebral': 4237, 'ble': 1127, 'aneurysm': 672, 'dure': 2665, 'investigator': 4248, 'specialti': 7321, 'specialty': 7322, 'primarili': 5984, 'primarily': 5985, 'plastering': 5791, 'lathing': 4526, 'appurten': 757, 'appurtenances': 758, 'aort': 712, 'aortic': 714, 'arch': 768, 'ruptures': 6717, 'rupture': 6715, 'nearly': 5177, 'empti': 2795, 'emptied': 2796, 'repositioning': 6461, 'adjustable': 506, 'relief': 6390, 'releasing': 6388, 'superfici': 7702, 'superficial': 7703, 'lung': 4758, 'f3': 3050, 'kathabar': 4379, 'dehumidifi': 2281, 'dehumidifier': 2282, 'refriger': 6346, 'refrigeration': 6348, 'piped': 5754, 'housing': 3902, 'ferment': 3172, 'fermentation': 3173, 'corridor': 2023, 'respiratori': 6497, 'respiratory': 6499, 'insulator': 4185, 'briefli': 1258, 'briefly': 1259, 'given': 3529, 'minor': 4998, 'acoust': 455, 'acoustic': 456, 'evolut': 2947, 'evolution': 2948, 'entertain': 2862, 'entertainment': 2863, 'gorilla': 3562, 'configur': 1896, 'configuration': 1897, 'knees': 4421, 'fourth': 3367, 'drilling': 2610, 'rancho': 6193, 'custom': 2150, 'audio': 890, 'video': 8605, 'contributing': 1973, 'keep': 4381, 'donoghu': 2559, 'donoghue': 2560, 'douglass': 2571, 'whitetail': 8777, 'picking': 5718, 'straps': 7572, 'just': 4370, 'unsteadi': 8447, 'unsteady': 8448, 'midsect': 4966, 'midsection': 4967, 'nam': 5154, 'named': 5156, 'pictur': 5721, 'picture': 5722, 'state': 7480, 'compound': 1840, 'shift': 7002, 'shifted': 7003, 'laterally': 4522, 'crib': 2100, 'cribbing': 2102, 'tripod': 8228, 'tripods': 8229, 'elk': 2761, 'grov': 3639, 'grove': 3640, 'initial': 4113, 'evalu': 2929, 'evaluation': 2931, 'stabil': 7424, 'stabilized': 7427, 'recommend': 6283, 'recommended': 6284, 'davi': 2211, 'davis': 2214, 'swel': 7783, 'swelling': 7784, 'subsid': 7644, 'subside': 7645, 'insertion': 4152, 'wil': 8791, 'will': 8793, 'permanently': 5672, 'conco': 1862, 'strip': 7592, 'stripped': 7594, 'mdo': 4888, 'medium': 4911, 'dens': 2309, 'density': 2310, 'overlay': 5484, 'piled': 5734, 'vertically': 8584, 'guide': 3650, 'neith': 5194, 'neither': 5195, 'escaped': 2907, 'slab': 7159, 'sheets': 6994, 'francisco': 3387, 'kais': 4371, 'kaiser': 4372, 'shatt': 6977, 'shattered': 6978, 'toes': 8075, 'surgeries': 7745, 'rod': 6631, 'rods': 6633, 'bolts': 1172, 'impl': 4008, 'implanted': 4009, 'bruised': 1279, 'staff': 7436, '1549': 71, 'positively': 5876, 'tipping': 8059, 'regulation': 6365, 'violations': 8618, 'unsecur': 8436, 'unsecured': 8438, '49': 266, 'israel': 4270, 'orlando': 5429, 'de': 2226, 'la': 4448, 'cruz': 2132, 'haul': 3739, 'hauling': 3741, 'walkway': 8663, 'cargo': 1427, 'trash': 8183, 'times': 8053, 'unanchor': 8307, 'unanchored': 8308, 'merci': 4929, 'mercy': 4930, 'juan': 4348, 'accessing': 418, 'steps': 7513, 'fracturing': 3375, 'seen': 6886, 'placement': 5771, 'needles': 5188, 'stabilize': 7426, 'pegasus': 5633, '253': 172, 'guyed': 3660, '355': 221, 'lowering': 4736, 'antennas': 702, 'communication': 1795, 'horizont': 3878, 'horizontal': 3879, 'tasked': 7865, 'dismantling': 2486, 'anderson': 671, '46': 254, '100': 20, 'longer': 4711, 'imag': 3982, 'image': 3983, 'inman': 4134, 'triangular': 8216, 'saddles': 6735, 'progressively': 6027, 'taller': 7841, 'unbolt': 8316, 'removal': 6416, 'alive': 588, 'unrespons': 8428, 'unresponsive': 8429, 'shortly': 7042, 'arrival': 795, 'flip': 3282, 'flips': 3284, 'helped': 3794, 'bank': 988, 'steep': 7500, 'slop': 7192, 'slope': 7193, 'flipped': 3283, 'upgrading': 8472, 'consisting': 1922, 'lb': 4540, 'betacom': 1088, 'leav': 4569, 'leaving': 4572, 'call': 1384, 'hard': 3718, 'hat': 3734, 'hats': 3738, 'digit': 2417, 'digital': 2418, 'telephon': 7900, 'telephone': 7901, 'seconds': 6868, 'snaphook': 7234, 'sweep': 7780, 'covers': 2060, 'unhook': 8372, 'unhooked': 8373, '120': 41, 'catches': 1475, 'mcm': 4885, 'tooth': 8090, 'schuyl': 6810, 'schuyler': 6811, 'helm': 3791, 'shank': 6968, 'shanks': 6969, 'clamp': 1646, 'minute': 5000, 'completed': 1828, 'solvent': 7264, 'tech': 7881, 'brak': 1225, 'brake': 1226, 'cleaner': 1662, 'dirti': 2442, 'dirty': 2443, 'rag': 6166, 'rags': 6167, 'bench': 1070, 'solv': 7263, 'mari': 4843, 'mary': 4855, 'ucla': 8294, 'gallon': 3461, 'concentration': 1854, 'fluorid': 3304, 'fluoride': 3305, 'therm': 7971, 'thermal': 7972, 'rights': 6596, 'pm': 5820, 'brinderson': 1264, 'engineers': 2838, 'spool': 7378, 'sweatshirt': 7779, 'crud': 2125, 'crude': 2126, 'collection': 1755, 'catching': 1476, '1st': 122, '2nd': 191, 'joaquin': 4320, 'foothil': 3327, 'foothill': 3328, 'receives': 6264, 'gar': 3468, 'garment': 3476, 'orang': 5413, 'orange': 5414, 'blend': 1133, 'polyest': 5847, 'polyester': 5848, 'arching': 771, 'plate': 5794, 'carbon': 1418, 'smel': 7219, 'smelled': 7221, 'canva': 1405, 'canvas': 1406, 'overal': 5468, 'overalls': 5470, 'leath': 4566, 'jacket': 4285, 'record': 6291, 'records': 6293, 'brigg': 1262, 'briggs': 1263, 'stratton': 7575, 'sub': 7626, 'flooring': 3287, 'balcony': 974, 'fray': 3388, 'frayed': 3389, 'repairs': 6442, 'electrod': 2744, 'electrode': 2745, 'holders': 3855, 'soon': 7278, 'say': 6786, 'unintellig': 8380, 'unintelligible': 8381, 'cardiac': 1422, 'barrier': 1006, 'fil': 3193, 'filling': 3196, 'checked': 1575, 'bleeder': 1131, 'verify': 8574, 'good': 3558, 'flow': 3293, 'buildup': 1302, 'difference': 2405, 'reduces': 6317, 'beginning': 1055, 'strike': 7587, 'helmet': 3792, 'inst': 4161, 'plus': 5817, 'argon': 781, 'tungsten': 8261, 'inert': 4082, 'refineri': 6333, 'refinery': 6334, 'inhal': 4108, 'inhalation': 4109, 'feel': 3151, 'sick': 7068, 'emerged': 2777, 'reent': 6325, 'reentered': 6326, 'rescued': 6475, 'again': 540, '1995': 115, 'allegedly': 592, 'mound': 5103, 'lighthead': 4633, 'lightheaded': 4634, 'weak': 8705, 'reynold': 6571, 'reynolds': 6572, 'brigad': 1260, 'brigade': 1261, 'scba': 6800, 'operate': 5396, 'chop': 1614, 'gm': 3546, 'developers': 2372, 'bitumin': 1109, 'bituminous': 1110, 'unclog': 8325, 'completing': 1830, 'wand': 8670, 'propan': 6044, 'press': 5955, 'pressed': 5956, 'diesel': 2403, 'dielectr': 2400, 'dielectric': 2401, 'structures': 7609, '69': 313, 'reinforced': 6373, 'sheav': 6986, 'sheaves': 6988, 'reinforce': 6372, 'cross': 2110, 'crossarm': 2111, 'relied': 6389, 'violating': 8616, 'minimum': 4996, 'maintaining': 4783, 'clipping': 1688, 'attaching': 868, 'boot': 1186, 'wrapping': 8863, 'jerked': 4310, 'curr': 2146, 'current': 2147, 'arced': 767, 'phas': 5697, 'phase': 5698, 'util': 8511, 'utility': 8516, 'armor': 785, 'brushed': 1284, 'presum': 5969, 'presumably': 5970, 'sweat': 7777, 'insulators': 4186, 'carried': 1444, 'belted': 1068, 'experi': 2990, 'experience': 2992, 'sliv': 7188, 'sliver': 7189, 'sew': 6951, 'sewer': 6954, 'teeth': 7892, 'excavator': 2959, 'puncturing': 6110, 'cheek': 1577, 'carotid': 1431, 'arteri': 802, 'artery': 806, 'splinter': 7368, 'punctures': 6109, 'vein': 8556, 'cabinet': 1364, 'maker': 4790, 'manufactured': 4834, 'cabinets': 1367, 'ripsaw': 6603, 'shorten': 7040, 'feeding': 3149, 'stock': 7527, 'fed': 3146, 'northtech': 5262, 'nt': 5290, 'sl2000xl': 7158, '0828003': 16, 'observe': 5316, 'splint': 7366, 'inn': 4135, 'inner': 4136, 'millimeters': 4985, 'femor': 3162, 'femoral': 3163, 'arterial': 803, '42': 245, 'grayhawk': 3597, 'bak': 967, 'baker': 968, 'sheath': 6983, 'sheathing': 6985, 'cast': 1461, 'casters': 1462, 'roll': 6639, 'contusion': 1982, 'commuted': 1799, 'evening': 2934, 'complain': 1821, 'complaining': 1823, 'pain': 5523, 'formation': 3351, 'clot': 1702, 'clots': 1706, 'lungs': 4759, 'likely': 4641, 'clotting': 1707, 'sec': 6862, 'secant': 6863, 'shor': 7033, 'shoring': 7037, 'muddi': 5124, 'muddy': 5125, 'counterweight': 2040, 'pelvi': 5637, 'pelvis': 5639, 'torn': 8099, 'colon': 1763, '31': 199, 'builder': 1298, 'skil': 7143, 'covina': 2061, 'establishment': 2917, 'trench': 8209, '83': 340, 'spoil': 7373, 'cav': 1496, 'caved': 1499, 'engulf': 2840, 'engulfed': 2841, 'aorta': 713, 'regist': 6359, 'registered': 6360, 'erected': 2892, 'jumping': 4360, 'delta': 2292, 'colleg': 1757, 'college': 1758, 'goleman': 3553, 'librari': 4609, 'library': 4610, 'sludg': 7202, 'sludge': 7203, 'hamm': 3684, 'hammer': 3685, 'cind': 1626, 'cinder': 1627, 'lobbi': 4682, 'lobby': 4683, 'towson': 8123, 'town': 8119, 'mall': 4800, 'serve': 6923, 'bag': 960, 'size': 7130, 'rung': 6707, 'supports': 7728, 'angled': 677, 'diagon': 2388, 'diagonal': 2389, 'brick': 1245, 'stepladd': 7509, 'stepladder': 7510, 'critical': 2107, 'stapl': 7468, 'stapler': 7469, 'vision': 8625, 'teardown': 7879, 'fibers': 3181, 'afternoon': 536, 'exclamatori': 2967, 'exclamatory': 2968, 'remark': 6403, 'fasten': 3114, 'fastening': 3118, 'fur': 3441, 'furring': 3447, 'strips': 7597, 'sloped': 7194, 'creighton': 2097, 'reenerg': 6322, 'reenergized': 6324, 'shore': 7034, 'unscrew': 8434, 'unscrewing': 8435, 'laboring': 4459, 'ontario': 5384, '1595': 74, 'wynkoop': 8877, 'denv': 2313, 'denver': 2314, 'accumulated': 438, 'potentially': 5891, 'exposes': 3009, '103': 25, 'heil': 3783, 'chatsworth': 1573, 'manufacture': 4833, 'aircrafts': 564, 'renovating': 6428, 'paneling': 5545, 'soffit': 7246, 'soffits': 7247, 'surfacing': 7741, 'bo': 1152, 'boeing': 1164, 'surveys': 7756, 'scop': 6818, 'scope': 6819, 'specifications': 7326, 'acoustical': 457, 'contractors': 1965, 'overspray': 5494, 'oversprayed': 5495, 'shut': 7065, 'ab': 383, 'abate': 388, 'physician': 5712, 'non': 5234, 'none': 5236, 'awareness': 927, 'might': 4971, 'fresh': 3401, 'meadow': 4889, 'meadows': 4890, 'ni': 5215, 'ny': 5306, 'let': 4598, 'scream': 6831, 'mesothelioma': 4932, 'industry': 4079, 'presumed': 5971, 'documented': 2545, 'framework': 3383, 'marcor': 4841, 'remedi': 6404, 'remediation': 6405, 'prepare': 5944, 'chisel': 1599, 'chisels': 1600, 'hammers': 3688, 'platforms': 5797, 'sweeping': 7782, 'bagging': 963, 'breakdown': 1237, 'crawled': 2088, 'ten': 7913, 'monoxid': 5071, 'monoxide': 5072, 'sear': 6854, 'sears': 6857, 'shopping': 7032, 'scraper': 6826, 'layers': 4537, 'mastic': 4865, 'subfloor': 7634, 'wetting': 8748, 'agent': 544, 'shoveled': 7052, 'bags': 966, 'scraping': 6829, 'nausea': 5169, 'dizzi': 2532, 'dizziness': 2533, 'highest': 3814, 'read': 6229, 'readings': 6234, '20s': 148, 'machines': 4769, 'evacu': 2926, 'evacuate': 2927, 'terminator': 7934, 'innovatech': 4139, 'products': 6017, 'emit': 2780, 'million': 4987, 'tailpip': 7830, 'tailpipe': 7831, 'emitting': 2781, 'analyzer': 663, 'tun': 8260, 'tuning': 8262, 'engines': 2839, '1999': 119, 'church': 1622, 'disassembl': 2444, 'disassembled': 2446, 'planks': 5781, 'erection': 2894, 'supervision': 7713, 'qualifi': 6139, 'qualified': 6140, 'intens': 4202, 'intensive': 4205, 'diagnosi': 2386, 'diagnosis': 2387, 'rolling': 6649, 'occasionally': 5327, 'seated': 6860, 'finally': 3204, 'hitting': 3839, '43': 248, 'westair': 8742, 'technolog': 7889, 'technology': 7891, 'militari': 4978, 'military': 4979, 'steam': 7496, 'lies': 4618, 'elect': 2731, 'elected': 2732, 'overexpos': 5473, 'overexposed': 5474, 'peppertre': 5653, 'peppertree': 5654, '660': 308, 'fri': 3404, 'friable': 3405, 'circuit': 1630, 'clearing': 1669, 'enclosur': 2808, 'enclosure': 2809, 'cutt': 2156, 'cutters': 2159, 'ash': 818, 'cloud': 1708, 'tearing': 7880, 'settl': 6936, 'settling': 6940, 'chamb': 1550, 'chamber': 1551, 'kiln': 4407, 'brock': 1267, 'remot': 6412, 'remote': 6413, 'hammering': 3687, 'bricks': 1249, 'cool': 1993, 'faint': 3084, 'tha': 7945, 'thunk': 8021, 'harm': 3726, 'harms': 3727, 'totally': 8108, 'integri': 4196, 'integris': 4197, 'baptist': 990, 'oklahoma': 5366, 'city': 1642, 'note': 5270, 'fly': 3309, 'seventh': 6945, 'generation': 3507, 'hopp': 3875, 'hopper': 3876, 'bunk': 1320, 'bunker': 1321, 'becom': 1043, 'become': 1044, 'blocked': 1139, 'portal': 5865, 'flex': 3278, 'vacuum': 8523, 'dislodging': 2482, 'lifelines': 4623, 'damp': 2193, 'damper': 2194, 'flu': 3296, 'flue': 3297, 'desulfur': 2350, 'desulfurization': 2351, 'fgd': 3177, 'cycl': 2166, 'cycled': 2168, 'success': 7653, 'successively': 7657, 'cycling': 2169, 'disrupt': 2503, 'disruption': 2504, 'turbul': 8267, 'turbulence': 8268, 'flowing': 3294, 'amount': 640, 'blown': 1146, 'envelop': 2872, 'enveloping': 2874, 'everyon': 2941, 'everyone': 2942, 'evacuating': 2928, 'irrit': 4261, 'irritations': 4262, 'hospitals': 3892, 'isol': 4267, 'isolated': 4268, 'inadvertent': 4024, 'combust': 1775, 'combustion': 1776, 'fluid': 3298, 'fluidized': 3299, 'residu': 6483, 'residual': 6484, 'particl': 5582, 'particle': 5583, 'locate': 4689, 'erupt': 2903, 'eruption': 2904, 'villag': 8610, 'villager': 8611, 'milling': 4986, 'wirtgen': 8819, 'w2100': 8647, 'interst': 4227, 'interstate': 4228, 'railroad': 6172, 'overpass': 5489, 'pend': 5640, 'pendant': 5641, 'pedant': 5628, 'stretch': 7584, 'ensuring': 2852, 'driven': 2618, 'trucking': 8240, 'psi': 6083, 'entir': 2864, 'entire': 2865, 'passes': 5599, 'overpasses': 5490, 'dual': 2649, 'lanes': 4503, 'milled': 4981, 'approximately1': 756, 'mill': 4980, 'median': 4907, 'divid': 2527, 'dividers': 2528, 'coned': 1892, 'midway': 4968, 'lights': 4638, 'reflector': 6340, 'reflectors': 6341, 'oncom': 5374, 'oncoming': 5375, 'strob': 7598, 'strobe': 7599, 'zones': 8906, 'chevrolet': 1586, 'taho': 7823, 'tahoe': 7824, 'originally': 5427, 'mph': 5120, 'disregard': 2501, 'disregarded': 2502, 'cone': 1891, 'spacing': 7302, 'correctly': 2022, 'signag': 7088, 'signage': 7089, 'tapering': 7855, 'attenu': 881, 'attenuators': 883, 'mutcd': 5143, 'robert': 6622, 'bothman': 1199, 'axl': 934, 'axle': 935, 'pavement': 5614, 'reportedly': 6455, 'pathway': 5608, 'campus': 1393, 'school': 6808, 'obvi': 5322, 'obviously': 5323, 'evid': 2945, 'evidence': 2946, 'gath': 3488, 'gathered': 3490, 'chock': 1605, 'chocked': 1606, 'otherwis': 5438, 'otherwise': 5439, 'effective': 2713, 'experiences': 2994, 'roller': 6644, 'weakness': 8708, 'cup': 2140, 'resum': 6529, 'resumed': 6530, 'symptom': 7800, 'symptoms': 7801, 'intensifi': 4203, 'intensified': 4204, 'continue': 1954, 'ask': 819, 'asked': 820, 'treating': 8199, 'administering': 513, 'iv': 4282, 'fluids': 3300, 'riversid': 6613, 'riverside': 6614, 'roads': 6619, 'streets': 7581, 'freeways': 3394, 'alley': 597, 'alleys': 598, 'parkway': 5573, 'parkways': 5574, 'airports': 573, 'temperatur': 7905, 'temperature': 7906, '99': 378, 'degrees': 2280, 'fahrenheit': 3077, 'recorded': 6292, 'spil': 7342, 'spills': 7346, 'designated': 2342, 'lugg': 4750, 'lugger': 4751, 'liquid': 4660, 'barrel': 999, 'tripped': 8230, 'spill': 7343, 'remains': 6402, '1s': 121, 'peak': 5622, 'buggy': 1296, 'catapult': 1470, 'catapulted': 1471, 'chiaramont': 1587, 'chiaramonte': 1588, 'buggi': 1295, 'div': 2518, 'dived': 2520, 'culvert': 2137, 'lif': 4619, 'life': 4620, 'flight': 3281, 'scalp': 6796, 'stitch': 7525, 'stitches': 7526, 'tendon': 7921, 'wherea': 8761, 'whereas': 8764, 'permit': 5675, 'roadways': 6621, 'specified': 7327, 'permitted': 5676, 'burnt': 1332, 'pion': 5750, 'pioneer': 5751, 'encompass': 2810, 'encompassing': 2811, 'acr': 460, 'acres': 462, 'centr': 1525, 'central': 1526, 'transferring': 8165, 'molten': 5053, 'spilled': 7344, 'oakland': 5308, 'franc': 3385, 'francis': 3386, 'documentari': 2542, 'documentary': 2543, 'elimin': 2759, 'eliminate': 2760, 'preclud': 5922, 'preclude': 5923, 'mitig': 5021, 'mitigate': 5022, 'spilling': 7345, 'employeed': 2788, 'inspector': 4160, 'shoveling': 7053, 'chut': 1623, 'chute': 1624, 'ditch': 2516, 'gate': 3487, 'said': 6745, 'signal': 7090, 'sp': 7297, 'spent': 7335, 'western': 8744, 'deliveri': 2288, 'delivery': 2290, 'sticki': 7517, 'sticky': 7519, 'stain': 7442, 'stained': 7443, 'compens': 1815, 'compensation': 1817, 'insur': 4187, 'insurance': 4188, 'rubberized': 6695, 'planter': 5785, 'castlewood': 1463, 'consult': 1933, 'consulting': 1935, 'case': 1458, 'cx36b': 2163, 'ndtn63778': 5170, 'judg': 4351, 'judge': 4352, 'mud': 5123, 'late': 4519, 'sav': 6776, 'save': 6777, 'rented': 6434, 'columns': 1769, 'excavators': 2960, 'bays': 1027, 'overhang': 5479, 'morn': 5089, 'morning': 5090, 'overhanging': 5480, 'minnesota': 4997, 'mnosha': 5031, 'propos': 6054, 'proposed': 6055, 'tyson': 8290, 'tysons': 8291, 'carport': 1440, 'extending': 3017, 'probe': 5999, 'fairfax': 3086, 'victim': 8604, 'charg': 1561, 'charge': 1562, 'evaluated': 2930, 'now': 5285, 'recoveri': 6299, 'recovery': 6300, 'utilized': 8517, 'team': 7877, 'recov': 6296, 'recover': 6297, 'recovered': 6298, 'medallion': 4906, 'hydrostat': 3939, 'hydrostatic': 3940, 'faulti': 3129, 'faulty': 3130, 'valves': 8529, 'request': 6464, 'choke': 1608, 'choked': 1609, 'amputating': 651, 'clearly': 1670, 'antennae': 701, 'hospitalizes': 3891, 'ages': 545, 'rang': 6195, 'ranging': 6200, 'riding': 6588, 'catastroph': 1472, 'catastrophically': 1473, 'plung': 5815, 'plunging': 5816, 'oppos': 5405, 'opposed': 5406, 'transit': 8168, 'transition': 8169, 'tens': 7925, 'tension': 7928, 'amputations': 653, '06': 13, 'framed': 3380, 'moveable': 5112, 'waists': 8652, 'stress': 7582, 'ref': 6328, 'dog': 2548, 'narrower': 5161, 'clamps': 1648, 'happen': 3714, 'happened': 3715, 'slow': 7198, 'desc': 2331, 'descent': 2335, 'precautionari': 5916, 'precautionary': 5917, 'measure': 4896, 'chokers': 1611, 'gives': 3530, 'prep': 5938, 'grass': 3589, 'lawn': 4534, 'hal': 3675, 'hall': 3678, 'kern': 4389, 'connector': 1909, 'weaken': 8706, 'weakened': 8707, 'capac': 1411, 'capacity': 1413, 'thorough': 7996, 'assess': 836, '1511': 68, 'protrus': 6067, 'protrusion': 6068, 'fontainebleau': 3322, 'las': 4512, 'vega': 8548, 'vegas': 8549, 'band': 982, 'hair': 3672, 'displac': 2495, 'displaced': 2497, 'l1': 4446, 'umc': 8302, 'kat': 4378, 'route': 6685, 'redland': 6310, 'redlands': 6311, 'ski': 7136, 'sky': 7153, 'trak': 8159, '10042': 23, '13322': 54, 'narrowing': 5162, 'scupp': 6844, 'scupper': 6845, 'pockets': 5827, 'shape': 6971, 'shaped': 6972, 'cristo': 2105, 'accessori': 419, 'accessories': 420, 'krhook': 4443, 'easili': 2695, 'easily': 2696, 'destin': 2346, 'destination': 2347, 'wedg': 8714, 'wedged': 8716, 'attachment': 869, 'manifold': 4816, 'tired': 8063, 'purlins': 6118, 'taglin': 7820, 'tagline': 7821, 'detach': 2353, 'detached': 2354, 'untangl': 8454, 'untangle': 8455, 'sl': 7157, 'sling': 7182, 'coma': 1771, 'thirteen': 7988, 'ones': 5377, 'asplundh': 827, 'l45': 4447, '1974': 104, 'ford': 3336, 'applied': 732, 'lurch': 4760, 'ejecting': 2727, 'actu': 477, 'actually': 479, 'fact': 3070, '1960': 101, '1960s': 102, 'ago': 550, 'hel': 3784, 'helical': 3788, 'foundations': 3365, 'leaver': 4571, 'activating': 472, 'wedge': 8715, 'respective': 6493, 'bob': 1159, 'tach': 7813, '864': 348, '80x60': 337, '900': 359, 'receptacl': 6267, 'receptacle': 6268, 'asking': 821, 'plugs': 5808, 'ordered': 5420, 'choos': 1612, 'choosing': 1613, 'idle': 3960, 'prong': 6038, 'grounded': 3629, 'fus': 3450, 'fuse': 3451, 'chicago': 1589, 'pyle': 6135, 'national': 5165, 'veri': 8572, 'very': 8585, 'dilapid': 2420, 'dilapidated': 2421, 'maintained': 4782, 'femal': 3160, 'female': 3161, 'receptacles': 6269, 'energizing': 2824, 'consid': 1915, 'considered': 1919, 'ruling': 6703, 'causes': 1490, 'coronari': 2013, 'coronary': 2014, 'continuity': 1957, 'destruct': 2348, 'destructive': 2349, 'electrocution': 2743, 'siding': 7081, 'eyebolt': 3043, 'cord': 2004, 'strung': 7610, 'grounds': 3632, 'unplug': 8420, 'unplugged': 8421, 'gather': 3489, 'bringing': 1266, 'grounding': 3630, 'spid': 7337, 'spider': 7338, 'prongs': 6039, 'vomit': 8639, 'vomiting': 8641, 'opens': 5394, 'alarms': 579, 'tenant': 7914, 'spooled': 7379, 'downward': 2578, 'folsom': 3321, 'fibula': 3184, 'tibula': 8025, 'undergon': 8341, 'undergone': 8342, 'receiving': 6265, 'ongo': 5378, 'ongoing': 5379, 'concuss': 1868, 'concussion': 1869, 'scott': 6822, 'gochnau': 3549, 'gochnauer': 3550, 'hilton': 3824, 'island': 4266, 'sc': 6788, 'unat': 8311, 'technician': 7885, 'thermostat': 7973, 'fish': 3229, 'insulated': 4182, '110': 34, 'fixtur': 3243, 'fixture': 3244, 'electron': 2748, 'electronics': 2750, 'cordless': 2005, 'muscl': 5137, 'muscle': 5138, 'holder': 3854, 'subarachnoid': 7627, 'hemorrhag': 3799, 'hemorrhage': 3800, 'pneumothorax': 5825, 'disturbance': 2513, 'tibia': 8024, 'foam': 3313, 'accessed': 416, 'inadequ': 4020, 'inadequate': 4021, 'fals': 3094, 'strikes': 7588, '863': 347, '514442281': 275, 'reporting': 6456, 'requirement': 6469, 'renovation': 6429, 'formless': 3355, 'paver': 5615, '8800': 351, 'hoses': 3884, 'readi': 6230, 'ready': 6237, 'shel': 6995, 'shell': 6997, 'unlock': 8410, 'unlocking': 8411, 'offered': 5350, 'everyth': 2943, 'everything': 2944, 'fixing': 3242, 'closing': 1699, 'colored': 1765, 'conveyor': 1990, 'bor': 1188, 'bore': 1189, '37': 225, 'boring': 1191, 'jacking': 4289, 'roughly': 6680, 'weighing': 8724, 'lbs': 4541, 'couple': 2045, 'slings': 7183, 'signaled': 7091, 'sutt': 7767, 'sutter': 7768, 'downpour': 2577, 'statement': 7482, 'suffocated': 7671, 'filled': 3195, 'hardpan': 3723, 'pond': 5854, 'cm': 1715, 'cme': 1716, 'geotechn': 3516, 'geotechnical': 3517, 'motors': 5102, 'dandi': 2197, 'dandy': 2198, 'digg': 2414, 'digger': 2415, 'fenc': 3166, 'fencing': 3168, 'operators': 5404, 'cag': 1371, 'cage': 1372, 'ear': 2686, 'unisul': 8390, 'retard': 6536, 'retardant': 6537, 'persons': 5681, 'dumped': 2659, 'jam': 4295, 'jammed': 4296, 'tin': 8054, 'tines': 8056, 'feeds': 3150, 'yell': 8890, 'yelling': 8892, 'puncture': 6107, 'augers': 893, 'cycle': 2167, 'automot': 904, 'automotive': 905, 'auto': 898, 'autos': 908, 'alongsid': 609, 'alongside': 610, '695': 314, 'putti': 6129, 'putty': 6131, 'avenu': 915, 'avenue': 916, 'besid': 1084, 'beside': 1085, 'amb': 628, 'amber': 629, 'attenuator': 882, 'adv': 520, 'advance': 522, 'tapers': 7856, 'motorists': 5101, 'shadow': 6962, 'throw': 8015, 'throwing': 8016, 'carwash': 1453, 'musculoskelet': 5139, 'musculoskeletal': 5140, 'md': 4886, 'automobil': 902, 'automobile': 903, 'temporarili': 7910, 'temporarily': 7911, 'gotten': 3566, 'picked': 5715, 'sweeper': 7781, 'weep': 8721, 'drivers': 2620, 'trucks': 8241, 'passing': 5600, 'vehicles': 8554, 'dragging': 2586, 'intoxicated': 4234, 'vehicular': 8555, 'avalanch': 913, 'avalanche': 914, 'busi': 1344, 'business': 1345, 'grabbing': 3570, 'discs': 2464, 'spinal': 7348, 'eyewit': 3046, 'eyewitnesses': 3047, 'uncov': 8331, 'uncovering': 8334, 'laid': 4478, 'plates': 5795, 'stable': 7429, 'slight': 7180, 'slightly': 7181, 'forgot': 3345, 'skill': 7144, 'solar': 7252, 'breakers': 1239, 'scar': 6798, 'scarring': 6799, '53': 280, '520': 279, 'psl': 6084, 'visu': 8629, 'visual': 8630, 'camera': 1390, 'slipping': 7186, 'gc': 3496, 'gce': 3497, 'wern': 8739, 'werner': 8740, 'fsao8': 3419, 'responding': 6503, '342': 216, 'latch': 4517, 'latched': 4518, 'believ': 1060, 'believed': 1061, 'rememb': 6406, 'remember': 6407, 'ascend': 814, 'ascending': 816, 'intending': 4201, 'adequ': 494, 'adequate': 495, 'carpinteria': 1439, 'summerland': 7685, 'vertebrae': 8581, 'mon': 5059, 'shd7m': 6979, '184mm': 93, 'worm': 8853, 'f012sd7712': 3048, 'sn111': 7230, '569990': 289, 'hz': 3947, '4600': 256, 'min': 4991, 'bounc': 1207, 'bounced': 1209, 'attorney': 885, 'homes': 3866, 'endang': 2816, 'endangered': 2817, 'runs': 6712, 'helena': 3787, 'gon': 3555, 'gone': 3557, 'fully': 3431, 'downhil': 2575, 'downhill': 2576, 'trailing': 8152, 'intent': 4206, 'intentionally': 4208, 'steered': 7502, 'physically': 5711, 'strain': 7565, 'strains': 7567, 'sprain': 7396, 'sprains': 7397, 'rosa': 6668, 'notif': 5277, 'notification': 5279, 'peterson': 5687, 'broth': 1272, 'brothers': 1274, 'dri': 2603, 'dry': 2643, 'miner': 4993, 'mineral': 4994, 'manson': 4826, 'iowa': 4254, 'by10': 1358, 'contains': 1949, 'synthet': 7802, 'synthetic': 7803, 'caterpillar': 1479, 'th103': 7944, 'broom': 1271, 'methodist': 4948, 'des': 2330, 'moin': 5047, 'moines': 5048, 'lutheran': 4761, 'compl': 1820, 'complications': 1835, 'infect': 4083, 'infection': 4085, 'saved': 6778, 'stockpil': 7528, 'stockpile': 7529, '938g': 370, 'compensate': 1816, 'inclin': 4040, 'incline': 4041, 'sun': 7691, 'obscur': 5311, 'obscured': 5312, 'remembered': 6408, 'burying': 1337, 'complaint': 1825, 'claim': 1644, 'claimed': 1645, 'header': 3759, 'kneel': 4419, 'kneeling': 4420, 'align': 584, 'alignment': 587, 'clod': 1692, 'sor': 7279, 'sore': 7280, 'says': 6787, 'russel': 6722, 'russell': 6723, 'jersey': 4312, 'florida': 3289, 'turnpik': 8273, 'turnpike': 8274, 'sunris': 7696, 'sunrise': 7697, 'functional': 3436, 'tehama': 7893, 'works': 8849, 'wheeled': 8753, 'pintl': 5748, 'pintle': 5749, 'unbound': 8317, 'stored': 7548, 'binders': 1104, 'thumbs': 8020, 'gestur': 3518, 'gesture': 3519, 'interpret': 4221, 'interpreted': 4222, 'returning': 6553, 'loss': 4728, 'john': 4330, 'deer': 2262, 'deere': 2263, '710d': 319, '0597': 12, '26607': 177, '90ho180': 361, 'tilting': 8045, 'harbor': 3717, 'wi': 8784, 'parallel': 5554, 'shrubberi': 7063, 'shrubbery': 7064, 'preventing': 5975, 'footer': 3326, '911': 364, 'henderson': 3802, 'nevada': 5204, 'dispatch': 2489, 'dispatched': 2490, 'nerv': 5196, 'nerve': 5197, 'generally': 3504, 'prognosi': 6022, 'prognosis': 6023, 'nonseri': 5248, 'nonserious': 5249, 'pinch': 5741, 'pinched': 5742, 'sidewal': 7075, 'sidewall': 7078, 'hentg': 3805, 'hentges': 3806, 'sons': 7277, 'dredg': 2601, 'dredging': 2602, 'veget': 8550, 'vegetation': 8551, 'sediment': 6878, 'sedimentation': 6879, 'runoff': 6711, 'cattail': 1481, 'bog': 1165, 'decompos': 2249, 'decomposing': 2250, 'mat': 4866, 'mats': 4871, 'sink': 7117, 'sinking': 7118, 'keeping': 4383, 'farthest': 3109, 'wyom': 8878, 'wyoming': 8879, 'occup': 5329, 'occupation': 5332, 'adjustments': 510, 'suggest': 7674, 'suggested': 7675, 'beneath': 1076, 'outrigger': 5459, 'sea': 6847, 'samaritan': 6756, 'proximal': 6077, 'knew': 4422, 'nev': 5203, 'never': 5205, 'trackho': 8135, 'trackhoe': 8136, 'cleared': 1668, 'resist': 6487, 'resistance': 6488, 'outward': 5463, 'wolf': 8831, 'wolfe': 8832, 'farms': 3106, 'huron': 3921, 'hurri': 3922, 'hurry': 3925, 'coalinga': 1720, 'mechanism': 4904, 'tracks': 8137, 'utilities': 8515, 'pallet': 5531, 'palletized': 5532, 'clay': 1659, '580': 292, '100002': 21, 'compactor': 1805, 'tongu': 8083, 'tongue': 8084, 'backhoes': 948, 'jobsites': 4325, 'tailg': 7828, 'tailgate': 7829, 'dismount': 2487, 'dismounted': 2488, 'uprais': 8479, 'upraised': 8480, 'retrieved': 6547, 'toolbox': 8088, 'stabilizer': 7428, 'radius': 6161, 'loud': 4731, 'horn': 3881, 'inoper': 4141, 'inoperable': 4142, 'siem': 7083, 'siemers': 7084, 'marco': 4840, 'marcos': 4842, '416c': 244, 'shallow': 6967, 'trenches': 8210, 'pedals': 5627, 'whi': 8768, 'why': 8783, 'development': 2373, 'besides': 1086, 'resting': 6514, 'piping': 5761, 'mylar': 5147, 'balloon': 979, 'layer': 4536, 'sat': 6773, 'seek': 6882, 'date': 2208, 'narrat': 5158, 'excavated': 2956, 'bangor': 987, 'maine': 4778, '420': 246, '420e': 247, 'inappropri': 4026, 'inappropriate': 4027, 'bowdoin': 1212, 'yarmouth': 8886, 'mailbox': 4776, '800': 336, 'curb': 2143, 'sully': 7682, '710g': 320, 'curl': 2145, 'citrus': 1641, 'komatsu': 4440, 'jrb': 4347, 'smartloc': 7215, 'quick': 6149, 'coupler': 2047, 'reattaching': 6250, 'separated': 6907, 'trapping': 8182, 'ddh': 2225, 'appl': 727, 'apple': 728, 'having': 3745, 'try': 8246, 'twist': 8283, 'twisted': 8284, 'functioning': 3438, 'nonon': 5243, 'pedestrian': 5631, 'former': 3353, 'student': 7614, 'baggag': 961, 'baggage': 962, 'belts': 1069, 'actuated': 480, 'nip': 5224, 'servicing': 6929, 'fluoresc': 3302, 'fluorescent': 3303, 'fixtures': 3245, 'bulb': 1305, 'bulbs': 1306, 'ballast': 977, 'ballasts': 978, 'pli': 5801, 'pliers': 5802, 'conductive': 1885, 'fiberglass': 3180, 'nxt': 5305, 'a12': 380, 'primari': 5983, 'primary': 5986, 'root': 6661, 'ge': 3498, 'ultra': 8300, 'ge432': 3499, 'mvps': 5144, '71832': 321, 'input': 4145, 'robl': 6623, 'robles': 6624, 'seventeen': 6944, 'vik': 8608, 'viking': 8609, 'changing': 1559, 'az': 936, 'flashing': 3266, 'transporting': 8175, 'saving': 6779, '530': 281, 'barg': 994, 'barge': 995, 'riv': 6610, 'river': 6611, 'crossing': 2117, 'barges': 996, 'moor': 5077, 'moored': 5078, 'nickajack': 5216, 'gap': 3467, 'tangl': 7846, 'tangled': 7847, 'mooring': 5079, 'fellow': 3158, 'sank': 6770, 'bow': 1211, 'spud': 7409, 'dogging': 2549, 'slides': 7178, 'link': 4658, 'ls': 4742, '78': 331, 'piling': 5736, 'early': 2689, 'barricad': 1002, 'barricade': 1003, 'outwards': 5464, 'hilltop': 3823, 'railings': 6171, 'stonecutt': 7533, 'stonecutter': 7534, 'stonecutters': 7535, 'barricades': 1005, 'barricaded': 1004, 'disturbed': 2514, 'preserv': 5951, 'preserved': 5952, 'openly': 5393, 'grey': 3607, 'conc': 1850, 'concealed': 1851, 'kon': 4441, 'cities': 1640, 'grading': 3578, 'modular': 5045, 'eployee': 2883, 'palo': 5537, 'alto': 621, 'din': 2428, 'dining': 2429, 'arriving': 798, 'hallway': 3679, 'bett': 1089, 'better': 1090, 'vantag': 8533, 'vantage': 8534, 'drums': 2642, 'grassi': 3590, 'grassy': 3591, 'errat': 2900, 'erratically': 2901, 'barrels': 1000, 'apprehend': 739, 'apprehended': 740, 'dui': 2657, 'manslaught': 4824, 'manslaughter': 4825, 'licens': 4611, 'license': 4612, 'hatcher': 3736, 'averag': 917, 'average': 918, 'depend': 2318, 'depending': 2319, 'roofs': 6657, 'shingl': 7010, 'shingles': 7012, 'shingled': 7011, 'akron': 576, 'discontinu': 2460, 'discontinued': 2461, 'altern': 618, 'alternative': 619, 'guards': 3648, 'relating': 6381, 'houses': 3901, 'continuing': 1956, 'incorpor': 4049, 'incorporated': 4050, 'cutaway': 2153, 'daewoo': 2182, '340': 215, 'lc': 4542, 'superstructur': 7709, 'superstructure': 7710, 'rule': 6700, 'brasfield': 1234, 'gorri': 3563, 'gorrie': 3564, 'calibr': 1381, 'calibrator': 1382, '350': 219, 'gooseneck': 3559, 'charging': 1565, 'batteri': 1023, 'battery': 1025, 'tracey': 8132, 'finksburg': 3218, 'batteries': 1024, 'mack': 4770, 'electrolyt': 2746, 'electrolyte': 2747, 'acid': 448, 'cornea': 2008, 'carrier': 1445, 'sold': 7253, 'hooked': 3870, 'charger': 1563, 'terminals': 7933, 'starter': 7473, 'sulfur': 7680, 'sulfuric': 7681, 'caust': 1492, 'caustic': 1493, 'erector': 2895, 'erectors': 2896, 'connections': 1908, 'cmu': 1717, 'falsework': 3096, 'dywidag': 2679, 'couplers': 2048, 'equival': 2889, 'equivalent': 2890, 'bean': 1033, 'rolls': 6651, 'insure': 4189, 'abi': 393, 'drives': 2621, 'spotter': 7388, '1walk': 124, '1walked': 125, 'getting': 3522, 'giv': 3528, 'giving': 3531, 'inserting': 4151, 'lag': 4477, 'losing': 4727, 'larger': 4509, 'cracked': 2068, 'carrol': 1447, 'carroll': 1448, 'builders': 1299, 'gets': 3521, 'ste': 7495, 'stee': 7498, 'schuff': 6809, 'liebherr': 4617, 'lr1200': 4741, 'ton': 8082, 'sheave': 6987, 'hickey': 3810, 'round': 6681, 'shackle': 6957, 'cott': 2028, 'cotter': 2031, 'unintentional': 8385, 'displacement': 2498, 'estim': 2918, 'estimator': 2921, 'salesman': 6750, 'burglar': 1323, 'clovi': 1709, 'clovis': 1710, 'raft': 6163, 'rafters': 6165, 'gathering': 3491, 'cost': 2026, 'estimate': 2919, 'bid': 1095, 'crouch': 2119, 'crouched': 2120, 'winds': 8805, 'entryway': 2871, 'unknow': 8398, 'unknowing': 8399, 'bear': 1034, 'bearing': 1035, 'improperly': 4015, 'fastener': 3116, 'blind': 1135, 'blinded': 1136, 'sledg': 7166, 'sledge': 7167, 'sight': 7086, 'fle': 3272, 'fleeing': 3274, 'plasterer': 5790, 'qu': 6138, 'quality': 6141, 'coat': 1723, 'incurring': 4058, 'norm': 5253, 'normal': 5254, 'miscellan': 5009, 'miscellaneous': 5010, 'eave': 2705, 'banks': 989, 'hurrican': 3923, 'hurricane': 3924, 'workboat': 8840, 'outboard': 5447, 'encount': 2812, 'encountered': 2814, 'wasp': 8687, 'attacked': 872, 'wasps': 8688, 'jackets': 4286, 'cave': 1497, 'residences': 6479, 'greater': 3603, 'caving': 1501, 'specialist': 7317, 'cajon': 1375, 'mep': 4928, '001028': 3, '85v': 345, 'rollers': 6648, 'bends': 1075, 'shapes': 6973, 'rectangl': 6303, 'rectangles': 6304, 'etc': 2922, 'lengths': 4593, 'trades': 8146, 'assisted': 845, 'dispens': 2491, 'dispenser': 2492, 'enters': 2861, 'prestraighten': 5965, 'prestraightening': 5966, 'straighten': 7562, 'straightening': 7564, 'sets': 6932, 'burr': 1333, 'ne': 5171, 'paramedic': 5558, 'grossmont': 3627, 'successful': 7654, 'shutt': 7066, 'shutter': 7067, 'vent': 8561, 'bladd': 1115, 'bladder': 1116, 'countertop': 2038, 'hing': 3827, 'hinged': 3828, 'inserted': 4150, 'cleanout': 1664, 'ad': 485, 'adding': 489, 'expand': 2981, 'portions': 5869, 'socket': 7243, 'closer': 1696, 'deploy': 2320, 'deployed': 2321, 'overload': 5485, 'overloading': 5487, 'scrotum': 6843, 'buck': 1288, 'fci': 3132, 'seism': 6890, 'seismic': 6891, 'retrofit': 6549, 'spreaders': 7403, 'headed': 3758, 'shields': 7001, 'hoppers': 3877, 'beta': 1087, 'furnac': 3442, 'furnace': 3443, 'baghous': 964, 'baghouse': 965, 'lance': 4490, 'spaces': 7301, 'carry': 1449, 'cases': 1459, 'necessari': 5178, 'necessary': 5179, 'fitt': 3232, 'fitters': 3234, '72': 322, 'stov': 7557, 'stove': 7558, 'burs': 1334, 'burses': 1335, 'refractori': 6344, 'refractory': 6345, 'cok': 1739, 'coke': 1740, 'taconit': 7817, 'taconite': 7818, 'coal': 1719, 'superh': 7704, 'superheated': 7705, 'infirmari': 4086, 'infirmary': 4087, 'breathing': 1243, 'difficulti': 2408, 'difficulties': 2409, 'coast': 1721, 'subdivis': 7632, 'subdivision': 7633, 'excavate': 2955, 'numer': 5296, 'numerous': 5297, 'describ': 2336, 'described': 2338, 'basketbal': 1016, 'basketball': 1017, 'hydroblast': 3934, 'hydroblasting': 3935, 'wast': 8689, 'waste': 8690, 'tanks': 7851, 'pumped': 6102, 'ocean': 5343, 'tankers': 7850, 'import': 4011, 'imported': 4012, 'distributed': 2509, 'refin': 6331, 'refine': 6332, '68': 312, 'fitted': 3233, 'triggers': 8220, 'metatars': 4936, 'metatarsal': 4937, 'boots': 1187, 'blaster': 1122, 'blasted': 1121, 'infected': 4084, 'acknowledging': 452, 'signed': 7095, 'agr': 551, 'agreement': 554, 'simul': 7108, 'simulated': 7109, 'demonstrating': 2303, 'wallet': 8665, 'card': 1420, 'describing': 2339, 'copi': 1998, 'copy': 2002, 'doctor': 2538, 'london': 4709, 'touching': 8111, 'firing': 3225, 'electrocuting': 2742, 'swivel': 7796, 'locations': 4693, 'name': 5155, 'disengag': 2469, 'disengaged': 2471, 'quarri': 6144, 'quarry': 6145, 'rack': 6156, 'expect': 2986, 'expected': 2987, 'kidney': 4400, 'kidneys': 4401, 'ingest': 4103, 'ingests': 4104, 'bleach': 1128, 'solut': 7260, 'solution': 7261, 'poison': 5831, 'poisoned': 5832, 'kk': 4416, 'gastrointestin': 3485, 'gastrointestinal': 3486, 'acut': 483, 'acute': 484, 'alcoholic': 581, 'gastr': 3483, 'gastritis': 3484, 'cups': 2141, 'complained': 1822, 'pains': 5524, 'chlorin': 1603, 'chlorine': 1604, 'inspections': 4159, 'armi': 784, 'army': 787, 'barrack': 998, 'odor': 5347, 'hotel': 3895, 'pulp': 6098, 'technicians': 7886, 'draining': 2593, 'towers': 8118, 'outag': 5444, 'outage': 5445, 'wash': 8681, 'washer': 8683, 'overflow': 5477, 'overflowed': 5478, 'dioxid': 2430, 'dioxide': 2431, '180': 89, 'monitored': 5064, 'exhibit': 2974, 'outages': 5446, 'radio': 6160, 'switches': 7793, 'spong': 7375, 'sponges': 7377, 'washing': 8685, 'reversed': 6559, 'bin': 1102, 'seeing': 6881, 'scoop': 6817, 'agit': 548, 'agitator': 549, 'bang': 986, 'lockout': 4698, 'tagout': 7822, 'tag': 7819, 'pumps': 6104, 'join': 4333, 'assemblies': 831, 'innermost': 4137, 'hundr': 3917, 'hundred': 3918, 'handled': 3697, 'electrically': 2736, 'assembly': 833, 'stainless': 7444, 'impel': 4006, 'impeller': 4007, 'protects': 6064, 'weighs': 8725, 'outermost': 5451, 'carries': 1446, 'collars': 1752, 'firmly': 3227, 'threaded': 8006, 'slack': 7161, 'think': 7983, 'thinking': 7984, 'instant': 4171, 'steamer': 7497, 'oven': 5466, 'airtech': 575, 'groen': 3623, 'mendota': 4924, 'unifi': 8376, 'unified': 8377, 'stretched': 7585, 'smaller': 7214, 'appliances': 730, 'reconnect': 6287, 'comcast': 1777, 'comfort': 1780, 'comfortable': 1781, 'foliag': 3316, 'foliage': 3317, 'hairlin': 3673, 'hairline': 3674, 'portervill': 5866, 'porterville': 5867, 'busbar': 1339, 'sawdust': 6781, 'townhous': 8120, 'townhouse': 8121, 'bicep': 1094, '240': 166, 'metallic': 4935, 'sheathed': 6984, 'cabl': 1368, 'shelf': 6996, '67': 311, 'slabs': 7160, 'anaheim': 658, 'stonework': 7537, 'stoneworks': 7538, 'assignments': 841, 'count': 2036, 'counter': 2037, 'tops': 8095, 'beyond': 1092, 'instance': 4170, 'thos': 7997, 'those': 7998, 'jad': 4291, 'jade': 4292, 'sanding': 6768, 'arched': 769, 'blocking': 1140, 'instantly': 4172, 'baltimor': 980, 'baltimore': 981, 'washington': 8686, 'metropolitan': 4953, 'cours': 2050, 'course': 2051, 'overland': 5482, 'kansa': 4376, 'kansas': 4377, 'morgan': 5086, 'higher': 3813, 'winches': 8797, 'much': 5122, 'blowout': 1147, 'cat': 1468, 'ap': 715, '1055d': 29, 'hitch': 3838, 'retracted': 6542, 'inward': 4253, 'offload': 5357, 'absent': 408, 'embed': 2771, 'embedded': 2772, 'tires': 8064, 'disengaging': 2472, 'concussive': 1871, 'derm': 2327, 'dermal': 2328, 'mixed': 5024, 'sequ': 6911, 'sequence': 6912, 'events': 2936, 'ch': 1544, 'chance': 1554, 'reoccurr': 6435, 'reoccurrence': 6436, 'knowledge': 4433, 'unrel': 8426, 'unrelated': 8427, 'employers': 2791, 'writ': 8870, 'writing': 8871, 'rim': 6597, 'blows': 1148, 'infl': 4088, 'inflating': 4089, 'snow': 7239, 'yal': 8882, 'yale': 8883, '1900': 98, '950b': 373, 'onboard': 5371, 'inlin': 4132, 'inline': 4133, 'gaug': 3492, 'gauge': 3493, 'period': 5667, 'periodically': 5668, 'carpet': 1437, 'neighbor': 5191, '1509': 67, '3395': 213, 'young': 8898, 'sj': 7132, 'cimino': 1625, 'sebastopol': 6861, 'forms': 3356, 'dc390': 2221, 'permanente': 5671, 'loses': 4726, 'recr': 6301, 'recreation': 6302, 'parks': 5572, 'draw': 2597, 'drawer': 2598, 'tabl': 7811, 'retrofitted': 6550, 'quart': 6146, 'quarter': 6147, 'blades': 1118, 'workpiec': 8845, 'workpiece': 8846, 'feath': 3136, 'feather': 3137, 'rabbet': 6155, 'swiveled': 7797, 'distal': 2506, 'phalang': 5695, 'phalanges': 5696, 'wss': 8876, 'dasi': 2205, 'dasy': 2206, 'rb': 6219, 'drizzl': 2624, 'drizzle': 2625, 'greenhous': 3605, 'greenhouse': 3606, 'wanted': 8672, 'unus': 8461, 'unused': 8462, 'pay': 5617, 'payment': 5618, 'agre': 552, 'agreed': 553, 'discussed': 2466, 'wheth': 8766, 'whether': 8767, 'electricity': 2739, 'fum': 3432, 'fumes': 3433, '54': 282, 'roon': 6660, 'picket': 5717, 'scaf': 6789, 'safeway': 6741, 'llp': 4675, 'produced': 6012, 'fill': 3194, 'settle': 6937, 'tier': 8031, 'repositioned': 6460, 'handed': 3690, 'diminish': 2426, 'diminished': 2427, 'someon': 7268, 'someone': 7269, 'exploding': 3002, 'bp': 1215, 'thaw': 7948, 'thawing': 7949, 'frozen': 3417, 'overcom': 5471, 'overcome': 5472, 'domest': 2553, 'domestic': 2554, 'boilers': 1168, 'sweating': 7778, 'profus': 6020, 'profusely': 6021, 'extremely': 3037, 'obtain': 5320, 'obtained': 5321, 'key': 4392, 'requested': 6465, 'measurements': 4898, 'dampers': 2195, 'troubleshoot': 8233, 'troubleshooting': 8234, 'fired': 3222, 'mississippi': 5018, '47': 257, 'loosening': 4723, 'corrug': 2024, 'corrugated': 2025, 'frost': 3415, 'frosted': 3416, 'green': 3604, 'leland': 4590, 'allen': 594, 'spangl': 7304, 'spangler': 7305, 'lincoln': 4650, 'rusti': 6726, 'rusty': 6727, 'expanding': 2983, 'shear': 6981, 'sheared': 6982, 'followed': 3319, 'clung': 1713, 'narrowli': 5163, 'narrowly': 5164, 'situation': 7125, 'turbin': 8264, 'turbine': 8265, 'chil': 1592, 'chiller': 1593, 'hoists': 3850, 'quickly': 6150, 'twisting': 8285, 'dynam': 2674, 'dynamic': 2675, 'tighten': 8036, 'tightening': 8038, 'flanges': 3263, 'dizzy': 2534, '1wa': 123, '1was': 126, 'wrench': 8867, 'unhooking': 8374, 'bolting': 1171, 'concours': 1864, 'concourse': 1865, 'sport': 7384, 'sports': 7385, 'arena': 780, '79': 333, 'functions': 3439, 'uneven': 8358, 'major': 4786, 'ankles': 687, 'ties': 8033, 'horizontally': 3880, 'antelop': 698, 'antelope': 699, 'torrance': 8103, '1220': 45, 'propped': 6056, 'pubi': 6085, 'pubis': 6086, 'sacr': 6729, 'sacral': 6730, 'posts': 5886, 'roofed': 6653, 'web': 8713, 'joists': 4339, 'spanning': 7308, 'rust': 6724, 'rusted': 6725, 'shores': 7036, 'strateg': 7573, 'strategically': 7574, 'primed': 5987, 'nailed': 5150, 'diagonally': 2390, 'lateral': 4521, 'ends': 2819, 'kind': 4414, 'rubbl': 6696, 'rubble': 6697, 'nut': 5302, 'apprentic': 741, 'apprentice': 742, 'nuts': 5303, 'keg': 4384, 'kegs': 4385, 'canvass': 1407, 'hauled': 3740, 'nois': 5229, 'noise': 5230, 'eyewear': 3045, '1997': 117, 'canopi': 1400, 'canopy': 1401, '56': 286, 'charnesbi': 1569, 'charnesby': 1570, 'skeleton': 7135, 'penthous': 5649, 'penthouse': 5650, 'stationed': 7490, 'compris': 1846, 'comprising': 1848, 'travers': 8191, 'traversing': 8193, 'domino': 2555, 'fashion': 3112, 'extensively': 3022, '1986': 108, 'displace': 2496, 'unkn': 8397, 'ht': 3908, 'riser': 6606, '84': 342, 'stadium': 7433, 'taking': 7836, 'untied': 8458, 'staduim': 7434, 'manilla': 4817, 'component': 1838, '1985': 107, 'reduct': 6318, 'reduction': 6319, 'monigan': 5062, 'draglin': 2587, 'dragline': 2588, '668': 310, 'club': 1711, 'laros': 4510, 'larose': 4511, 'louisiana': 4732, 'employing': 2792, '2600': 176, 'tensil': 7926, 'tensile': 7927, 'rebound': 6253, 'rebounding': 6254, 'rules': 6702, 'unwis': 8467, 'unwise': 8468, 'rely': 6396, 'bond': 1175, 'bonding': 1176, 'adhes': 501, 'adhesive': 502, 'membran': 4917, 'membranes': 4919, 'spreading': 7404, 'epdm': 2881, 'pail': 5521, 'pails': 5522, 'adher': 498, 'adhere': 499, 'empty': 2797, 'containers': 1946, 'uncovered': 8333, 'ambi': 630, 'ambient': 631, '90s': 362, 'humid': 3915, 'humidity': 3916, 'data': 2207, 'labels': 4452, 'readili': 6231, 'readily': 6232, 'static': 7485, 'abrad': 400, 'abraded': 401, 'fault': 3127, 'faulted': 3128, 'ineffect': 4080, 'ineffective': 4081, 'drops': 2632, 'disassembling': 2447, 'alter': 616, 'metatarsals': 4938, 'contacts': 1942, 'girders': 3527, 'bents': 1078, 'settled': 6938, 'few': 3176, '30ft': 197, 'clockwis': 1690, 'clockwise': 1691, 're': 6221, '500c': 273, 'overse': 5491, 'overseeing': 5492, 'spooling': 7380, 'ledge': 4575, 'handhold': 3692, 'securely': 6875, 'grasp': 3586, 'grasped': 3587, 'guided': 3651, 'wor': 8836, 'wore': 8837, 'director': 2440, 'realizing': 6241, 'pads': 5520, 'alleging': 593, '3210': 204, 'handholds': 3693, '3314': 210, 'swab': 7773, 'swabs': 7774, 'brushes': 1285, 'scrapers': 6827, 'method': 4947, 'methods': 4949, 'assigning': 839, 'energi': 2821, 'energy': 2825, 'author': 895, 'authorization': 897, 'techniqu': 7887, 'techniques': 7888, 'enforc': 2826, 'enforce': 2827, 'compli': 1833, 'compliance': 1834, 'procedural': 6004, 'ductil': 2651, 'ductile': 2652, 'unprotect': 8422, 'unprotected': 8423, 'sumt': 7689, 'sumter': 7690, 'morrison': 5091, 'huger': 3912, 'ravenel': 6213, 'charleston': 1568, '81': 338, 'freightlin': 3395, 'freightliner': 3396, 'altec': 615, 'derrick': 2329, 'carolina': 1429, 'p728016': 5509, 'fmcsa': 3312, '5154': 277, 'usdot': 8498, '278298': 181, 'alway': 625, 'always': 626, 'taught': 7870, 'proce': 6002, 'straightened': 7563, 'reared': 6245, 'passenger': 5597, 'phoned': 5704, 'chipped': 1597, 'lineman': 4654, 'groundsman': 3633, 'flagman': 3252, 'visalia': 8622, 'p1': 5508, 'mid': 4960, 'wreck': 8865, 'wrecking': 8866, 'manbucket': 4807, 'strand': 7568, 'hanger': 3708, 'rend': 6423, 'render': 6424, 'regain': 6353, 'regained': 6354, 'consci': 1910, 'consciousness': 1912, 'lumbar': 4755, 'hidden': 3811, 'defect': 2264, 'structurally': 7607, 'apprais': 737, 'appraisal': 738, 'sounding': 7284, 'demonstrated': 2302, 'pertain': 5684, 'pertaining': 5685, 'devis': 2377, 'devised': 2378, 'implemented': 4010, 'headach': 3756, 'headache': 3757, 'ranger': 6198, 'manitowoc': 4820, 'leveling': 4601, 'button': 1354, 'actuator': 482, 'neutr': 5201, 'neutral': 5202, 'malfunct': 4796, 'malfunction': 4797, 'servo': 6930, 'malfunctioned': 4798, 'buci': 1287, 'bucy': 1294, 'rus': 6718, 'eri': 2897, 'erie': 2898, 'crawler': 2089, 'redi': 6309, 'snapped': 7235, 'kill': 4403, 'marsh': 4851, 'timb': 8047, 'timber': 8048, 'const': 1926, 'guardri': 3646, 'guardrial': 3647, 'screen': 6833, 'grit': 3620, 'signalled': 7093, 'prestress': 5967, 'prestressed': 5968, 'cranes': 2077, 'lubr': 4745, 'lubricated': 4748, '225': 158, 'demobil': 2294, 'demobilized': 2295, 'ship': 7013, 'shipment': 7014, 'whip': 8773, 'spools': 7381, 'resistant': 6489, 'tend': 7915, 'tended': 7916, 'overlap': 5483, 'unevenly': 8359, 'integral': 4193, 'auxiliari': 909, 'auxiliary': 910, 'clutch': 1714, 'common': 1790, 'axi': 932, 'axis': 933, 'independently': 4063, 'putting': 6130, 'drawn': 2600, 'yield': 8895, 'astrid': 852, 'astride': 853, 'continuously': 1959, 'closest': 1697, 'appears': 726, 'alerted': 583, 'plaska': 5787, 'milepost': 4976, 'pari': 5566, 'paris': 5567, 'township': 8122, 'puller': 6092, 'gmc': 3547, 'crossed': 2115, 'payn': 5619, 'payne': 5620, 'mcginn': 4880, 'cummin': 2138, 'cummins': 2139, 'petroleum': 5688, 'mclaughlin': 4884, 'nv': 5304, 'tbm': 7876, 'term': 7930, 'describe': 2337, 'modes': 5039, 'involves': 4251, 'pressurization': 5963, 'cutterhead': 2158, 'excessive': 2966, 'groundwat': 3634, 'groundwater': 3635, 'inflow': 4090, 'inflows': 4091, 'detachment': 2355, 'inject': 4116, 'injected': 4117, 'annular': 690, 'seg': 6887, 'segment': 6888, 'successfully': 7655, 'crown': 2122, 'keyston': 4393, 'keystone': 4394, '134': 55, 'rams': 6190, 'abut': 410, 'abutting': 411, 'retraction': 6544, 'pop': 5861, 'forces': 3335, 'exert': 2969, 'exerted': 2970, 'gears': 3501, 'annulus': 691, 'pant': 5550, 'borer': 1190, 'jean': 4306, 'jeans': 4307, 'cor': 2003, 'core': 2006, 'rep': 6438, 'repeatedly': 6446, '94': 371, 'installations': 4166, 'locator': 4694, 'detector': 2361, 'communicated': 1794, 'verm': 8576, 'vermeer': 8577, 'd24x40': 2176, 'hookup': 3872, 'outfit': 5452, 'outfitted': 5453, 'stak': 7452, 'stakes': 7454, 'tapped': 7857, 'bit': 1108, 'tightened': 8037, 'unsuccessfully': 8451, 'manipul': 4818, 'manipulated': 4819, 'healthwork': 3765, 'healthworks': 3766, 'orthoped': 5430, 'orthopedic': 5431, 'jolla': 4340, 'outpati': 5456, 'outpatient': 5457, 'objects': 5310, 'pipelines': 5759, 'torqu': 8100, 'torque': 8101, 'exceed': 2961, 'exceeded': 2962, 'stresses': 7583, 'launching': 4531, 'factur': 3075, 'facture': 3076, 'adh': 497, 'adhering': 500, 'engaging': 2832, 'righted': 6595, 'courthous': 2053, 'courthouse': 2054, 'ream': 6242, 'reamer': 6243, 'nagel': 5148, 'segments': 6889, 'reset': 6476, 'retracting': 6543, 'misalign': 5006, 'misaligned': 5007, 'tor': 8096, 'tore': 8098, 'flesh': 3276, 'instep': 4174, 'sacred': 6732, 'flail': 3253, 'flailed': 3254, 'seatboard': 6859, 'joints': 4337, 'drink': 2611, 'fails': 3081, 'bosun': 1197, 'chair': 1547, 'boatswain': 1156, 'chairs': 1548, 'leaking': 4554, 'rigged': 6591, 'rappel': 6203, 'rappelled': 6204, 'bush': 1342, 'bushes': 1343, 'princ': 5989, 'prince': 5990, 'georg': 3514, 'george': 3515, 'profession': 6018, 'professional': 6019, 'rain': 6174, 'storms': 7553, 'boatswains': 1157, 'purina': 6116, 'mills': 4988, 'gainesvill': 3458, 'gainesville': 3459, 'tackl': 7815, 'tackle': 7816, 'gradi': 3576, 'grady': 3579, 'boatwain': 1158, 'bould': 1204, 'boulder': 1205, 'drainag': 2590, 'drainage': 2591, 'articulated': 809, 'substr': 7651, 'substrate': 7652, 'tubes': 8250, 'spaced': 7300, 'boulders': 1206, '1998': 118, 'drilled': 2608, 'split': 7369, 'splitting': 7372, 'barton': 1009, 'thighs': 7981, 'french': 3397, 'planning': 5782, '101': 24, 'rockslid': 6628, 'rockslide': 6629, 'log': 4706, 'logging': 4707, 'granit': 3583, 'granite': 3584, 'vulcan': 8646, 'boxes': 1214, 'various': 8542, 'neighborhood': 5192, 'lid': 4614, 'lids': 4615, 'groov': 3625, 'grooves': 3626, '182': 91, 'row': 6689, 'fear': 3134, 'fearing': 3135, '1637': 79, 'whenstructur': 8757, 'whenstructural': 8758, 'hansford': 3713, 'imbal': 3985, 'imbalance': 3986, 'davies': 2213, 'footings': 3330, 'stairwel': 7450, 'stairwell': 7451, 'vertic': 8582, 'eastward': 2700, 'eastwardly': 2701, 'unattach': 8312, 'unattached': 8313, 'footprint': 3331, 'capacitor': 1412, 'risers': 6607, '7400k': 325, 'osu': 5434, 'raising': 6179, 'triangl': 8214, 'triangle': 8215, 'fabr': 3051, 'fabrication': 3054, '270': 179, 'dolli': 2551, 'dolly': 2552, 'castor': 1464, 'arrowhead': 800, 'colton': 1766, 'gable': 3454, 'succession': 7656, 'insuffici': 4179, 'incorrectly': 4052, 'braking': 1229, 'cooki': 1991, 'cookies': 1992, 'ventura': 8568, 'coccyx': 1729, 'tailbon': 7826, 'tailbone': 7827, 'braced': 1219, 'hanov': 3711, 'hanover': 3712, 'muir': 5126, 'walnut': 8668, 'poor': 5859, 'poorly': 5860, 'shored': 7035, 'surcharg': 7734, 'surcharge': 7735, 'compet': 1818, 'competent': 1819, 'disclos': 2455, 'disclosed': 2456, 'background': 945, 'visited': 8627, 'whol': 8779, 'whole': 8780, 'engineered': 2836, 'coating': 1725, 'sponge': 7376, 'tubular': 8252, 'viewed': 8607, '3rd': 232, 'brief': 1257, 'whos': 8781, 'whose': 8782, 'ranged': 6197, 'majority': 4787, 'themselv': 7958, 'themselves': 7959, 'among': 639, 'function': 3435, 'defici': 2267, 'deficiencies': 2268, 'dealing': 2231, 'stabilization': 7425, 'anchoring': 668, 'bulkhead': 1307, 'm15': 4763, 'dislocates': 2476, 'campbel': 1391, 'campbell': 1392, 'dislocating': 2477, 'jos': 4341, 'jose': 4342, 'thirteenth': 7989, '146': 63, 'scor': 6820, 'scoring': 6821, 'styrofoam': 7625, '140': 60, 'slips': 7187, 'westwood': 8746, 'apply': 733, 'gut': 3655, 'vinc': 8612, 'vincents': 8613, 'fireplac': 3223, 'fireplace': 3224, 'reconstruct': 6289, 'reconstruction': 6290, 'liv': 4669, 'living': 4672, 'intention': 4207, 'soak': 7241, 'soaked': 7242, 'padded': 5516, '59': 293, 'longitudin': 4712, 'longitudinal': 4713, 'doctors': 2539, 'technically': 7884, 'nurse': 5299, 'surv': 7754, 'survive': 7757, 'leader': 4547, 'anyth': 710, 'anything': 711, 'consider': 1916, 'considerable': 1917, 'pool': 5857, 'pooled': 5858, 'mass': 4861, 'massive': 4862, 'clark': 1651, 'agil': 546, 'agility': 547, 'subcontract': 7628, 'subcontracted': 7629, 'responsibility': 6507, 'ordering': 5421, 'dealt': 2232, 'offici': 5355, 'officials': 5356, 'leaders': 4548, 'skilled': 7145, 'laborers': 4458, 'jobs': 4322, 'groups': 3637, 'chalk': 1549, 'undo': 8356, 'undoing': 8357, 'shooting': 7030, 'slon': 7190, 'slone': 7191, 'misfire': 5011, 'stapling': 7470, 'sometim': 7272, 'sometime': 7273, 'swim': 7787, 'swimming': 7788, 'reviv': 6562, 'revived': 6563, 'readmit': 6235, 'readmitted': 6236, 'corr': 2020, 'gari': 3475, 'gary': 3477, 'supplement': 7718, 'supplemental': 7719, 'smof': 7223, 'submarin': 7638, 'submarine': 7639, 'newport': 5211, 'news': 5212, 'shipyard': 7017, 'virginia': 8620, 'feeling': 3152, 'ill': 3975, 'apparent': 722, 'strok': 7600, 'stroke': 7601, 'classifi': 1653, 'classified': 1654, 'certif': 1536, 'certificate': 1538, 'intracrani': 4238, 'intracranial': 4239, 'hypertension': 3944, 'vosh': 8642, 'abacus': 384, 'lul': 4752, 'lull': 4753, '844': 343, 'variabl': 8540, 'reasons': 6247, 'york': 8896, 'brakemen': 1227, 'unloaded': 8408, 'collid': 1759, 'collided': 1760, 'switching': 7795, 'bellevu': 1063, 'bellevue': 1064, 'phases': 5699, 'trains': 8158, 'solex': 7256, 'beco': 1042, '480v': 265, '2kamp': 190, 'shorted': 7039, 'jurisdict': 4368, 'jurisdiction': 4369, 'live': 4670, 'fuel': 3422, 'tender': 7917, 'scalfold': 6795, 'angular': 681, 'solid': 7257, 'inciner': 4036, 'incinerator': 4037, 'stairway': 7449, 'emt': 2799, 'detroit': 2369, 'ernesto': 2899, 'casa': 1456, 'casas': 1457, 'jr': 4346, 'fabricated': 3052, 'ins': 4146, 'soreness': 7281, '2912': 187, 'stations': 7491, 'mason': 4857, 'masons': 4860, 'okay': 5365, 'answ': 696, 'answer': 697, 'tuesday': 8254, 'book': 1179, 'booker': 1180, 'walkthrough': 8662, 'chunk': 1621, 'estimated': 2920, 'startl': 7475, 'startled': 7476, 'nomin': 5232, 'nominal': 5233, 'reacted': 6227, 'buckl': 1292, 'buckled': 1293, 'mouth': 5108, 'reclin': 6281, 'reclined': 6282, 'waited': 8654, 'lexington': 4607, 'columbia': 1767, 'palmetto': 5535, 'richland': 6577, 'bricklayer': 1248, 'americana': 637, 'apport': 735, 'apportioned': 736, 'less': 4597, 'ledges': 4577, 'burbank': 1322, 'bricklay': 1247, '91': 363, 'exhaustion': 2973, 'mock': 5035, 'archway': 774, '07': 14, 'tate': 7869, 'incorporation': 4051, 'know': 4431, 'timers': 8052, 'courses': 2052, 'cram': 2071, 'cramer': 2072, 'associates': 849, '600aj': 296, '4wd': 270, 'drap': 2595, 'draped': 2596, 'casu': 1466, 'casual': 1467, 'skidd': 7138, 'skidder': 7139, 'ditchwitch': 2517, 'sk350': 7134, 'tracked': 8134, 'steers': 7504, 'sicken': 7069, 'sickened': 7070, 'saliba': 6751, 'civil': 1643, 'piers': 5727, 'spartan': 7312, 'preparations': 5941, 'glover': 3541, 'cari': 1428, 'cary': 1454, '2262': 159, 'owensboro': 5501, 'ki': 4395, 'net': 5199, 'kentucki': 4386, 'kentucky': 4387, 'skidst': 7141, 'skidsteer': 7142, 'magorian': 4775, 'mine': 4992, 'shotcret': 7044, 'shotcrete': 7045, 'application': 731, 'instaling': 4163, 'chanel': 1555, 'tarp': 7860, 'tarps': 7862, 'bus': 1338, 'diponio': 2433, 'ventur': 8567, 'venture': 8569, 'jointly': 4336, 'fluor': 3301, 'enterpris': 2859, 'enterprises': 2860, 'staging': 7441, 'actual': 478, 'mechanically': 4903, 'hips': 3830, 'dosh': 2568, 'workplac': 8847, 'workplace': 8848, 'employment': 2793, 'confer': 1894, 'conference': 1895, 'walsh': 8669, 'false': 3095, 'unclip': 8323, 'unclipped': 8324, 'fabricating': 3053, 'vacuuming': 8524, 'richmond': 6578, 'seismically': 6892, 'ingersoll': 4102, 'hu': 3909, '188': 95, 'crashed': 2082, 'creating': 2095, 'buckatunna': 1289, 'mi': 4957, 'riprap': 6602, 'numbers': 5295, '9310': 369, '9299': 368, 'tandem': 7845, 'planked': 5779, 'timbers': 8049, 'damages': 2191, 'cerrito': 1533, 'cerritos': 1534, 'damageto': 2192, 'jd': 4304, 'jax': 4303, 'acorn': 454, 'chr': 1616, 'normally': 5255, 'trapez': 8179, 'trapeze': 8180, 'adequately': 496, 'approval': 750, 'tack': 7814, 'misalignment': 5008, 'refit': 6337, 'redo': 6312, 'layout': 4539, 'chs': 1619, 'reinstal': 6375, 'reinstalled': 6376, 'ross': 6672, 'offset': 5360, '147': 64, 'pulleys': 6094, 'runaway': 6706, 'brakes': 1228, 'gash': 3480, 'added': 488, 'shrub': 7062, 'cleanup': 1665, 'deadly': 2228, 'veloc': 8558, 'velocity': 8559, 'upwards': 8490, 'hart': 3732, 'mandatori': 4808, 'mandatory': 4809, 'thing': 7982, 'occurr': 5339, 'occurrence': 5341, 'mo': 5032, 'moments': 5057, 'wrong': 8873, 'craniocerebr': 2079, 'craniocerebral': 2080, 'dh': 2381, 'griffin': 3609, 'deeper': 2260, 'spoils': 7374, 'lined': 4653, 'southeastern': 7291, 'fair': 3085, 'fairly': 3087, 'trailers': 8151, 'specul': 7332, 'speculation': 7333, 'examine': 2951, 'foul': 3362, 'eman': 2767, 'emanated': 2768, '440': 250, 'spectacl': 7330, 'spectacle': 7331, 'modul': 5044, 'module': 5046, '220': 155, 'buses': 1341, 'occured': 5338, 'kan': 4373, 'hemet': 3798, 'settlement': 6939, 'hog': 3846, 'mow': 5118, 'mowing': 5119, 'die': 2397, '1994': 114, 'sewag': 6952, 'sewage': 6953, 'butterfli': 1352, 'butterfly': 1353, 'efflu': 2716, 'effluent': 2717, 'channel': 1560, 'workable': 8839, 'engulfing': 2842, 'standpoint': 7466, 'hardlin': 3721, 'hardline': 3722, 'tripl': 8226, 'triple': 8227, '1800': 90, 'aztec': 937, 'nineti': 5222, 'ninety': 5223, 'tid': 8026, 'tide': 8027, 'preform': 5928, 'preformed': 5929, 'keeper': 4382, '95': 372, 'tray': 8194, 'hangers': 3709, 'squat': 7415, 'squatting': 7416, 'lap': 4506, 'grasping': 3588, '170': 84, 'underwat': 8348, 'underwater': 8349, 'watson': 8700, 'rent': 6432, 'rental': 6433, 'deepest': 2261, 'canc': 1396, 'cancer': 1397, 'italian': 4277, 'restaur': 6511, 'restaurant': 6512, 'easthampton': 2699, 'ma': 4764, 'finding': 3206, 'confirm': 1900, 'confirmed': 1901, 'flashlight': 3267, 'spous': 7391, 'spouse': 7392, 'heaters': 3774, 'generators': 3509, 'heav': 3777, 'heaving': 3779, 'refuel': 6349, 'weekend': 8719, 'incl': 4038, 'inclement': 4039, 'theft': 7954, '01': 7, 'difficulty': 2410, 'carboxyhemoglobin': 1419, 'alvar': 623, 'multifamili': 5130, 'multifamily': 5131, '4100': 242, 'redwood': 6320, 'tendons': 7922, 'saws': 6783, 'assert': 834, 'asserted': 835, 'acknowledge': 450, 'rug': 6698, 'fourthon': 3368, 'container': 1945, 'flour': 3290, 'pack': 5513, 'packer': 5514, 'flourmil': 3291, 'flourmill': 3292, 'wherein': 8765, 'shorter': 7041, 'knot': 4429, 'knots': 4430, 'mayb': 4877, 'maybe': 4878, 'benching': 1071, 'sloping': 7195, 'consultants': 1934, 'integrated': 4194, 'nursing': 5301, 'delay': 2284, 'unclear': 8322, '1aa': 120, 'failing': 3080, '3275': 206, 'mixer': 5025, 'lim': 4643, 'lime': 4645, 'cont': 1938, 'contents': 1952, 'essex': 2914, '120s': 43, 'cub': 2135, 'consists': 1923, 'cylindr': 2173, 'cylindrical': 2174, 'paddles': 5519, 'centerlin': 1523, 'centerline': 1524, 'grated': 3594, 'automat': 899, 'automatically': 901, 'grat': 3592, 'grid': 3608, 'openings': 5392, 'clearance': 1667, 'gril': 3611, 'grill': 3612, 'knif': 4423, 'knife': 4424, 'cutter': 2157, 'clement': 1674, 'clements': 1675, 'dean': 2233, 'galvan': 3463, 'galvanized': 3464, '450': 252, 'defective': 2265, 'snatch': 7238, 'cv': 2161, 'cve': 2162, 'whipped': 8774, 'dc': 2220, 'dcs': 2224, 'disconnecting': 2459, 'locking': 4697, 'jointed': 4335, 'existed': 2976, 'unclogging': 8326, 'golden': 3552, 'transfer': 8163, 'coff': 1732, 'coffer': 1735, 'ws': 8875, 'cg': 1543, 'stacker': 7432, 'architectur': 772, 'architectural': 773, 'sequoia': 6913, 'sequoias': 6914, 'classroom': 1655, 'fabricator': 3055, 'aids': 559, 'winching': 8798, 'kaweah': 4380, 'malfunctioning': 4799, 'diving': 2529, 'bulkheads': 1308, 'diffus': 2411, 'diffusers': 2412, 'deficient': 2269, 'idlh': 3961, 'dive': 2519, '230': 162, 'televis': 7902, 'television': 7903, 'stencil': 7506, 'stencils': 7507, 'advis': 524, 'advising': 525, 'ps': 6081, 'pse': 6082, '113': 36, 'tamp': 7842, 'tamper': 7843, 'jackhamm': 4287, 'jackhammer': 4288, 'careful': 1426, 'express': 3013, '1200': 42, 'fins': 3219, 'vanes': 8532, 'positional': 5872, 'tremmi': 8207, 'tremmie': 8208, 'smash': 7216, 'smashed': 7217, 'injurs': 4128, 'reconnecting': 6288, 'misjudg': 5012, 'misjudged': 5013, 'inlet': 4131, 'shifting': 7004, 'offloading': 5358, 'frequ': 3399, 'frequently': 3400, 'rooftop': 6658, 'groceri': 3621, 'grocery': 3622, 'transform': 8166, 'transformer': 8167, 'polyurethan': 5851, 'polyurethane': 5852, 'copp': 2000, 'copper': 2001, 'sag': 6742, 'sagged': 6744, 'val': 8525, 'vac': 8521, 'vacant': 8522, 'regard': 6355, 'offs': 5359, 'secondat': 6867, 'molds': 5052, 'carriag': 1442, 'carriage': 1443, 'restoring': 6518, 'parapets': 5563, 'remaind': 6398, 'remainder': 6399, 'commonly': 1791, 'roofers': 6655, 'weights': 8727, 'disassemble': 2445, 'disassembly': 2448, 'gantri': 3465, 'gantry': 3466, 'hc': 3751, 'precis': 5920, 'precision': 5921, 'drift': 2605, 'increasing': 4056, 'jug': 4353, 'counterweights': 2041, '25121': 171, 'arco': 776, 'noon': 5250, 'changed': 1558, 'lattic': 4527, 'lattice': 4528, '9150': 365, '51529': 276, 'monrovia': 5073, 'unmount': 8414, 'unmounted': 8415, 'anticip': 705, 'anticipated': 706, 'underway': 8350, 'plumbers': 5811, 'departed': 2316, 'presented': 5950, 'consequ': 1913, 'consequently': 1914, '177': 86, 'vents': 8566, 'perimet': 5664, 'perimeter': 5665, '787': 332, '330': 208, 'convers': 1984, 'conversation': 1985, 'screaming': 6832, 'thrash': 8002, 'thrashing': 8003, 'trembl': 8205, 'trembling': 8206, 'pea': 5621, 'crawlspac': 2090, 'crawlspace': 2091, 'handyman': 3704, 'brother': 1273, 'pair': 5530, 'tester': 7938, 'sometimes': 7274, 'unawar': 8314, 'unaware': 8315, 'thedford': 7953, 'b7': 938, 'shotgun': 7046, 'angri': 679, 'angry': 680, 'upstream': 8488, 'deenergize': 2257, 'restroom': 6524, 'class': 1652, 'insulating': 4183, 'cutout': 2154, 'unconfirm': 8327, 'unconfirmed': 8328, 'cyanid': 2164, 'cyanide': 2165, 'daniel': 2201, 'daniels': 2202, 'rohm': 6637, 'haa': 3667, 'haas': 3668, 'monorail': 5070, 'hydrogen': 3938, 'hcn': 3752, 'recircul': 6274, 'recirculating': 6275, 'ach': 444, 'washed': 8682, 'thursday': 8022, 'pipefitt': 5755, 'pipefitter': 5756, 'ppm': 5908, 'monitox': 5066, 'drager': 2582, 'detect': 2358, 'detected': 2359, '161': 78, 'cough': 2033, 'coughing': 2034, 'experiencing': 2995, 'sounded': 7283, 'detection': 2360, 'showered': 7057, 'shower': 7056, 'southmor': 7294, 'southmore': 7295, 'showers': 7058, 'belmont': 1065, 'kp': 4442, 'methyl': 4950, 'methacryl': 4941, 'methacrylate': 4942, 'laidlaw': 4479, 'overall': 5469, 'companies': 1807, 'affect': 532, 'affected': 533, 'tests': 7940, 'onset': 5381, 'substanti': 7648, 'substantiate': 7649, 'monitoxes': 5067, 'trac': 8130, 'traces': 8131, 'dropping': 2631, 'specifies': 7328, 'limits': 4648, 'relat': 6379, 'relative': 6382, 'range': 6196, 'tast': 7867, 'tasted': 7868, 'els': 2764, 'else': 2765, 'repres': 6462, 'representative': 6463, 'smell': 7220, '81r': 339, 'pot': 5887, 'claw': 1658, 'handles': 3699, '153': 69, '2913': 188, 'by12': 1359, 'crimp': 2103, 'crimper': 2104, 'warned': 8677, '40at': 238, 'rusk': 6721, 'kilogram': 4408, 'acting': 467, 'host': 3893, 'escort': 2909, 'escorting': 2911, '61': 299, 'examined': 2952, 'chin': 1595, 'humerus': 3914, 'leaks': 4555, 'serr': 6920, 'serrated': 6921, 'tumbl': 8257, 'tumble': 8258, 'deglov': 2272, 'degloving': 2273, 'nature': 5168, 'worsen': 8854, 'worsened': 8855, 'unlimit': 8405, 'unlimited': 8406, 'flag': 3247, 'flagging': 3251, 'truckers': 8239, 'aa': 381, 'max': 4872, 'reciproc': 6272, 'reciprocating': 6273, 'partn': 5590, 'partners': 5591, 'glendal': 3536, 'glendale': 3537, 'galleria': 3460, 'collap': 1742, 'collapes': 1743, 'deconstruct': 2252, 'deconstruction': 2253, 'rafter': 6164, 'coastal': 1722, 'cooperative': 1996, 'engineer': 2835, 'telelect': 7899, 'command': 1783, 'commander': 1784, 'wmb50402416pc': 8830, 'turret': 8277, 'stump': 7619, 'pontoon': 5855, 'pontoons': 5856, 'rut': 6728, 'injection': 4119, 'momentum': 5058, 'hugged': 3913, 'circuits': 1631, 'reconfigur': 6285, 'reconfigured': 6286, 'accommod': 426, 'accommodate': 427, 'versalift': 8578, 'usual': 8507, 'unw': 8465, 'unwanted': 8466, 'splic': 7363, 'splice': 7364, 'clamped': 1647, 'groundman': 3631, 'indicator': 4070, 'tru': 8237, 'true': 8242, 'streetlight': 7578, 'streetlighting': 7579, 'streetlights': 7580, 'hardwar': 3724, 'hardware': 3725, 'spun': 7410, 'complains': 1824, 'seeks': 6883, 'shad': 6959, 'shade': 6960, 'bystand': 1360, 'bystander': 1361, '104': 27, 'polysubst': 5849, 'polysubstance': 5850, 'contributori': 1974, 'contributory': 1975, 'hyperthermia': 3946, '104f': 28, '92': 366, 'dew': 2379, '71': 318, 'schedule': 6804, 'hourly': 3897, 'cold': 1741, 'bottl': 1200, 'bottled': 1202, 'cooler': 1994, 'drinks': 2613, 'soft': 7248, 'usa': 8496, 'arizona': 782, 'gripping': 3618, 'handrail': 3701, 'reestablish': 6327, 'lac': 4460, 'lacing': 4467, 'spinous': 7353, 'unplan': 8418, 'unplanned': 8419, 'deton': 2366, 'detonation': 2368, 'dynamit': 2676, 'dynamite': 2677, 'detonate': 2367, 'punch': 6105, '3c': 231, 'loca': 4685, 'locaed': 4686, 'stamp': 7457, 'stamping': 7458, 'uses': 8502, 'presses': 5957, 'toyota': 8128, 'consideration': 1918, 'strokes': 7602, 'shimomura': 7008, 'japan': 4300, 'dclp': 2223, '22e': 160, 'revolut': 6564, 'revolution': 6565, 'pushbutton': 6124, 'pushbuttons': 6125, 'pressing': 5958, 'buttons': 1355, 'reaches': 6224, 'shifts': 7005, 'makes': 4791, '7711102100': 330, 'ejector': 2728, 'amounted': 641, 'actuating': 481, 'feature': 3141, 'tabc': 7810, 'avulsion': 924, 'tissu': 8065, 'tissue': 8066, 'reopen': 6437, 'ust': 8504, 'convert': 1986, 'converted': 1987, 'storing': 7551, 'delivered': 2287, 'usts': 8505, 'sawzal': 6784, 'sawzall': 6785, 'refueling': 6350, 'dynapak': 2678, 'duration': 2664, 'fath': 3123, 'father': 3124, 'loyola': 4738, 'potassium': 5888, 'hydroxid': 3941, 'hydroxide': 3942, 'gallons': 3462, 'dip': 2432, 'serviced': 6927, 'traversed': 8192, 'adjustment': 509, 'calcul': 1378, 'calculation': 1379, 'noted': 5271, 'recours': 6294, 'recourse': 6295, 'callap': 1385, 'callapes': 1386, 'whack': 8749, 'whacker': 8750, 'slum': 7206, 'vibratori': 8596, 'vibratory': 8597, 'clump': 1712, 'uncover': 8332, 'locating': 4691, 'rollemploye': 6642, 'rollemployee': 6643, 'sheep': 6989, 'partly': 5589, 'projected': 6031, 'rops': 6666, '70employee': 317, 'compacting': 1804, 'leap': 4559, 'intercoast': 4211, 'intercoastal': 4212, 'bomag': 1173, 'tamping': 7844, 'femurs': 3165, 'groin': 3624, 'maria': 4844, 'big': 1096, 'caveat': 1498, 'flexible': 3279, '1987': 109, 'spf': 7336, '8ft': 355, '8in': 356, 'dislocation': 2478, 'abstract': 409, 'contradictori': 1967, 'contradictory': 1968, 'regarding': 6356, 'priority': 5992, 'solutions': 7262, 'becomes': 1045, 'sod': 7245, 'stormwat': 7554, 'stormwater': 7555, 'retent': 6538, 'retention': 6539, 'walmart': 8667, 'fulfil': 3425, 'fulfillment': 3426, 'extra': 3031, 'thereaft': 7965, 'thereafter': 7966, 'tox': 8124, 'toxic': 8125, 'effects': 2715, 'methamphetamin': 4943, 'methamphetamine': 4944, 'rolleron': 6647, 'automatic': 900, 'interlock': 4214, 'brunswick': 1282, 'carpeted': 1438, 'ascended': 815, '110v': 35, 'protector': 6063, 'vdc': 8545, 'defects': 2266, 'cracks': 2070, 'item': 4278, 'items': 4279, 'phillip': 5700, 'phillips': 5701, 'vic': 8598, 'vice': 8599, 'grips': 3619, 'integration': 4195, 'watch': 8694, 'watching': 8696, 'rainbow': 6175, 'liga': 4628, 'ligaments': 4631, 'veit': 8557, '169': 82, '494': 267, 'interchang': 4209, 'interchange': 4210, 'headquart': 3761, 'headquartered': 3762, 'rog': 6635, 'rogers': 6636, 'mn': 5030, 'technologies': 7890, 'pylon': 6136, 'pylons': 6137, 'fleet': 3275, 'orchard': 5417, 'sample': 6760, 'jd486': 4305, 't0486ex842243': 7807, 'rat': 6207, 'b932': 939, 'liver': 4671, 'adren': 518, 'adrenal': 519, 'hematoma': 3797, 'coax': 1726, 'rode': 6632, 'traine': 8154, 'trainee': 8156, 'wraps': 8864, 'sterl': 7514, 'sterling': 7515, 'smith': 7222, 'sprung': 7408, 'tending': 7919, 'charges': 1564, 'feeder': 3148, 'watched': 8695, 'ensu': 2848, 'ensuing': 2849, 'grand': 3582, 'photograph': 5705, 'photographs': 5706, 'shocks': 7022, 'xedia': 8880, 'xps400': 8881, 'blank': 1119, 'factori': 3072, 'factory': 3074, 'slots': 7197, 'reenergize': 6323, 'ears': 2690, 'extracting': 3034, 'arcing': 775, 'exposing': 3010, 'recess': 6270, 'recessed': 6271, 'milwauke': 4989, 'milwaukee': 4990, 'reading': 6233, 'vista': 8628, 'mainly': 4779, 'unground': 8368, 'ungrounded': 8369, 'polar': 5835, 'polarity': 5836, 'sources': 7287, 'boat': 1155, 'undersid': 8345, 'underside': 8346, 'selectively': 6897, 'conduits': 1890, '208': 147, 'pane': 5542, 'stripping': 7596, 'photovolta': 5707, 'photovoltaic': 5708, 'jumper': 4359, '4160': 243, 'standbi': 7461, 'standby': 7462, 'buss': 1346, 'gfci': 3523, 'sol': 7251, 'sole': 7255, 'screwgun': 6839, 'electronic': 2749, 'assembler': 830, 'wilson': 8795, 'wireman': 8816, 'joy': 4344, '02': 8, 'master': 4864, 'geolog': 3512, 'geology': 3513, 'mdb': 4887, 'morgu': 5087, 'morgue': 5088, 'world': 8852, '90045': 360, 'finishing': 3217, 'noises': 5231, 'marina': 4846, 'del': 2283, 'rey': 6570, 'risk': 6609, 'spir': 7354, 'spiral': 7355, 'staircas': 7446, 'staircase': 7447, 'unspool': 8443, 'unspooling': 8444, 'accompani': 428, 'accompanied': 429, 'occupants': 5331, 'crashing': 2084, 'occupant': 5330, 'wip': 8811, 'wiping': 8813, 'drip': 2614, 'dripped': 2615, 'sil': 7099, 'sills': 7101, 'wrought': 8874, 'grating': 3595, 'decor': 2254, 'decorating': 2255, 'interlocked': 4215, 'wipe': 8812, 'splashes': 7359, 'element': 2751, 'occupational': 5333, 'fingertips': 3212, 'envelope': 2873, 'premium': 5937, 'adjuster': 507, 'westvaco': 8745, '24941': 167, 'jog': 4327, 'jogging': 4329, 'caveon': 1500, 'occupi': 5334, 'occupying': 5336, 'unshor': 8439, 'unshored': 8440, 'extracted': 3033, 'ligament': 4629, 'ligamentous': 4630, 'tendin': 7918, 'tendinous': 7920, 'haig': 3671, 'countertops': 2039, 'energize': 2822, 'purchas': 6111, 'purchased': 6112, 'sleep': 7170, 'sleeping': 7172, 'bedroom': 1047, 'wak': 8656, 'wake': 8657, 'sheriffs': 6999, 'informational': 4096, 'memorandum': 4920, '1533': 70, 'trader': 8145, 'jo': 4319, 'joe': 4326, 'explosive': 3005, 'unventil': 8463, 'unventilated': 8464, 'sealand': 6849, 'shipping': 7016, 'cylinders': 2172, 'nonintrins': 5239, 'nonintrinsically': 5240, 'incandesc': 4030, 'incandescent': 4031, 'suppress': 7731, 'suppression': 7732, 'standpip': 7464, 'standpipe': 7465, 'annu': 688, 'annual': 689, 'rath': 6211, 'rather': 6212, 'food': 3323, 'supplier': 7722, 'concern': 1856, 'restored': 6517, 'producing': 6014, 'accompanying': 430, 'lug': 4749, 'coupled': 2046, 'repeated': 6445, 'approaching': 745, 'slowing': 7199, 'lp': 4739, 'wineri': 8807, 'winery': 8808, 'lpg': 4740, 'uncap': 8320, 'uncapped': 8321, 'cherry': 1584, 'picker': 5716, '1984': 106, 'ing': 4100, 'cherri': 1583, '12th': 50, 'lehigh': 4588, 'crosses': 2116, 'charl': 1566, 'charles': 1567, 'pankow': 5548, 'ltd': 4743, 'bumped': 1314, 'siz': 7129, 'ren': 6420, 'renal': 6422, 'identify': 3957, 'transvers': 8176, 'transverse': 8177, 'd10': 2175, 'fight': 3190, 'fighting': 3192, 'blaz': 1124, 'blaze': 1125, 'defram': 2270, 'deframing': 2271, 'gin': 3524, 'upland': 8475, 'shakeout': 6965, 'utilizing': 8518, 'fastened': 3115, 'bridging': 1256, 'unsecure': 8437, 'aligned': 585, 'purposely': 6121, 'organs': 5424, 'precipit': 5918, 'precipitator': 5919, 'deliver': 2286, 'catalyst': 1469, 'selective': 6896, 'mainstay': 4780, '1375a': 58, 'wastewat': 8691, 'wastewater': 8692, 'telecommunication': 7895, 'utilil': 8513, 'utilility': 8514, 'pik': 5728, 'pike': 5729, 'beav': 1036, 'beaver': 1037, 'knoxvill': 4436, 'knoxville': 4437, 'tennesse': 7923, 'tennessee': 7924, 'lie': 4616, 'reel': 6321, 'reduced': 6315, 'law': 4533, 'enforcement': 2828, 'tn': 8070, 'pittman': 5766, 'convey': 1988, 'conveyance': 1989, 'increased': 4055, 'alongs': 608, 'halv': 3682, 'halves': 3683, 'approx': 752, 'prematur': 5933, 'premature': 5934, 'skins': 7150, 'landscaping': 4501, 'skinned': 7149, 'temperatures': 7907, 'suit': 7676, 'perspir': 5682, 'perspired': 5683, 'drinking': 2612, 'unto': 8460, 'rhabdomyolyi': 6573, 'rhabdomyolyis': 6574, 'unoccupi': 8416, 'unoccupied': 8417, '250': 169, 'sq': 7411, 'mop': 5080, 'mopping': 5081, 'freshly': 3402, 'burning': 1328, '25at': 173, 'backsid': 952, 'backside': 953, 'sani': 6769, 'sany': 6772, 'syg5502thb': 7799, '60m': 298, 'sz': 7806, 'diagnose': 2384, 'bl': 1111, 'bled': 1129, 'mounting': 5107, 'violently': 8619, 'expel': 2988, 'expelling': 2989, 'pressured': 5961, '1976': 105, 'cribbed': 2101, 'mistaken': 5019, 'mistakenly': 5020, 'muriat': 5134, 'muriatic': 5135, 'hydrochlor': 3936, 'hydrochloric': 3937, 'unlabel': 8401, 'unlabelled': 8402, 'esophag': 2912, 'esophageal': 2913, 'overexposur': 5475, 'overexposure': 5476, 'sulfid': 7678, 'sulfide': 7679, 'midwest': 4969, 'sump': 7688, 'leach': 4544, 'leached': 4545, 'landfil': 4493, 'landfill': 4494, 'concentrations': 1855, 'want': 8671, 'proof': 6042, 'spout': 7393, 'supervisori': 7715, 'supervisory': 7717, '345': 217, 'partway': 5593, 'induc': 4074, 'induced': 4075, 'occupied': 5335, 'uninsul': 8378, 'uninsulated': 8379, 'receivers': 6263, 'amerag': 634, 'amerage': 635, 'borrow': 1192, 'borrowed': 1193, 'bare': 993, 'screwed': 6838, 'johns': 4331, 'hopkin': 3873, 'hopkins': 3874, 'bayview': 1028, 'replenish': 6452, 'loft': 4705, 'pallets': 5533, 'strapping': 7571, 'conscious': 1911, 'ultim': 8298, 'ultimately': 8299, 'linemen': 4655, 'crossarms': 2112, 'len': 4591, 'lens': 4594, 'lamp': 4486, 'stripp': 7593, 'strippers': 7595, 'generating': 3506, 'inland': 4130, 'empir': 2782, 'empire': 2783, 'corporate': 2018, 'atherosclerosi': 855, 'atherosclerosis': 856, 'substation': 7650, 'sleeves': 7175, 'extinguished': 3027, 'missed': 5015, 'jib': 4315, 'upsid': 8486, 'upside': 8487, 'jogged': 4328, 'rewind': 6566, 'felling': 3157, 'felled': 3156, 'lacqu': 4470, 'lacquer': 4471, 'thinn': 7985, 'thinner': 7986, 'instructing': 4177, 'janitor': 4297, 'liquids': 4661, 'clothes': 1704, 'extern': 3024, 'external': 3025, 'brandolini': 1233, 'triag': 8212, 'triaged': 8213, 'mri': 5121, 'scan': 6797, 'ray': 6216, 'images': 3984, 'eve': 2932, 'dwel': 2672, 'dwelling': 2673, 'ladderjack': 4474, 'facia': 3062, 'picks': 5719, 'simultan': 7110, 'simultaneously': 7111, 'bridged': 1254, 'christoph': 1617, 'christopher': 1618, 'hauswald': 3742, 'moment': 5054, 'afterward': 537, 'afterwards': 538, 'legionnair': 4585, 'legionnaires': 4586, 'pneumonia': 5824, 'legionella': 4584, 'bacteria': 957, 'urin': 8493, 'urine': 8494, 'indication': 4069, 'immun': 3993, 'immune': 3994, 'rewir': 6567, 'rewiring': 6569, 'gs': 3641, '1930': 99, 'rewire': 6568, '280': 183, 'ac': 412, 'black': 1112, 'awg': 929, 'bx': 1356, 'arrester': 793, 'fusible': 3452, 'plugging': 5807, 'precaut': 5914, 'precaution': 5915, 'threes': 8010, '64': 305, '86': 346, 'nudg': 5291, 'nudged': 5292, 'arbon': 765, 'bird': 1106, 'birds': 1107, 'foods': 3324, 'sleeper': 7171, 'berth': 1083, 'batt': 1021, 'batter': 1022, 'locomot': 4699, 'locomotive': 4700, 'november1': 5283, 'trees': 8202, 'acre': 461, 'november13': 5284, 'thorac': 7991, 'thoracic': 7992, 'dorm': 2564, 'dormer': 2565, 'squad': 7412, 'satruck': 6774, 'precast': 5913, 'it24f': 4276, 'hsopit': 3906, 'hsopitalized': 3907, 'porch': 5862, 'methylen': 4951, 'methylene': 4952, 'refinish': 6335, 'refinishing': 6336, 'bathtub': 1020, 'attribut': 886, 'attributed': 887, 'arteriosclerot': 804, 'arteriosclerotic': 805, 'dichloromethan': 2394, 'dichloromethane': 2395, 'poisoning': 5833, 'brea': 1235, 'inboard': 4028, 'patio': 5609, 'realize': 6239, 'shout': 7050, 'midrail': 4964, 'midrails': 4965, 'individu': 4071, 'individual': 4072, 'tucson': 8253, 'cantilev': 1403, 'cantilevered': 1404, 'en': 2800, 'enable': 2801, 'imp': 3995, 'impaled': 4002, 'sill': 7100, 'scrapes': 6828, 'nailing': 5152, 'premi': 5935, 'premier': 5936, 'pneumatically': 5823, 'piston': 5762, 'hospitalize': 3889, 'blinds': 1137, 'preparatori': 5942, 'preparatory': 5943, 'flush': 3306, 'flushed': 3307, 'drained': 2592, 'purge': 6114, '197': 103, 'oili': 5363, 'oily': 5364, 'dayton': 2217, 'spoutless': 7394, 'vaor': 8535, 'vaors': 8536, '159': 73, '3500': 220, 'watt': 8701, 'sn': 7229, '3w0141': 233, '88': 350, 'glazi': 3534, 'glazier': 3535, 'whereabout': 8762, 'whereabouts': 8763, 'anyhow': 709, 'unrol': 8430, 'unrolling': 8431, 'ply': 5818, 'membrane': 4918, 'splinted': 7367, 'sutured': 7770, 'fixation': 3240, 'calcaneus': 1377, 'diversifi': 2522, 'diversified': 2523, 'strapped': 7570, 'rectifi': 6306, 'rectifier': 6307, 'february10': 3145, 'leonard': 4596, 'martinez': 4854, 'illeg': 3976, 'illegibly': 3977, 'garbag': 3471, 'garbage': 3472, 'innov': 4138, 'innovative': 4140, 'ikea': 3973, 'banding': 984, 'fm': 3311, 'improv': 4016, 'improvement': 4017, 'aligning': 586, 'pettibon': 5689, 'pettibone': 5690, 'extendable': 3015, 'rollon': 6650, 'wr': 8860, '2500': 170, 'reclaimer': 6277, 'centrally': 1527, 'spik': 7339, 'spiked': 7340, 'conditioned': 1876, 'formwork': 3357, 'ladderway': 4476, 'signalman': 7094, 'peopl': 5651, 'people': 5652, 'cages': 1373, 'legged': 4583, 'brid': 1250, 'bridal': 1251, 'loosely': 4720, 'heaton': 3776, 'griffith': 3610, 'outdoors': 5449, 'fairmont': 3088, 'cramp': 2073, 'cramps': 2074, 'escorted': 2910, 'shaded': 6961, 'scissorlift': 6815, '330crt': 209, '200078542': 130, 'racks': 6157, 'compel': 1813, 'compelling': 1814, 'bounce': 1208, 'cabinetri': 1365, 'cabinetry': 1366, 'proprietor': 6057, 'suite': 7677, 'remodeled': 6410, 'offices': 5354, 'dimension': 2424, '107': 31, '284': 184, 'clavicl': 1656, 'clavicle': 1657, 'trupro': 8243, 'dil': 2419, 'dils': 2422, 'slanted': 7163, 'tiled': 8041, 'to10': 8072, 'cranio': 2078, 'fasteners': 3117, '63': 303, 'collarbon': 1750, 'collarbone': 1751, 'pilings': 5737, 'properties': 6052, 'hurts': 3927, 'berkeley': 1080, 'canyon': 1408, 'encas': 2804, 'encased': 2805, 'opaqu': 5387, 'opaque': 5388, 'highland': 3815, 'upset': 8485, 'apartments': 718, 'monica': 5061, '194': 100, '7620': 328, 'potenti': 5889, 'potential': 5890, 'gradients': 3577, 'powd': 5901, 'powder': 5902, 'par': 5553, 'facilities': 3067, 'powerlink': 5905, 'ep': 2879, 'ocotillo': 5344, 'fold': 3314, 'folded': 3315, 'comprised': 1847, 'spikes': 7341, 'individually': 4073, 'unbuckl': 8318, 'unbuckled': 8319, 'icu': 3952, 'leads': 4551, '920': 367, '127': 48, '3040': 195, '547': 283, 'riverbank': 6612, 'brown': 1276, 'silti': 7103, 'silty': 7104, 'frag': 3376, 'fragments': 3377, 'roots': 6662, 'surfaced': 7739, 'reversing': 6560, 'uphil': 8473, 'uphill': 8474, '317': 200, 'antonio': 707, 'motel': 5095, 'ventricular': 8565, 'fibril': 3182, 'fibrillation': 3183, 'regulate': 6364, 'interrupt': 4223, 'interrupter': 4224, '470': 258, 'chainsaw': 1546, 'downed': 2574, 'isolating': 4269, 'macomb': 4771, 'edema': 2707, 'boost': 1184, 'booster': 1185, 'pathologist': 5605, 'pathologists': 5606, 'toxicolog': 8126, 'toxicology': 8127, 'embolisms': 2775, 'divers': 2521, 'diversion': 2524, 'clarifi': 1649, 'clarifying': 1650, 'ventilated': 8563, 'respirators': 6498, 'citi': 1639, 'meanwhil': 4893, 'meanwhile': 4894, 'bacteriolog': 958, 'bacteriologic': 959, 'degrad': 2274, 'degradation': 2275, 'unions': 8388, 'farwest': 3110, 'scripp': 6841, 'scripps': 6842, 'wrists': 8869, 'salina': 6752, 'salinas': 6753, 'learning': 4562, 'bld': 1126, '004': 5, 'reno': 6426, 'am': 627, 'shasta': 6976, 'outlets': 5455, 'amper': 643, 'ampere': 644, '28th': 185, 'processes': 6010, 'sal': 6747, 'saleable': 6749, 'turnaround': 8270, 'fccu': 3131, 'rivet': 6615, 'bust': 1347, 'buster': 1348, 'traded': 8144, 'nobodi': 5227, 'nobody': 5228, 'restrict': 6522, 'restricting': 6523, 'sunni': 7693, 'sunny': 7694, 'mirrors': 5005, 'shown': 7060, 'reflect': 6338, 'reflective': 6339, 'furnaces': 3444, 'flushing': 3308, 'r22': 6153, 'refrigerant': 6347, 'residue': 6485, '410': 241, 'injecting': 4118, 'reclaim': 6276, 'reclaiming': 6278, 'coffe': 1733, 'coffee': 1734, 'discharging': 2454, 'combination': 1773, 'oz': 5507, 'ib': 3949, 'degreas': 2277, 'degreasing': 2278, 'quant': 6142, 'quantity': 6143, 'vendor': 8560, 'sel': 6893, 'selling': 6899, 'complying': 1836, 'epa': 2880, 'r410': 6154, 'nonflamm': 5237, 'nonflammable': 5238, 'freon': 3398, 'avi': 919, 'avis': 920, 'sonoma': 7276, 'peterbilt': 5686, 'administr': 514, 'administration': 515, 'benward': 1079, 'bottle': 1201, 'regulator': 6367, 'pressures': 5962, 'flaming': 3258, 'solder': 7254, 'fittings': 3236, 'tumbling': 8259, 'trolley': 8232, 'investigations': 4247, 'ropes': 6665, 'ramm': 6185, 'rammer': 6187, 'laser': 4513, 'gypsum': 3663, 'acm': 453, 'cem': 1516, 'cemment': 1518, 'runn': 6708, 'runner': 6709, 'seam': 6852, 'seaming': 6853, 'thoracotomi': 7993, 'thoracotomy': 7994, 'sandblaster': 6765, '160': 76, 'breezeway': 1244, 'sander': 6767, '157': 72, 'imped': 4004, 'impeded': 4005, 'ricochet': 6579, 'ricocheting': 6580, '337': 212, 'sealant': 6850, 'emplyees': 2794, 'mini': 4995, 'berm': 1081, 'bulldozed': 1311, 'miami': 4958, 'dad': 2179, 'dade': 2180, 'homestead': 3867, '075': 15, '725': 324, 'authorities': 896, 'ranges': 6199, 'drowning': 2637, 'drizzled': 2626, 'friday': 3408, 'monday': 5060, 'takes': 7835, 'medication': 4910, 'aches': 445, 'scraps': 6830, 'stake': 7453, 'enrout': 2846, 'enroute': 2847, 'utilex': 8512, 'tiered': 8032, 'subgrad': 7635, 'subgrade': 7636, 'nets': 5200, 'climber': 1683, '480628': 264, 'skylock': 7156, '305': 196, '006': 6, '23our': 164, 'plowshar': 5803, 'plowshare': 5804, '40th': 239, 'engage': 2830, 'plummet': 5813, 'plummeted': 5814, '31st': 201, 'dormitori': 2566, 'dormitory': 2567, 'quinnipiac': 6151, 'veteran': 8589, 'veterans': 8590, 'ut': 8509, 'handsaw': 3703, 'hd67737': 3753, 'dried': 2604, 'holiday': 3859, 'deceas': 2239, 'deceased': 2240, 'fighters': 3191, 'farmer': 3104, 'lodges': 4703, 'ccx': 1503, 'lodging': 4704, 'foreign': 3340, 'certification': 1539, 'circl': 1628, 'circle': 1629, 'gaff': 3455, 'supervisors': 7716, 'simon': 7107, '98': 377, '18th': 96, 'bands': 985, '9th': 379, 'banded': 983, 'tread': 8196, 'plat': 5793, 'thickness': 7979, '125': 47, 'width': 8790, 'op': 5386, 'operative': 5402, 'heading': 3760, 'grader': 3575, 'veer': 8546, 'impacted': 3997, '657': 307, 'd9n': 2178, 'ahead': 557, 'hoag': 3842, 'consol': 1924, 'console': 1925, 'extensible': 3019, 'turnt': 8275, 'turntable': 8276, 'contrari': 1969, 'contrary': 1970, 'array': 790, 'sockets': 7244, 'removable': 6415, 'arr': 789, 'arrive': 796, 'reluct': 6394, 'reluctantly': 6395, 'catenari': 1477, 'catenary': 1478, 'decon': 2251, 'mission': 5017, 'bel': 1059, 'bell': 1062, 'reinstalling': 6377, 'sage': 6743, 'expanded': 2982, 'styren': 7623, 'styrene': 7624, 'penetr': 5642, 'penetrations': 5645, 'penetration': 5644, 'unapprov': 8309, 'unapproved': 8310, 'wilkerson': 8792, 'sealed': 6851, 'spanned': 7307, 'cleat': 1673, 'aloft': 604, 'hammered': 3686, '4800': 263, 'swam': 7775, '1600': 77, 'switchboard': 7792, 'switchgear': 7794, 'resourc': 6490, 'resource': 6491, 'ana': 657, 'dci': 2222, 'warren': 8679, 'reclam': 6279, 'reclamation': 6280, 'wilmington': 8794, 'ase': 817, 'micro': 4959, 'optical': 5411, 'rollat': 6640, 'ungrad': 8366, 'ungraded': 8367, 'kilomet': 4409, 'kilometers': 4410, 'string': 7590, 'stringing': 7591, 'graded': 3574, 'ravin': 6214, 'ravine': 6215, 'slash': 7164, 'slashed': 7165, 'scald': 6793, 'scalded': 6794, 'moth': 5096, 'mother': 5097, 'tanker': 7849, 'ridgid': 6587, 'threader': 8007, 'jaws': 4302, 'encounter': 2813, 'jud': 4349, 'jude': 4350, 'nights': 5218, 'rcr': 6220, 'landi': 4495, 'landis': 4497, '6c': 315, 'landmaco': 4498, 'comp': 1801, 'corona': 2012, 'temecula': 7904, 'orthopedics': 5432, 'rosebud': 6670, 'rosebuds': 6671, 'fueled': 3423, 'heated': 3772, 'mig': 4970, 'towboat': 8116, 'captain': 1416, 'imbed': 3987, 'imbedded': 3988, 'smashing': 7218, 'tractorat': 8139, '2200': 156, '4th': 269, 'lubbock': 4744, 'tractoremploye': 8140, 'tractoremployee': 8141, 'occurring': 5342, 'apex': 719, 'gor': 3560, 'gore': 3561, 'vests': 8588, 'impacts': 3998, 'taurus': 7871, 'southeast': 7290, 'signaling': 7092, 'stating': 7486, 'arrows': 801, 'pointing': 5829, 'patrol': 5610, 'glued': 3545, 'therebi': 7967, 'thereby': 7968, 'trough': 8235, 'rested': 6513, 'neighboring': 5193, 'troughs': 8236, 'cerebrum': 1532, 'hemorrhaging': 3801, 'sawn': 6782, 'inadequately': 4022, 'impal': 4001, 'impalement': 4003, 'mushroom': 5141, 'entirely': 2866, 'penetrated': 5643, 'saturday': 6775, 'overloaded': 5486, 'bricked': 1246, 'carolinas': 1430, 'utah': 8510, 'responsibilities': 6506, 'accidently': 425, 'windowsil': 8803, 'windowsill': 8804, 'cedar': 1504, 'cedars': 1507, 'sinai': 7112, 'vibrator': 8595, 'renail': 6421, 'wider': 8789, 'david': 2212, 'dealership': 2230, 'crates': 2086, '5625': 288, 'leave': 4570, 'lit': 4665, 'lite': 4666, 'suct': 7659, 'suction': 7660, 'inclined': 4042, 'concerns': 1857, 'shipped': 7015, 'crate': 2085, 'must': 5142, 'danger': 2199, 'dangerous': 2200, 'promot': 6034, 'promotional': 6035, 'penn': 5647, 'pennants': 5648, 'customer': 2151, 'palomar': 5538, 'escondido': 2908, 'dattelo': 2209, 'eisenhow': 2721, 'eisenhower': 2722, 'mirag': 5002, 'mirage': 5003, 'ripping': 6601, 'molding': 5051, 'mantl': 4827, 'mantle': 4828, 'liking': 4642, 'shak': 6964, 'shaking': 6966, 'unexpectantly': 8361, 'practice': 5910, 'apron': 760, 'rendered': 6425, 'paths': 5607, 'backf': 942, 'backfed': 943, 'accessible': 417, 'busbars': 1340, 'handicap': 3694, 'patching': 5603, 'sluggish': 7204, 'sluggishly': 7205, 'fruit': 3418, 'speak': 7314, 'incoher': 4047, 'incoherently': 4048, 'vomited': 8640, 'nonrespons': 5246, 'nonresponsive': 5247, 'nonoccup': 5241, 'nonoccupational': 5242, 'chord': 1615, 'blacktop': 1113, 'irrig': 4259, 'irrigation': 4260, 'supplying': 7724, '621d': 301, 'mild': 4973, 'mildly': 4974, 'calf': 1380, 'tine': 8055, '128': 49, 'moist': 5049, 'trips': 8231, 'vr1056': 8644, '562101': 287, 'concussions': 1870, 'deadman': 2229, 'guying': 3661, 'drawing': 2599, 'illustr': 3979, 'illustrated': 3980, 'tiean': 8029, 'exiting': 2980, 'disengage': 2470, '895': 354, 'overstress': 5496, 'overstressed': 5497, 'tarpaulin': 7861, 'prefabr': 5926, 'prefabricated': 5927, 'somehow': 7267, 'unhurt': 8375, 'cofferdam': 1736, 'guys': 3662, 'rammed': 6186, 'reveals': 6556, 'crossbrac': 2113, 'crossbracing': 2114, 'insect': 4147, 'insects': 4148, 'furnish': 3445, 'furnished': 3446, '888': 352, 'inju': 4120, 'underdeck': 8338, 'waalk': 8649, 'waalking': 8650, 'spanit': 7306, 'gomaco': 3554, 'leverag': 4604, 'leverage': 4605, 'creat': 2092, 'superior': 7708, 'caisson': 1374, 'planking': 5780, 'pans': 5549, 'strained': 7566, 'bul': 1304, 'bull': 1309, 'float': 3285, 'earthquak': 2693, 'earthquake': 2694, 'woodland': 8835, 'manbasket': 4806, 'topple': 8093, 'graz': 3598, 'grazed': 3599, 'crusher': 2129, 'cedarapid': 1505, 'cedarapids': 1506, 'screening': 6834, 'parker': 5570, 'rollercon': 6645, 'rollercone': 6646, 'paralysi': 5555, 'paralysis': 5556, 'movi': 5115, 'movie': 5116, 'theat': 7951, 'theater': 7952, 'oversight': 5493, '1996': 116, '218h': 153, 'snapping': 7236, 'snaps': 7237, 'gondola': 3556, 'ironworkers': 4258, 'quarters': 6148, 'releases': 6387, '218': 151, 'mkt': 5029, 'v22': 8519, 'parted': 5576, '550': 285, 'archer': 770, 'licensed': 4613, 'rebuild': 6255, 'rebuilder': 6256, 'washers': 8684, 'cheekbon': 1578, 'cheekbone': 1579, 'fatigu': 3125, 'fatigue': 3126, 'brand': 1232, 'forg': 3343, 'forged': 3344, 'unexpected': 8362, 'hospitalizarion': 3887, 'parch': 5564, 'parching': 5565, 'intermedi': 4216, 'intermediate': 4217, 'vibrating': 8594, 'pebbl': 5623, 'pebbles': 5624}\n",
      "  (0, 8769)\t0.063405082194911\n",
      "  (0, 8680)\t0.07231227391754043\n",
      "  (0, 8516)\t0.11692313356258181\n",
      "  (0, 8286)\t0.05676755944920582\n",
      "  (0, 8071)\t0.026755136253754072\n",
      "  (0, 8009)\t0.07291717178952103\n",
      "  (0, 7960)\t0.06646050855984392\n",
      "  (0, 7950)\t0.16872863914092764\n",
      "  (0, 7777)\t0.15866927586348026\n",
      "  (0, 7116)\t0.10142987351663985\n",
      "  (0, 6631)\t0.5135893050609679\n",
      "  (0, 6223)\t0.10747621594231378\n",
      "  (0, 5970)\t0.16811619348374826\n",
      "  (0, 5897)\t0.13307274590289703\n",
      "  (0, 5837)\t0.21325777490105388\n",
      "  (0, 5698)\t0.3469902696965714\n",
      "  (0, 5677)\t0.09831873018860035\n",
      "  (0, 5575)\t0.07744080609793604\n",
      "  (0, 5436)\t0.07291717178952103\n",
      "  (0, 5412)\t0.07252884670642047\n",
      "  (0, 5385)\t0.0715854398696757\n",
      "  (0, 5376)\t0.05807626867386197\n",
      "  (0, 5370)\t0.0247886851916116\n",
      "  (0, 5348)\t0.05476901307022197\n",
      "  (0, 3833)\t0.03869286960081153\n",
      "  :\t:\n",
      "  (799, 6641)\t0.14175557490294716\n",
      "  (799, 6595)\t0.2409437147723086\n",
      "  (799, 6558)\t0.1759658437462562\n",
      "  (799, 5467)\t0.09655218971958089\n",
      "  (799, 5398)\t0.10774347886806272\n",
      "  (799, 5370)\t0.03552708261245275\n",
      "  (799, 4766)\t0.3837962600902264\n",
      "  (799, 4404)\t0.07407670152810113\n",
      "  (799, 4281)\t0.21779813010985064\n",
      "  (799, 4275)\t0.0714734081596635\n",
      "  (799, 4018)\t0.04289837946906518\n",
      "  (799, 3754)\t0.08832744484543815\n",
      "  (799, 3032)\t0.1991114284087142\n",
      "  (799, 2832)\t0.2409437147723086\n",
      "  (799, 2787)\t0.06971632737459846\n",
      "  (799, 2726)\t0.1759658437462562\n",
      "  (799, 1357)\t0.05406298996950818\n",
      "  (799, 1191)\t0.1759658437462562\n",
      "  (799, 1039)\t0.1246980753498546\n",
      "  (799, 892)\t0.5145208823548041\n",
      "  (799, 759)\t0.1334589481715982\n",
      "  (799, 670)\t0.03642816319757016\n",
      "  (799, 656)\t0.05590973047787999\n",
      "  (799, 636)\t0.19071953194024133\n",
      "  (799, 136)\t0.1327976984406932\n"
     ]
    }
   ],
   "source": [
    "print(v.vocabulary_)\n",
    "print(Train_X_Tfidf)"
   ]
  },
  {
   "cell_type": "code",
   "execution_count": 20,
   "metadata": {},
   "outputs": [],
   "source": [
    "SVM = svm.SVC(C=0.80,kernel='linear')\n",
    "SVM.fit(Train_X_Tfidf,Train_Y)\n",
    "predictions_SVM = SVM.predict(Test_X_Tfidf)\n",
    "from sklearn.metrics import classification_report, confusion_matrix, accuracy_score\n",
    "target_names = ['Caught in/between objects','Collapse of object','Electrocution','Exposure to chemical substances','Exposure to extreme temperatures','Falls','Fires and explosions','Struck by moving objects','Struck by falling objects','Traffic','Others']\n"
   ]
  },
  {
   "cell_type": "code",
   "execution_count": 21,
   "metadata": {},
   "outputs": [
    {
     "name": "stdout",
     "output_type": "stream",
     "text": [
      "[[ 3  3  0  0  0  0  0  0  0  7  1]\n",
      " [ 0 34  0  0  0  8  0  0  0  0  0]\n",
      " [ 1  1 24  0  0  1  0  0  0  0  0]\n",
      " [ 0  4  0  0  0  0  0  0  0  3  0]\n",
      " [ 0  1  0  0  0  1  0  0  0  0  0]\n",
      " [ 0 15  0  0  0 46  0  0  0  0  0]\n",
      " [ 0  1  0  0  0  0  7  0  0  2  0]\n",
      " [ 0  2  1  0  0  0  0  0  0  2  0]\n",
      " [ 0  6  0  0  0  1  0  0  0  0  0]\n",
      " [ 0 11  0  0  0  1  1  0  0  6  0]\n",
      " [ 0  3  0  0  0  0  0  0  0  1  2]]\n"
     ]
    }
   ],
   "source": [
    "print(confusion_matrix(Test_Y,predictions_SVM))"
   ]
  },
  {
   "cell_type": "code",
   "execution_count": 26,
   "metadata": {},
   "outputs": [
    {
     "name": "stdout",
     "output_type": "stream",
     "text": [
      "                                  precision    recall  f1-score   support\n",
      "\n",
      "       Caught in/between objects       1.00      0.36      0.53        11\n",
      "              Collapse of object       0.55      0.75      0.64        55\n",
      "                   Electrocution       1.00      0.89      0.94        19\n",
      " Exposure to chemical substances       0.00      0.00      0.00         4\n",
      "Exposure to extreme temperatures       0.00      0.00      0.00         3\n",
      "                           Falls       0.61      0.88      0.72        43\n",
      "            Fires and explosions       1.00      0.54      0.70        13\n",
      "        Struck by moving objects       0.00      0.00      0.00         8\n",
      "       Struck by falling objects       0.00      0.00      0.00         9\n",
      "                         Traffic       0.55      0.57      0.56        28\n",
      "                          Others       0.71      0.71      0.71         7\n",
      "\n",
      "                        accuracy                           0.64       200\n",
      "                       macro avg       0.49      0.43      0.44       200\n",
      "                    weighted avg       0.60      0.64      0.60       200\n",
      "\n"
     ]
    },
    {
     "name": "stderr",
     "output_type": "stream",
     "text": [
      "C:\\Users\\user\\anaconda3\\lib\\site-packages\\sklearn\\metrics\\_classification.py:1272: UndefinedMetricWarning: Precision and F-score are ill-defined and being set to 0.0 in labels with no predicted samples. Use `zero_division` parameter to control this behavior.\n",
      "  _warn_prf(average, modifier, msg_start, len(result))\n"
     ]
    }
   ],
   "source": [
    "print(classification_report(Test_Y,predictions_SVM,target_names = target_names))"
   ]
  },
  {
   "cell_type": "code",
   "execution_count": 21,
   "metadata": {},
   "outputs": [
    {
     "name": "stdout",
     "output_type": "stream",
     "text": [
      "0.58\n"
     ]
    }
   ],
   "source": [
    "SVM_accuracy = accuracy_score(Test_Y, predictions_SVM)\n",
    "print(accuracy_score(Test_Y, predictions_SVM))"
   ]
  },
  {
   "cell_type": "code",
   "execution_count": 22,
   "metadata": {},
   "outputs": [],
   "source": [
    "Naive = naive_bayes.MultinomialNB()\n",
    "Naive.fit(Train_X_Tfidf,Train_Y)\n",
    "predictions_NB = Naive.predict(Test_X_Tfidf)\n",
    "from sklearn.metrics import classification_report, confusion_matrix, accuracy_score"
   ]
  },
  {
   "cell_type": "code",
   "execution_count": 23,
   "metadata": {},
   "outputs": [
    {
     "name": "stdout",
     "output_type": "stream",
     "text": [
      "[[ 0  3  0  0  0  8  0  0  0  0  0]\n",
      " [ 0 21  0  0  0 20  0  0  0  0  0]\n",
      " [ 0  3  2  0  0 13  0  0  0  0  0]\n",
      " [ 0  2  0  0  0  4  0  0  0  0  0]\n",
      " [ 0  0  0  0  0  3  0  0  0  0  0]\n",
      " [ 0  3  0  0  0 49  0  0  0  0  0]\n",
      " [ 0  2  0  0  0 15  0  0  0  0  0]\n",
      " [ 0  1  0  0  0  9  0  0  0  0  0]\n",
      " [ 0  5  0  0  0  3  0  0  0  0  0]\n",
      " [ 0 12  0  0  0  9  0  0  0  1  0]\n",
      " [ 0  5  0  0  0  7  0  0  0  0  0]]\n"
     ]
    }
   ],
   "source": [
    "print(confusion_matrix(Test_Y,predictions_NB))"
   ]
  },
  {
   "cell_type": "code",
   "execution_count": 30,
   "metadata": {},
   "outputs": [
    {
     "name": "stdout",
     "output_type": "stream",
     "text": [
      "                                  precision    recall  f1-score   support\n",
      "\n",
      "       Caught in/between objects       0.00      0.00      0.00        11\n",
      "              Collapse of object       0.53      0.16      0.25        55\n",
      "                   Electrocution       1.00      0.11      0.19        19\n",
      " Exposure to chemical substances       0.00      0.00      0.00         4\n",
      "Exposure to extreme temperatures       0.00      0.00      0.00         3\n",
      "                           Falls       0.24      1.00      0.39        43\n",
      "            Fires and explosions       0.00      0.00      0.00        13\n",
      "        Struck by moving objects       0.00      0.00      0.00         8\n",
      "       Struck by falling objects       0.00      0.00      0.00         9\n",
      "                         Traffic       1.00      0.04      0.07        28\n",
      "                          Others       0.00      0.00      0.00         7\n",
      "\n",
      "                        accuracy                           0.28       200\n",
      "                       macro avg       0.25      0.12      0.08       200\n",
      "                    weighted avg       0.43      0.28      0.18       200\n",
      "\n"
     ]
    },
    {
     "name": "stderr",
     "output_type": "stream",
     "text": [
      "C:\\Users\\user\\anaconda3\\lib\\site-packages\\sklearn\\metrics\\_classification.py:1272: UndefinedMetricWarning: Precision and F-score are ill-defined and being set to 0.0 in labels with no predicted samples. Use `zero_division` parameter to control this behavior.\n",
      "  _warn_prf(average, modifier, msg_start, len(result))\n"
     ]
    }
   ],
   "source": [
    "print(classification_report(Test_Y,predictions_NB,target_names = target_names))"
   ]
  },
  {
   "cell_type": "code",
   "execution_count": 24,
   "metadata": {},
   "outputs": [
    {
     "name": "stdout",
     "output_type": "stream",
     "text": [
      "0.365\n"
     ]
    }
   ],
   "source": [
    "Naive_Accuracy = accuracy_score(Test_Y, predictions_NB)\n",
    "print(accuracy_score(Test_Y, predictions_NB))"
   ]
  },
  {
   "cell_type": "code",
   "execution_count": 25,
   "metadata": {},
   "outputs": [],
   "source": [
    "from sklearn.tree import DecisionTreeClassifier\n",
    "clf3 = DecisionTreeClassifier()"
   ]
  },
  {
   "cell_type": "code",
   "execution_count": 26,
   "metadata": {},
   "outputs": [
    {
     "data": {
      "text/plain": [
       "DecisionTreeClassifier(ccp_alpha=0.0, class_weight=None, criterion='gini',\n",
       "                       max_depth=None, max_features=None, max_leaf_nodes=None,\n",
       "                       min_impurity_decrease=0.0, min_impurity_split=None,\n",
       "                       min_samples_leaf=1, min_samples_split=2,\n",
       "                       min_weight_fraction_leaf=0.0, presort='deprecated',\n",
       "                       random_state=None, splitter='best')"
      ]
     },
     "execution_count": 26,
     "metadata": {},
     "output_type": "execute_result"
    }
   ],
   "source": [
    "clf3.fit(Train_X_Tfidf,Train_Y)"
   ]
  },
  {
   "cell_type": "code",
   "execution_count": 27,
   "metadata": {},
   "outputs": [],
   "source": [
    "y_pred = clf3.predict((Test_X_Tfidf))\n",
    "from sklearn.metrics import classification_report, confusion_matrix, accuracy_score\n"
   ]
  },
  {
   "cell_type": "code",
   "execution_count": 41,
   "metadata": {},
   "outputs": [
    {
     "name": "stdout",
     "output_type": "stream",
     "text": [
      "[[ 6  2  0  0  0  0  0  1  1  2  2]\n",
      " [ 1 15  1  2  2  7  1  3  3  4  3]\n",
      " [ 0  0 21  0  0  2  3  0  0  1  0]\n",
      " [ 0  0  1  1  0  0  2  1  0  1  1]\n",
      " [ 0  1  0  0  0  1  0  0  0  0  0]\n",
      " [ 0 18  0  0  0 36  0  2  3  2  0]\n",
      " [ 0  1  0  0  1  1  5  1  1  0  0]\n",
      " [ 0  1  0  0  1  1  0  2  0  0  0]\n",
      " [ 0  2  0  0  0  1  0  0  1  2  1]\n",
      " [ 1  3  0  0  0  0  1  1  0 13  0]\n",
      " [ 0  1  0  0  0  1  0  0  0  1  3]]\n",
      "                                  precision    recall  f1-score   support\n",
      "\n",
      "       Caught in/between objects       0.75      0.43      0.55        14\n",
      "              Collapse of object       0.34      0.36      0.35        42\n",
      "                   Electrocution       0.91      0.78      0.84        27\n",
      " Exposure to chemical substances       0.33      0.14      0.20         7\n",
      "Exposure to extreme temperatures       0.00      0.00      0.00         2\n",
      "                           Falls       0.72      0.59      0.65        61\n",
      "            Fires and explosions       0.42      0.50      0.45        10\n",
      "        Struck by moving objects       0.18      0.40      0.25         5\n",
      "       Struck by falling objects       0.11      0.14      0.12         7\n",
      "                         Traffic       0.50      0.68      0.58        19\n",
      "                          Others       0.30      0.50      0.37         6\n",
      "\n",
      "                        accuracy                           0.52       200\n",
      "                       macro avg       0.42      0.41      0.40       200\n",
      "                    weighted avg       0.56      0.52      0.53       200\n",
      "\n"
     ]
    }
   ],
   "source": [
    "print(confusion_matrix(Test_Y,y_pred))\n",
    "print(classification_report(Test_Y,y_pred,target_names = target_names))"
   ]
  },
  {
   "cell_type": "code",
   "execution_count": 28,
   "metadata": {},
   "outputs": [
    {
     "name": "stdout",
     "output_type": "stream",
     "text": [
      "0.495\n"
     ]
    }
   ],
   "source": [
    "DecisionTree_Accuracy = accuracy_score(Test_Y, y_pred)\n",
    "print(accuracy_score(Test_Y, y_pred))"
   ]
  },
  {
   "cell_type": "code",
   "execution_count": 29,
   "metadata": {},
   "outputs": [],
   "source": [
    "from sklearn.neighbors import KNeighborsClassifier\n",
    "classifier = KNeighborsClassifier(n_neighbors=25)\n",
    "classifier.fit(Train_X_Tfidf,Train_Y)\n",
    "y_pred = classifier.predict((Test_X_Tfidf))\n",
    "from sklearn.metrics import classification_report, confusion_matrix, accuracy_score\n"
   ]
  },
  {
   "cell_type": "code",
   "execution_count": 44,
   "metadata": {},
   "outputs": [
    {
     "name": "stdout",
     "output_type": "stream",
     "text": [
      "[[ 5  4  0  0  0  1  0  0  0  3  1]\n",
      " [ 1 25  0  0  0 14  0  0  1  1  0]\n",
      " [ 1  2 23  0  0  1  0  0  0  0  0]\n",
      " [ 1  2  0  1  0  1  0  0  0  0  2]\n",
      " [ 0  0  0  0  1  1  0  0  0  0  0]\n",
      " [ 0  8  0  0  0 53  0  0  0  0  0]\n",
      " [ 0  2  0  0  1  3  4  0  0  0  0]\n",
      " [ 0  1  0  0  0  4  0  0  0  0  0]\n",
      " [ 0  2  0  0  0  5  0  0  0  0  0]\n",
      " [ 1  8  0  0  0  3  0  0  0  6  1]\n",
      " [ 0  2  0  0  0  0  0  0  0  1  3]]\n",
      "                                  precision    recall  f1-score   support\n",
      "\n",
      "       Caught in/between objects       0.56      0.36      0.43        14\n",
      "              Collapse of object       0.45      0.60      0.51        42\n",
      "                   Electrocution       1.00      0.85      0.92        27\n",
      " Exposure to chemical substances       1.00      0.14      0.25         7\n",
      "Exposure to extreme temperatures       0.50      0.50      0.50         2\n",
      "                           Falls       0.62      0.87      0.72        61\n",
      "            Fires and explosions       1.00      0.40      0.57        10\n",
      "        Struck by moving objects       0.00      0.00      0.00         5\n",
      "       Struck by falling objects       0.00      0.00      0.00         7\n",
      "                         Traffic       0.55      0.32      0.40        19\n",
      "                          Others       0.43      0.50      0.46         6\n",
      "\n",
      "                        accuracy                           0.60       200\n",
      "                       macro avg       0.55      0.41      0.43       200\n",
      "                    weighted avg       0.61      0.60      0.58       200\n",
      "\n"
     ]
    },
    {
     "name": "stderr",
     "output_type": "stream",
     "text": [
      "C:\\Users\\user\\anaconda3\\lib\\site-packages\\sklearn\\metrics\\_classification.py:1272: UndefinedMetricWarning: Precision and F-score are ill-defined and being set to 0.0 in labels with no predicted samples. Use `zero_division` parameter to control this behavior.\n",
      "  _warn_prf(average, modifier, msg_start, len(result))\n"
     ]
    }
   ],
   "source": [
    "print(confusion_matrix(Test_Y,y_pred))\n",
    "print(classification_report(Test_Y,y_pred,target_names = target_names))"
   ]
  },
  {
   "cell_type": "code",
   "execution_count": 30,
   "metadata": {},
   "outputs": [
    {
     "name": "stdout",
     "output_type": "stream",
     "text": [
      "0.53\n"
     ]
    }
   ],
   "source": [
    "KNeighbors_Accuracy = accuracy_score(Test_Y, y_pred)\n",
    "print(accuracy_score(Test_Y, y_pred))"
   ]
  },
  {
   "cell_type": "code",
   "execution_count": 31,
   "metadata": {},
   "outputs": [],
   "source": [
    "from sklearn.pipeline import Pipeline\n",
    "from sklearn.feature_selection import SelectKBest, chi2\n",
    "import pickle\n",
    "from sklearn.linear_model import LogisticRegression\n",
    "X= data['summary.new']\n",
    "Y = data['Tagged2']\n",
    "X_train, X_test, y_train, y_test = model_selection.train_test_split(X, Y, test_size=0.2)\n",
    "pipeline = Pipeline([('vect', v),\n",
    "                     ('chi',  SelectKBest(chi2, k=1200)),\n",
    "                     ('clf', LogisticRegression(random_state=0))])\n",
    "model = pipeline.fit(X_train, y_train)\n",
    "with open('LogisticRegression.pickle', 'wb') as f:\n",
    "    pickle.dump(model, f)\n",
    "    ytest = np.array(y_test)"
   ]
  },
  {
   "cell_type": "code",
   "execution_count": 32,
   "metadata": {},
   "outputs": [
    {
     "name": "stdout",
     "output_type": "stream",
     "text": [
      "                                  precision    recall  f1-score   support\n",
      "\n",
      "       caught in/between objects       1.00      0.25      0.40        12\n",
      "              collapse of object       0.33      0.74      0.45        35\n",
      "                   electrocution       1.00      0.83      0.91        24\n",
      " exposure to chemical substances       0.00      0.00      0.00         7\n",
      "exposure to extreme temperatures       0.00      0.00      0.00         4\n",
      "                           falls       0.66      0.87      0.75        54\n",
      "             fires and explosion       0.00      0.00      0.00         6\n",
      "                          others       0.00      0.00      0.00         6\n",
      "        struck by falling object       0.00      0.00      0.00         5\n",
      "        struck by moving objects       0.48      0.33      0.39        30\n",
      "                         traffic       0.80      0.24      0.36        17\n",
      "\n",
      "                        accuracy                           0.55       200\n",
      "                       macro avg       0.39      0.30      0.30       200\n",
      "                    weighted avg       0.56      0.55      0.50       200\n",
      "\n",
      "[[ 3  2  0  0  0  2  0  0  0  5  0]\n",
      " [ 0 26  0  0  0  5  0  0  0  3  1]\n",
      " [ 0  2 20  0  0  2  0  0  0  0  0]\n",
      " [ 0  6  0  0  0  1  0  0  0  0  0]\n",
      " [ 0  2  0  0  0  2  0  0  0  0  0]\n",
      " [ 0  7  0  0  0 47  0  0  0  0  0]\n",
      " [ 0  2  0  0  0  3  0  0  0  1  0]\n",
      " [ 0  5  0  0  0  1  0  0  0  0  0]\n",
      " [ 0  2  0  0  0  1  0  0  0  2  0]\n",
      " [ 0 13  0  0  0  7  0  0  0 10  0]\n",
      " [ 0 13  0  0  0  0  0  0  0  0  4]]\n"
     ]
    },
    {
     "name": "stderr",
     "output_type": "stream",
     "text": [
      "C:\\Users\\user\\anaconda3\\lib\\site-packages\\sklearn\\metrics\\_classification.py:1272: UndefinedMetricWarning: Precision and F-score are ill-defined and being set to 0.0 in labels with no predicted samples. Use `zero_division` parameter to control this behavior.\n",
      "  _warn_prf(average, modifier, msg_start, len(result))\n"
     ]
    }
   ],
   "source": [
    "print(classification_report(ytest, model.predict(X_test)))\n",
    "print(confusion_matrix(ytest, model.predict(X_test)))"
   ]
  },
  {
   "cell_type": "code",
   "execution_count": 33,
   "metadata": {},
   "outputs": [
    {
     "name": "stdout",
     "output_type": "stream",
     "text": [
      "0.53\n"
     ]
    }
   ],
   "source": [
    "LR_Accuracy = accuracy_score(Test_Y, y_pred)\n",
    "print(accuracy_score(Test_Y, y_pred))"
   ]
  },
  {
   "cell_type": "code",
   "execution_count": 34,
   "metadata": {},
   "outputs": [
    {
     "name": "stdout",
     "output_type": "stream",
     "text": [
      "<class 'list'>\n",
      "[1, 0, 0, 0, 1, 1]\n"
     ]
    }
   ],
   "source": [
    "import random\n",
    "best=-100000\n",
    "populations = [random.randint(0.0,1.0) for x in range(6)] \n",
    "print(type(populations))\n",
    "parents=[]\n",
    "new_populations = []\n",
    "print(populations)"
   ]
  },
  {
   "cell_type": "code",
   "execution_count": 35,
   "metadata": {},
   "outputs": [],
   "source": [
    "equation_inputs = [SVM_accuracy,DecisionTree_Accuracy,Naive_Accuracy,KNeighbors_Accuracy,LR_Accuracy]"
   ]
  },
  {
   "cell_type": "code",
   "execution_count": 36,
   "metadata": {},
   "outputs": [],
   "source": [
    "equation_inputs = [0.58,0.365,0.495,0.53,0.53]"
   ]
  },
  {
   "cell_type": "code",
   "execution_count": 37,
   "metadata": {},
   "outputs": [],
   "source": [
    "num_weights = 5"
   ]
  },
  {
   "cell_type": "code",
   "execution_count": 38,
   "metadata": {},
   "outputs": [],
   "source": [
    "import numpy\n",
    "sol_per_pop = 8"
   ]
  },
  {
   "cell_type": "code",
   "execution_count": 39,
   "metadata": {},
   "outputs": [],
   "source": [
    "pop_size = (sol_per_pop,num_weights)"
   ]
  },
  {
   "cell_type": "code",
   "execution_count": 40,
   "metadata": {},
   "outputs": [],
   "source": [
    "new_population = numpy.random.uniform(low=-0.1, high=0.5, size=pop_size)\n",
    "import numpy\n"
   ]
  },
  {
   "cell_type": "code",
   "execution_count": 41,
   "metadata": {},
   "outputs": [],
   "source": [
    "import ga"
   ]
  },
  {
   "cell_type": "code",
   "execution_count": 42,
   "metadata": {},
   "outputs": [],
   "source": [
    "sol_per_pop = 8\n",
    "num_parents_mating = 4"
   ]
  },
  {
   "cell_type": "code",
   "execution_count": 43,
   "metadata": {},
   "outputs": [],
   "source": [
    "pop_size = (sol_per_pop,num_weights) "
   ]
  },
  {
   "cell_type": "code",
   "execution_count": 44,
   "metadata": {},
   "outputs": [
    {
     "name": "stdout",
     "output_type": "stream",
     "text": [
      "[[ 0.26190889 -0.08099718  0.33867578 -3.27429307 -2.92039411]\n",
      " [ 2.71252192 -2.33950075 -2.92790901 -3.84429166 -0.69036867]\n",
      " [ 2.77024438  3.34905237 -3.79914875  0.97917997  3.31130822]\n",
      " [-3.27742739 -0.97821286 -0.87286364  0.15258908  0.10702933]\n",
      " [-2.00463435  0.11101269 -2.81433439 -2.98546448 -2.33076642]\n",
      " [-0.84209476  3.64835035 -3.88286422 -2.47597946  1.84769031]\n",
      " [-2.89497136 -0.31476756 -3.54969318 -0.78139801  3.65503868]\n",
      " [ 1.82867544  3.59518346 -0.90465286 -2.20637151 -1.62677717]]\n"
     ]
    }
   ],
   "source": [
    "new_population = numpy.random.uniform(low=-4.0, high=4.0, size=pop_size)\n",
    "print(new_population)\n"
   ]
  },
  {
   "cell_type": "code",
   "execution_count": 45,
   "metadata": {},
   "outputs": [
    {
     "name": "stdout",
     "output_type": "stream",
     "text": [
      "Generation :  0\n",
      "Generation :  1\n",
      "Generation :  2\n",
      "Generation :  3\n",
      "Generation :  4\n"
     ]
    }
   ],
   "source": [
    "num_generations = 5\n",
    "for generation in range(num_generations):\n",
    "    print(\"Generation : \", generation)"
   ]
  },
  {
   "cell_type": "code",
   "execution_count": 51,
   "metadata": {},
   "outputs": [
    {
     "ename": "ModuleNotFoundError",
     "evalue": "No module named 'geneticalgorithm'",
     "output_type": "error",
     "traceback": [
      "\u001b[1;31m---------------------------------------------------------------------------\u001b[0m",
      "\u001b[1;31mModuleNotFoundError\u001b[0m                       Traceback (most recent call last)",
      "\u001b[1;32m<ipython-input-51-3ed67da3edf9>\u001b[0m in \u001b[0;36m<module>\u001b[1;34m\u001b[0m\n\u001b[1;32m----> 1\u001b[1;33m \u001b[1;32mfrom\u001b[0m \u001b[0mgeneticalgorithm\u001b[0m \u001b[1;32mimport\u001b[0m \u001b[0mgeneticalgorithm\u001b[0m \u001b[1;32mas\u001b[0m \u001b[0mga\u001b[0m\u001b[1;33m\u001b[0m\u001b[1;33m\u001b[0m\u001b[0m\n\u001b[0m",
      "\u001b[1;31mModuleNotFoundError\u001b[0m: No module named 'geneticalgorithm'"
     ]
    }
   ],
   "source": [
    "from geneticalgorithm import geneticalgorithm as ga"
   ]
  },
  {
   "cell_type": "code",
   "execution_count": 46,
   "metadata": {},
   "outputs": [],
   "source": [
    "def cal_pop_fitness(equation_inputs, pop):\n",
    "    # Calculating the fitness value of each solution in the current population.\n",
    "    # The fitness function caulcuates the sum of products between each input and its corresponding weight.\n",
    "    fitness = numpy.sum(pop*equation_inputs, axis=1)\n",
    "    return fitness"
   ]
  },
  {
   "cell_type": "code",
   "execution_count": 52,
   "metadata": {},
   "outputs": [
    {
     "ename": "AttributeError",
     "evalue": "module 'ga' has no attribute 'cal_pop_fitness'",
     "output_type": "error",
     "traceback": [
      "\u001b[1;31m---------------------------------------------------------------------------\u001b[0m",
      "\u001b[1;31mAttributeError\u001b[0m                            Traceback (most recent call last)",
      "\u001b[1;32m<ipython-input-52-646068fe6ac6>\u001b[0m in \u001b[0;36m<module>\u001b[1;34m\u001b[0m\n\u001b[1;32m----> 1\u001b[1;33m \u001b[0mfitness\u001b[0m \u001b[1;33m=\u001b[0m \u001b[0mga\u001b[0m\u001b[1;33m.\u001b[0m\u001b[0mcal_pop_fitness\u001b[0m\u001b[1;33m(\u001b[0m\u001b[0mequation_inputs\u001b[0m\u001b[1;33m,\u001b[0m \u001b[0mnew_population\u001b[0m\u001b[1;33m)\u001b[0m\u001b[1;33m\u001b[0m\u001b[1;33m\u001b[0m\u001b[0m\n\u001b[0m",
      "\u001b[1;31mAttributeError\u001b[0m: module 'ga' has no attribute 'cal_pop_fitness'"
     ]
    }
   ],
   "source": [
    "fitness = ga.cal_pop_fitness(equation_inputs, new_population)"
   ]
  },
  {
   "cell_type": "code",
   "execution_count": 81,
   "metadata": {},
   "outputs": [
    {
     "ename": "AttributeError",
     "evalue": "module 'ga' has no attribute 'select_mating_pool'",
     "output_type": "error",
     "traceback": [
      "\u001b[1;31m---------------------------------------------------------------------------\u001b[0m",
      "\u001b[1;31mAttributeError\u001b[0m                            Traceback (most recent call last)",
      "\u001b[1;32m<ipython-input-81-2fd846a15d74>\u001b[0m in \u001b[0;36m<module>\u001b[1;34m\u001b[0m\n\u001b[1;32m----> 1\u001b[1;33m parents = ga.select_mating_pool(new_population, fitness, \n\u001b[0m\u001b[0;32m      2\u001b[0m                                      num_parents_mating)\n",
      "\u001b[1;31mAttributeError\u001b[0m: module 'ga' has no attribute 'select_mating_pool'"
     ]
    }
   ],
   "source": [
    " parents = ga.select_mating_pool(new_population, fitness, \n",
    "                                      num_parents_mating)\n"
   ]
  },
  {
   "cell_type": "code",
   "execution_count": 78,
   "metadata": {},
   "outputs": [],
   "source": [
    "def select_mating_pool(pop, fitness, num_parents):\n",
    "    # Selecting the best individuals in the current generation as parents for producing the offspring of the next generation.\n",
    "    parents = numpy.empty((num_parents, pop.shape[1]))\n",
    "    for parent_num in range(num_parents):\n",
    "        max_fitness_idx = numpy.where(fitness == numpy.max(fitness))\n",
    "        max_fitness_idx = max_fitness_idx[0][0]\n",
    "        parents[parent_num, :] = pop[max_fitness_idx, :]\n",
    "        fitness[max_fitness_idx] = -99999999999\n",
    "    return parents"
   ]
  },
  {
   "cell_type": "code",
   "execution_count": 82,
   "metadata": {},
   "outputs": [],
   "source": [
    "def crossover(parents, offspring_size):\n",
    "    offspring = numpy.empty(offspring_size)\n",
    "    # The point at which crossover takes place between two parents. Usually it is at the center.\n",
    "    crossover_point = numpy.uint8(offspring_size[1]/2)\n",
    "\n",
    "    for k in range(offspring_size[0]):\n",
    "        # Index of the first parent to mate.\n",
    "        parent1_idx = k%parents.shape[0]\n",
    "        # Index of the second parent to mate.\n",
    "        parent2_idx = (k+1)%parents.shape[0]\n",
    "        # The new offspring will have its first half of its genes taken from the first parent.\n",
    "        offspring[k, 0:crossover_point] = parents[parent1_idx, 0:crossover_point]\n",
    "        # The new offspring will have its second half of its genes taken from the second parent.\n",
    "        offspring[k, crossover_point:] = parents[parent2_idx, crossover_point:]\n",
    "    return offspring\n"
   ]
  },
  {
   "cell_type": "code",
   "execution_count": 83,
   "metadata": {},
   "outputs": [],
   "source": [
    "def mutation(offspring_crossover):\n",
    "    # Mutation changes a single gene in each offspring randomly.\n",
    "    for idx in range(offspring_crossover.shape[0]):\n",
    "        # The random value to be added to the gene.\n",
    "        random_value = numpy.random.uniform(-1.0, 1.0, 1)\n",
    "        offspring_crossover[idx, 4] = offspring_crossover[idx, 4] + random_value\n",
    "    return offspring_crossover"
   ]
  },
  {
   "cell_type": "code",
   "execution_count": 86,
   "metadata": {},
   "outputs": [
    {
     "ename": "AttributeError",
     "evalue": "module 'ga' has no attribute 'cal_pop_fitness'",
     "output_type": "error",
     "traceback": [
      "\u001b[1;31m---------------------------------------------------------------------------\u001b[0m",
      "\u001b[1;31mAttributeError\u001b[0m                            Traceback (most recent call last)",
      "\u001b[1;32m<ipython-input-86-646068fe6ac6>\u001b[0m in \u001b[0;36m<module>\u001b[1;34m\u001b[0m\n\u001b[1;32m----> 1\u001b[1;33m \u001b[0mfitness\u001b[0m \u001b[1;33m=\u001b[0m \u001b[0mga\u001b[0m\u001b[1;33m.\u001b[0m\u001b[0mcal_pop_fitness\u001b[0m\u001b[1;33m(\u001b[0m\u001b[0mequation_inputs\u001b[0m\u001b[1;33m,\u001b[0m \u001b[0mnew_population\u001b[0m\u001b[1;33m)\u001b[0m\u001b[1;33m\u001b[0m\u001b[1;33m\u001b[0m\u001b[0m\n\u001b[0m",
      "\u001b[1;31mAttributeError\u001b[0m: module 'ga' has no attribute 'cal_pop_fitness'"
     ]
    }
   ],
   "source": [
    "fitness = ga.cal_pop_fitness(equation_inputs, new_population)"
   ]
  },
  {
   "cell_type": "code",
   "execution_count": 102,
   "metadata": {},
   "outputs": [
    {
     "ename": "AttributeError",
     "evalue": "module 'ga' has no attribute 'cal_pop_fitness'",
     "output_type": "error",
     "traceback": [
      "\u001b[1;31m---------------------------------------------------------------------------\u001b[0m",
      "\u001b[1;31mAttributeError\u001b[0m                            Traceback (most recent call last)",
      "\u001b[1;32m<ipython-input-102-106aa836ae5a>\u001b[0m in \u001b[0;36m<module>\u001b[1;34m\u001b[0m\n\u001b[0;32m      5\u001b[0m \u001b[1;32mfor\u001b[0m \u001b[0mgeneration\u001b[0m \u001b[1;32min\u001b[0m \u001b[0mrange\u001b[0m\u001b[1;33m(\u001b[0m\u001b[0mnum_generations\u001b[0m\u001b[1;33m)\u001b[0m\u001b[1;33m:\u001b[0m\u001b[1;33m\u001b[0m\u001b[1;33m\u001b[0m\u001b[0m\n\u001b[0;32m      6\u001b[0m     \u001b[1;31m# Measuring the fitness of each chromosome in the population.\u001b[0m\u001b[1;33m\u001b[0m\u001b[1;33m\u001b[0m\u001b[1;33m\u001b[0m\u001b[0m\n\u001b[1;32m----> 7\u001b[1;33m     \u001b[0mfitness\u001b[0m \u001b[1;33m=\u001b[0m \u001b[0mga\u001b[0m\u001b[1;33m.\u001b[0m\u001b[0mcal_pop_fitness\u001b[0m\u001b[1;33m(\u001b[0m\u001b[0mequation_inputs\u001b[0m\u001b[1;33m,\u001b[0m \u001b[0mnew_population\u001b[0m\u001b[1;33m)\u001b[0m\u001b[1;33m\u001b[0m\u001b[1;33m\u001b[0m\u001b[0m\n\u001b[0m",
      "\u001b[1;31mAttributeError\u001b[0m: module 'ga' has no attribute 'cal_pop_fitness'"
     ]
    }
   ],
   "source": [
    "import ga\n",
    "num_generations = 5\n",
    "\n",
    "num_parents_mating = 4\n",
    "for generation in range(num_generations):\n",
    "    # Measuring the fitness of each chromosome in the population.\n",
    "    fitness = ga.cal_pop_fitness(equation_inputs, new_population)\n"
   ]
  },
  {
   "cell_type": "code",
   "execution_count": 98,
   "metadata": {},
   "outputs": [
    {
     "name": "stdout",
     "output_type": "stream",
     "text": [
      "Requirement already satisfied: GA in c:\\users\\user\\anaconda3\\lib\\site-packages (0.1.1.dev0)\n",
      "Note: you may need to restart the kernel to use updated packages.\n"
     ]
    }
   ],
   "source": [
    "pip install GA"
   ]
  },
  {
   "cell_type": "code",
   "execution_count": 112,
   "metadata": {},
   "outputs": [
    {
     "ename": "AttributeError",
     "evalue": "module 'ga' has no attribute 'select_mating_pool'",
     "output_type": "error",
     "traceback": [
      "\u001b[1;31m---------------------------------------------------------------------------\u001b[0m",
      "\u001b[1;31mAttributeError\u001b[0m                            Traceback (most recent call last)",
      "\u001b[1;32m<ipython-input-112-2fd846a15d74>\u001b[0m in \u001b[0;36m<module>\u001b[1;34m\u001b[0m\n\u001b[1;32m----> 1\u001b[1;33m parents = ga.select_mating_pool(new_population, fitness, \n\u001b[0m\u001b[0;32m      2\u001b[0m                                      num_parents_mating)\n",
      "\u001b[1;31mAttributeError\u001b[0m: module 'ga' has no attribute 'select_mating_pool'"
     ]
    }
   ],
   "source": [
    " parents = ga.select_mating_pool(new_population, fitness, \n",
    "                                      num_parents_mating)"
   ]
  },
  {
   "cell_type": "code",
   "execution_count": 113,
   "metadata": {},
   "outputs": [
    {
     "name": "stdout",
     "output_type": "stream",
     "text": [
      "Collecting pygad\n",
      "  Downloading pygad-2.10.2-py3-none-any.whl (41 kB)\n",
      "Requirement already satisfied: numpy in c:\\users\\user\\anaconda3\\lib\\site-packages (from pygad) (1.18.1)\n",
      "Requirement already satisfied: matplotlib in c:\\users\\user\\anaconda3\\lib\\site-packages (from pygad) (3.1.3)\n",
      "Requirement already satisfied: python-dateutil>=2.1 in c:\\users\\user\\anaconda3\\lib\\site-packages (from matplotlib->pygad) (2.8.1)\n",
      "Requirement already satisfied: kiwisolver>=1.0.1 in c:\\users\\user\\anaconda3\\lib\\site-packages (from matplotlib->pygad) (1.1.0)\n",
      "Requirement already satisfied: pyparsing!=2.0.4,!=2.1.2,!=2.1.6,>=2.0.1 in c:\\users\\user\\anaconda3\\lib\\site-packages (from matplotlib->pygad) (2.4.6)\n",
      "Requirement already satisfied: cycler>=0.10 in c:\\users\\user\\anaconda3\\lib\\site-packages (from matplotlib->pygad) (0.10.0)\n",
      "Requirement already satisfied: six>=1.5 in c:\\users\\user\\anaconda3\\lib\\site-packages (from python-dateutil>=2.1->matplotlib->pygad) (1.14.0)\n",
      "Requirement already satisfied: setuptools in c:\\users\\user\\anaconda3\\lib\\site-packages (from kiwisolver>=1.0.1->matplotlib->pygad) (45.2.0.post20200210)\n",
      "Installing collected packages: pygad\n",
      "Successfully installed pygad-2.10.2\n",
      "Note: you may need to restart the kernel to use updated packages.\n"
     ]
    }
   ],
   "source": [
    "pip install pygad"
   ]
  },
  {
   "cell_type": "code",
   "execution_count": 125,
   "metadata": {},
   "outputs": [],
   "source": [
    "import pygad"
   ]
  },
  {
   "cell_type": "code",
   "execution_count": 129,
   "metadata": {},
   "outputs": [],
   "source": [
    "import ga"
   ]
  },
  {
   "cell_type": "code",
   "execution_count": 131,
   "metadata": {},
   "outputs": [
    {
     "name": "stdout",
     "output_type": "stream",
     "text": [
      "Requirement already satisfied: ga in c:\\users\\user\\anaconda3\\lib\\site-packages (0.1.1.dev0)\n",
      "Note: you may need to restart the kernel to use updated packages.\n"
     ]
    }
   ],
   "source": [
    "pip install ga"
   ]
  },
  {
   "cell_type": "code",
   "execution_count": 126,
   "metadata": {},
   "outputs": [],
   "source": [
    "def cal_pop_fitness(equation_inputs, pop):\n",
    "    # Calculating the fitness value of each solution in the current population.\n",
    "    # The fitness function caulcuates the sum of products between each input and its corresponding weight.\n",
    "    fitness = numpy.sum(pop*equation_inputs, axis=1)\n",
    "    return fitness"
   ]
  },
  {
   "cell_type": "code",
   "execution_count": 130,
   "metadata": {},
   "outputs": [
    {
     "ename": "AttributeError",
     "evalue": "module 'ga' has no attribute 'cal_pop_fitness'",
     "output_type": "error",
     "traceback": [
      "\u001b[1;31m---------------------------------------------------------------------------\u001b[0m",
      "\u001b[1;31mAttributeError\u001b[0m                            Traceback (most recent call last)",
      "\u001b[1;32m<ipython-input-130-646068fe6ac6>\u001b[0m in \u001b[0;36m<module>\u001b[1;34m\u001b[0m\n\u001b[1;32m----> 1\u001b[1;33m \u001b[0mfitness\u001b[0m \u001b[1;33m=\u001b[0m \u001b[0mga\u001b[0m\u001b[1;33m.\u001b[0m\u001b[0mcal_pop_fitness\u001b[0m\u001b[1;33m(\u001b[0m\u001b[0mequation_inputs\u001b[0m\u001b[1;33m,\u001b[0m \u001b[0mnew_population\u001b[0m\u001b[1;33m)\u001b[0m\u001b[1;33m\u001b[0m\u001b[1;33m\u001b[0m\u001b[0m\n\u001b[0m",
      "\u001b[1;31mAttributeError\u001b[0m: module 'ga' has no attribute 'cal_pop_fitness'"
     ]
    }
   ],
   "source": [
    "fitness = ga.cal_pop_fitness(equation_inputs, new_population)"
   ]
  },
  {
   "cell_type": "code",
   "execution_count": null,
   "metadata": {},
   "outputs": [],
   "source": []
  }
 ],
 "metadata": {
  "kernelspec": {
   "display_name": "Python 3",
   "language": "python",
   "name": "python3"
  },
  "language_info": {
   "codemirror_mode": {
    "name": "ipython",
    "version": 3
   },
   "file_extension": ".py",
   "mimetype": "text/x-python",
   "name": "python",
   "nbconvert_exporter": "python",
   "pygments_lexer": "ipython3",
   "version": "3.7.6"
  }
 },
 "nbformat": 4,
 "nbformat_minor": 4
}
